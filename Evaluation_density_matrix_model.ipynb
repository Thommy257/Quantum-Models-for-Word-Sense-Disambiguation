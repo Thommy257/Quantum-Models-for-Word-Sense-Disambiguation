{
 "metadata": {
  "language_info": {
   "codemirror_mode": {
    "name": "ipython",
    "version": 3
   },
   "file_extension": ".py",
   "mimetype": "text/x-python",
   "name": "python",
   "nbconvert_exporter": "python",
   "pygments_lexer": "ipython3",
   "version": "3.8.5"
  },
  "orig_nbformat": 2,
  "kernelspec": {
   "name": "pythonjvsc74a57bd0597cb9212bb6505db551d0fa5a39e44e38662ecd79044286d7f1c9c46fe55c66",
   "display_name": "Python 3.8.5  ('venv': venv)"
  },
  "metadata": {
   "interpreter": {
    "hash": "597cb9212bb6505db551d0fa5a39e44e38662ecd79044286d7f1c9c46fe55c66"
   }
  }
 },
 "nbformat": 4,
 "nbformat_minor": 2,
 "cells": [
  {
   "source": [
    "## Check limit classically"
   ],
   "cell_type": "markdown",
   "metadata": {}
  },
  {
   "cell_type": "code",
   "execution_count": 1,
   "metadata": {},
   "outputs": [],
   "source": [
    "import json\n",
    "fiel_new_vectors = \"new_noun_vectors.json\"\n",
    "with open(fiel_new_vectors, 'r') as fp:\n",
    "    new_noun_vectors = json.load(fp)"
   ]
  },
  {
   "source": [
    "# start with file, register, smooth\n",
    "import numpy as np\n",
    "from words import sentences as sentences\n",
    "\n",
    "\n",
    "triplets = [\n",
    "    [\"register\", \"smooth\"],\n",
    "    [\"drip\", \"carry\"],\n",
    "    [\"knock\", \"intercept\"],\n",
    "    [\"bill\", \"accuse\"]\n",
    "]\n",
    "\n",
    "verb_vectors = {}\n",
    "true_sentences = {}\n",
    "for triplet in triplets:\n",
    "\n",
    "    \n",
    "    nouns, verbs = set(), set()\n",
    "    for sentence in sentences:\n",
    "        _s = sentence.split(\" \")\n",
    "        if _s[0] in triplet:\n",
    "            true_sentences[(_s[0],_s[1])] = int(_s[2][1])\n",
    "            verbs.add(_s[0])\n",
    "            nouns.add(_s[1])\n",
    "\n",
    "    n_verbs = len(verbs)\n",
    "    noun_list = list(nouns)\n",
    "    verb_list = list(verbs)\n",
    "    all_combinations = [(verb, noun) for verb in verb_list for noun in noun_list]\n",
    "    plausabilities = [true_sentences.get(sent,0) for sent in all_combinations]\n",
    "    S = np.array(plausabilities).reshape((n_verbs,len(nouns)))\n",
    "    N = np.array([new_noun_vectors[noun] for noun in noun_list]).transpose()\n",
    "\n",
    "    N_inv = np.linalg.pinv(N)\n",
    "    V = np.dot(S,N_inv)\n",
    "    v_calc = {verb: V[i]/np.linalg.norm(V[i]) for i,verb in enumerate(verbs)}\n",
    "    verb_vectors = {**verb_vectors, **v_calc}"
   ],
   "cell_type": "code",
   "metadata": {},
   "execution_count": 2,
   "outputs": []
  },
  {
   "cell_type": "code",
   "execution_count": 3,
   "metadata": {},
   "outputs": [
    {
     "output_type": "execute_result",
     "data": {
      "text/plain": [
       "{'register': array([-0.57859256,  0.50741707, -0.63811846,  0.02373601]),\n",
       " 'smooth': array([ 0.18083686,  0.81856903, -0.536361  , -0.09777349]),\n",
       " 'drip': array([ 0.43100218,  0.105271  , -0.49622952,  0.74626497]),\n",
       " 'carry': array([ 0.58359099, -0.12186328, -0.04324822, -0.80168603]),\n",
       " 'intercept': array([-0.28297369, -0.6653991 , -0.68762426, -0.06589991]),\n",
       " 'knock': array([ 0.85631379, -0.22077113, -0.42251512, -0.19866502]),\n",
       " 'bill': array([-0.67165941, -0.63748791,  0.32928983, -0.18452913]),\n",
       " 'accuse': array([-0.4054801 ,  0.77792403, -0.13044508, -0.46195691])}"
      ]
     },
     "metadata": {},
     "execution_count": 3
    }
   ],
   "source": [
    "verb_vectors"
   ]
  },
  {
   "cell_type": "code",
   "execution_count": 4,
   "metadata": {},
   "outputs": [
    {
     "output_type": "stream",
     "name": "stdout",
     "text": [
      "Baseline:  0.07233522757659573\n"
     ]
    }
   ],
   "source": [
    "loss = []\n",
    "for sentence in sentences:\n",
    "    _s = sentence.split(\" \")\n",
    "    true_result = int(_s[2][1])\n",
    "    try:\n",
    "        calc_result = np.abs(np.dot(new_noun_vectors[_s[1]],verb_vectors[_s[0]]))\n",
    "        loss.append((true_result-calc_result)**2)\n",
    "    except:\n",
    "        pass\n",
    "mse = np.mean(loss)\n",
    "print(\"Baseline: \", mse)"
   ]
  },
  {
   "cell_type": "code",
   "execution_count": 5,
   "metadata": {},
   "outputs": [],
   "source": [
    "folder = \"experiments/density_matrix_model\"\n",
    "evo_path = os.path.join(folder,\"evo.json\")\n",
    "with open(evo_path) as json_file:\n",
    "    evo = json.load(json_file)"
   ]
  },
  {
   "cell_type": "code",
   "execution_count": 6,
   "metadata": {},
   "outputs": [
    {
     "output_type": "display_data",
     "data": {
      "text/plain": "<Figure size 720x504 with 1 Axes>",
      "image/svg+xml": "<?xml version=\"1.0\" encoding=\"utf-8\" standalone=\"no\"?>\n<!DOCTYPE svg PUBLIC \"-//W3C//DTD SVG 1.1//EN\"\n  \"http://www.w3.org/Graphics/SVG/1.1/DTD/svg11.dtd\">\n<!-- Created with matplotlib (https://matplotlib.org/) -->\n<svg height=\"429.075469pt\" version=\"1.1\" viewBox=\"0 0 615.34375 429.075469\" width=\"615.34375pt\" xmlns=\"http://www.w3.org/2000/svg\" xmlns:xlink=\"http://www.w3.org/1999/xlink\">\n <defs>\n  <style type=\"text/css\">\n*{stroke-linecap:butt;stroke-linejoin:round;}\n  </style>\n </defs>\n <g id=\"figure_1\">\n  <g id=\"patch_1\">\n   <path d=\"M 0 429.075469 \nL 615.34375 429.075469 \nL 615.34375 0 \nL 0 0 \nz\n\" style=\"fill:none;\"/>\n  </g>\n  <g id=\"axes_1\">\n   <g id=\"patch_2\">\n    <path d=\"M 50.14375 391.519219 \nL 608.14375 391.519219 \nL 608.14375 10.999219 \nL 50.14375 10.999219 \nz\n\" style=\"fill:#ffffff;\"/>\n   </g>\n   <g id=\"matplotlib.axis_1\">\n    <g id=\"xtick_1\">\n     <g id=\"line2d_1\">\n      <defs>\n       <path d=\"M 0 0 \nL 0 3.5 \n\" id=\"m0666f55c30\" style=\"stroke:#000000;stroke-width:0.8;\"/>\n      </defs>\n      <g>\n       <use style=\"stroke:#000000;stroke-width:0.8;\" x=\"75.507386\" xlink:href=\"#m0666f55c30\" y=\"391.519219\"/>\n      </g>\n     </g>\n     <g id=\"text_1\">\n      <!-- 0 -->\n      <defs>\n       <path d=\"M 31.78125 66.40625 \nQ 24.171875 66.40625 20.328125 58.90625 \nQ 16.5 51.421875 16.5 36.375 \nQ 16.5 21.390625 20.328125 13.890625 \nQ 24.171875 6.390625 31.78125 6.390625 \nQ 39.453125 6.390625 43.28125 13.890625 \nQ 47.125 21.390625 47.125 36.375 \nQ 47.125 51.421875 43.28125 58.90625 \nQ 39.453125 66.40625 31.78125 66.40625 \nz\nM 31.78125 74.21875 \nQ 44.046875 74.21875 50.515625 64.515625 \nQ 56.984375 54.828125 56.984375 36.375 \nQ 56.984375 17.96875 50.515625 8.265625 \nQ 44.046875 -1.421875 31.78125 -1.421875 \nQ 19.53125 -1.421875 13.0625 8.265625 \nQ 6.59375 17.96875 6.59375 36.375 \nQ 6.59375 54.828125 13.0625 64.515625 \nQ 19.53125 74.21875 31.78125 74.21875 \nz\n\" id=\"DejaVuSans-48\"/>\n      </defs>\n      <g transform=\"translate(72.326136 406.117656)scale(0.1 -0.1)\">\n       <use xlink:href=\"#DejaVuSans-48\"/>\n      </g>\n     </g>\n    </g>\n    <g id=\"xtick_2\">\n     <g id=\"line2d_2\">\n      <g>\n       <use style=\"stroke:#000000;stroke-width:0.8;\" x=\"177.36938\" xlink:href=\"#m0666f55c30\" y=\"391.519219\"/>\n      </g>\n     </g>\n     <g id=\"text_2\">\n      <!-- 50 -->\n      <defs>\n       <path d=\"M 10.796875 72.90625 \nL 49.515625 72.90625 \nL 49.515625 64.59375 \nL 19.828125 64.59375 \nL 19.828125 46.734375 \nQ 21.96875 47.46875 24.109375 47.828125 \nQ 26.265625 48.1875 28.421875 48.1875 \nQ 40.625 48.1875 47.75 41.5 \nQ 54.890625 34.8125 54.890625 23.390625 \nQ 54.890625 11.625 47.5625 5.09375 \nQ 40.234375 -1.421875 26.90625 -1.421875 \nQ 22.3125 -1.421875 17.546875 -0.640625 \nQ 12.796875 0.140625 7.71875 1.703125 \nL 7.71875 11.625 \nQ 12.109375 9.234375 16.796875 8.0625 \nQ 21.484375 6.890625 26.703125 6.890625 \nQ 35.15625 6.890625 40.078125 11.328125 \nQ 45.015625 15.765625 45.015625 23.390625 \nQ 45.015625 31 40.078125 35.4375 \nQ 35.15625 39.890625 26.703125 39.890625 \nQ 22.75 39.890625 18.8125 39.015625 \nQ 14.890625 38.140625 10.796875 36.28125 \nz\n\" id=\"DejaVuSans-53\"/>\n      </defs>\n      <g transform=\"translate(171.00688 406.117656)scale(0.1 -0.1)\">\n       <use xlink:href=\"#DejaVuSans-53\"/>\n       <use x=\"63.623047\" xlink:href=\"#DejaVuSans-48\"/>\n      </g>\n     </g>\n    </g>\n    <g id=\"xtick_3\">\n     <g id=\"line2d_3\">\n      <g>\n       <use style=\"stroke:#000000;stroke-width:0.8;\" x=\"279.231373\" xlink:href=\"#m0666f55c30\" y=\"391.519219\"/>\n      </g>\n     </g>\n     <g id=\"text_3\">\n      <!-- 100 -->\n      <defs>\n       <path d=\"M 12.40625 8.296875 \nL 28.515625 8.296875 \nL 28.515625 63.921875 \nL 10.984375 60.40625 \nL 10.984375 69.390625 \nL 28.421875 72.90625 \nL 38.28125 72.90625 \nL 38.28125 8.296875 \nL 54.390625 8.296875 \nL 54.390625 0 \nL 12.40625 0 \nz\n\" id=\"DejaVuSans-49\"/>\n      </defs>\n      <g transform=\"translate(269.687623 406.117656)scale(0.1 -0.1)\">\n       <use xlink:href=\"#DejaVuSans-49\"/>\n       <use x=\"63.623047\" xlink:href=\"#DejaVuSans-48\"/>\n       <use x=\"127.246094\" xlink:href=\"#DejaVuSans-48\"/>\n      </g>\n     </g>\n    </g>\n    <g id=\"xtick_4\">\n     <g id=\"line2d_4\">\n      <g>\n       <use style=\"stroke:#000000;stroke-width:0.8;\" x=\"381.093367\" xlink:href=\"#m0666f55c30\" y=\"391.519219\"/>\n      </g>\n     </g>\n     <g id=\"text_4\">\n      <!-- 150 -->\n      <g transform=\"translate(371.549617 406.117656)scale(0.1 -0.1)\">\n       <use xlink:href=\"#DejaVuSans-49\"/>\n       <use x=\"63.623047\" xlink:href=\"#DejaVuSans-53\"/>\n       <use x=\"127.246094\" xlink:href=\"#DejaVuSans-48\"/>\n      </g>\n     </g>\n    </g>\n    <g id=\"xtick_5\">\n     <g id=\"line2d_5\">\n      <g>\n       <use style=\"stroke:#000000;stroke-width:0.8;\" x=\"482.95536\" xlink:href=\"#m0666f55c30\" y=\"391.519219\"/>\n      </g>\n     </g>\n     <g id=\"text_5\">\n      <!-- 200 -->\n      <defs>\n       <path d=\"M 19.1875 8.296875 \nL 53.609375 8.296875 \nL 53.609375 0 \nL 7.328125 0 \nL 7.328125 8.296875 \nQ 12.9375 14.109375 22.625 23.890625 \nQ 32.328125 33.6875 34.8125 36.53125 \nQ 39.546875 41.84375 41.421875 45.53125 \nQ 43.3125 49.21875 43.3125 52.78125 \nQ 43.3125 58.59375 39.234375 62.25 \nQ 35.15625 65.921875 28.609375 65.921875 \nQ 23.96875 65.921875 18.8125 64.3125 \nQ 13.671875 62.703125 7.8125 59.421875 \nL 7.8125 69.390625 \nQ 13.765625 71.78125 18.9375 73 \nQ 24.125 74.21875 28.421875 74.21875 \nQ 39.75 74.21875 46.484375 68.546875 \nQ 53.21875 62.890625 53.21875 53.421875 \nQ 53.21875 48.921875 51.53125 44.890625 \nQ 49.859375 40.875 45.40625 35.40625 \nQ 44.1875 33.984375 37.640625 27.21875 \nQ 31.109375 20.453125 19.1875 8.296875 \nz\n\" id=\"DejaVuSans-50\"/>\n      </defs>\n      <g transform=\"translate(473.41161 406.117656)scale(0.1 -0.1)\">\n       <use xlink:href=\"#DejaVuSans-50\"/>\n       <use x=\"63.623047\" xlink:href=\"#DejaVuSans-48\"/>\n       <use x=\"127.246094\" xlink:href=\"#DejaVuSans-48\"/>\n      </g>\n     </g>\n    </g>\n    <g id=\"xtick_6\">\n     <g id=\"line2d_6\">\n      <g>\n       <use style=\"stroke:#000000;stroke-width:0.8;\" x=\"584.817354\" xlink:href=\"#m0666f55c30\" y=\"391.519219\"/>\n      </g>\n     </g>\n     <g id=\"text_6\">\n      <!-- 250 -->\n      <g transform=\"translate(575.273604 406.117656)scale(0.1 -0.1)\">\n       <use xlink:href=\"#DejaVuSans-50\"/>\n       <use x=\"63.623047\" xlink:href=\"#DejaVuSans-53\"/>\n       <use x=\"127.246094\" xlink:href=\"#DejaVuSans-48\"/>\n      </g>\n     </g>\n    </g>\n    <g id=\"text_7\">\n     <!-- Epochs -->\n     <defs>\n      <path d=\"M 9.8125 72.90625 \nL 55.90625 72.90625 \nL 55.90625 64.59375 \nL 19.671875 64.59375 \nL 19.671875 43.015625 \nL 54.390625 43.015625 \nL 54.390625 34.71875 \nL 19.671875 34.71875 \nL 19.671875 8.296875 \nL 56.78125 8.296875 \nL 56.78125 0 \nL 9.8125 0 \nz\n\" id=\"DejaVuSans-69\"/>\n      <path d=\"M 18.109375 8.203125 \nL 18.109375 -20.796875 \nL 9.078125 -20.796875 \nL 9.078125 54.6875 \nL 18.109375 54.6875 \nL 18.109375 46.390625 \nQ 20.953125 51.265625 25.265625 53.625 \nQ 29.59375 56 35.59375 56 \nQ 45.5625 56 51.78125 48.09375 \nQ 58.015625 40.1875 58.015625 27.296875 \nQ 58.015625 14.40625 51.78125 6.484375 \nQ 45.5625 -1.421875 35.59375 -1.421875 \nQ 29.59375 -1.421875 25.265625 0.953125 \nQ 20.953125 3.328125 18.109375 8.203125 \nz\nM 48.6875 27.296875 \nQ 48.6875 37.203125 44.609375 42.84375 \nQ 40.53125 48.484375 33.40625 48.484375 \nQ 26.265625 48.484375 22.1875 42.84375 \nQ 18.109375 37.203125 18.109375 27.296875 \nQ 18.109375 17.390625 22.1875 11.75 \nQ 26.265625 6.109375 33.40625 6.109375 \nQ 40.53125 6.109375 44.609375 11.75 \nQ 48.6875 17.390625 48.6875 27.296875 \nz\n\" id=\"DejaVuSans-112\"/>\n      <path d=\"M 30.609375 48.390625 \nQ 23.390625 48.390625 19.1875 42.75 \nQ 14.984375 37.109375 14.984375 27.296875 \nQ 14.984375 17.484375 19.15625 11.84375 \nQ 23.34375 6.203125 30.609375 6.203125 \nQ 37.796875 6.203125 41.984375 11.859375 \nQ 46.1875 17.53125 46.1875 27.296875 \nQ 46.1875 37.015625 41.984375 42.703125 \nQ 37.796875 48.390625 30.609375 48.390625 \nz\nM 30.609375 56 \nQ 42.328125 56 49.015625 48.375 \nQ 55.71875 40.765625 55.71875 27.296875 \nQ 55.71875 13.875 49.015625 6.21875 \nQ 42.328125 -1.421875 30.609375 -1.421875 \nQ 18.84375 -1.421875 12.171875 6.21875 \nQ 5.515625 13.875 5.515625 27.296875 \nQ 5.515625 40.765625 12.171875 48.375 \nQ 18.84375 56 30.609375 56 \nz\n\" id=\"DejaVuSans-111\"/>\n      <path d=\"M 48.78125 52.59375 \nL 48.78125 44.1875 \nQ 44.96875 46.296875 41.140625 47.34375 \nQ 37.3125 48.390625 33.40625 48.390625 \nQ 24.65625 48.390625 19.8125 42.84375 \nQ 14.984375 37.3125 14.984375 27.296875 \nQ 14.984375 17.28125 19.8125 11.734375 \nQ 24.65625 6.203125 33.40625 6.203125 \nQ 37.3125 6.203125 41.140625 7.25 \nQ 44.96875 8.296875 48.78125 10.40625 \nL 48.78125 2.09375 \nQ 45.015625 0.34375 40.984375 -0.53125 \nQ 36.96875 -1.421875 32.421875 -1.421875 \nQ 20.0625 -1.421875 12.78125 6.34375 \nQ 5.515625 14.109375 5.515625 27.296875 \nQ 5.515625 40.671875 12.859375 48.328125 \nQ 20.21875 56 33.015625 56 \nQ 37.15625 56 41.109375 55.140625 \nQ 45.0625 54.296875 48.78125 52.59375 \nz\n\" id=\"DejaVuSans-99\"/>\n      <path d=\"M 54.890625 33.015625 \nL 54.890625 0 \nL 45.90625 0 \nL 45.90625 32.71875 \nQ 45.90625 40.484375 42.875 44.328125 \nQ 39.84375 48.1875 33.796875 48.1875 \nQ 26.515625 48.1875 22.3125 43.546875 \nQ 18.109375 38.921875 18.109375 30.90625 \nL 18.109375 0 \nL 9.078125 0 \nL 9.078125 75.984375 \nL 18.109375 75.984375 \nL 18.109375 46.1875 \nQ 21.34375 51.125 25.703125 53.5625 \nQ 30.078125 56 35.796875 56 \nQ 45.21875 56 50.046875 50.171875 \nQ 54.890625 44.34375 54.890625 33.015625 \nz\n\" id=\"DejaVuSans-104\"/>\n      <path d=\"M 44.28125 53.078125 \nL 44.28125 44.578125 \nQ 40.484375 46.53125 36.375 47.5 \nQ 32.28125 48.484375 27.875 48.484375 \nQ 21.1875 48.484375 17.84375 46.4375 \nQ 14.5 44.390625 14.5 40.28125 \nQ 14.5 37.15625 16.890625 35.375 \nQ 19.28125 33.59375 26.515625 31.984375 \nL 29.59375 31.296875 \nQ 39.15625 29.25 43.1875 25.515625 \nQ 47.21875 21.78125 47.21875 15.09375 \nQ 47.21875 7.46875 41.1875 3.015625 \nQ 35.15625 -1.421875 24.609375 -1.421875 \nQ 20.21875 -1.421875 15.453125 -0.5625 \nQ 10.6875 0.296875 5.421875 2 \nL 5.421875 11.28125 \nQ 10.40625 8.6875 15.234375 7.390625 \nQ 20.0625 6.109375 24.8125 6.109375 \nQ 31.15625 6.109375 34.5625 8.28125 \nQ 37.984375 10.453125 37.984375 14.40625 \nQ 37.984375 18.0625 35.515625 20.015625 \nQ 33.0625 21.96875 24.703125 23.78125 \nL 21.578125 24.515625 \nQ 13.234375 26.265625 9.515625 29.90625 \nQ 5.8125 33.546875 5.8125 39.890625 \nQ 5.8125 47.609375 11.28125 51.796875 \nQ 16.75 56 26.8125 56 \nQ 31.78125 56 36.171875 55.265625 \nQ 40.578125 54.546875 44.28125 53.078125 \nz\n\" id=\"DejaVuSans-115\"/>\n     </defs>\n     <g transform=\"translate(311.228125 419.795781)scale(0.1 -0.1)\">\n      <use xlink:href=\"#DejaVuSans-69\"/>\n      <use x=\"63.183594\" xlink:href=\"#DejaVuSans-112\"/>\n      <use x=\"126.660156\" xlink:href=\"#DejaVuSans-111\"/>\n      <use x=\"187.841797\" xlink:href=\"#DejaVuSans-99\"/>\n      <use x=\"242.822266\" xlink:href=\"#DejaVuSans-104\"/>\n      <use x=\"306.201172\" xlink:href=\"#DejaVuSans-115\"/>\n     </g>\n    </g>\n   </g>\n   <g id=\"matplotlib.axis_2\">\n    <g id=\"ytick_1\">\n     <g id=\"line2d_7\">\n      <defs>\n       <path d=\"M 0 0 \nL -3.5 0 \n\" id=\"m8be44edac1\" style=\"stroke:#000000;stroke-width:0.8;\"/>\n      </defs>\n      <g>\n       <use style=\"stroke:#000000;stroke-width:0.8;\" x=\"50.14375\" xlink:href=\"#m8be44edac1\" y=\"391.519219\"/>\n      </g>\n     </g>\n     <g id=\"text_8\">\n      <!-- 0.00 -->\n      <defs>\n       <path d=\"M 10.6875 12.40625 \nL 21 12.40625 \nL 21 0 \nL 10.6875 0 \nz\n\" id=\"DejaVuSans-46\"/>\n      </defs>\n      <g transform=\"translate(20.878125 395.318438)scale(0.1 -0.1)\">\n       <use xlink:href=\"#DejaVuSans-48\"/>\n       <use x=\"63.623047\" xlink:href=\"#DejaVuSans-46\"/>\n       <use x=\"95.410156\" xlink:href=\"#DejaVuSans-48\"/>\n       <use x=\"159.033203\" xlink:href=\"#DejaVuSans-48\"/>\n      </g>\n     </g>\n    </g>\n    <g id=\"ytick_2\">\n     <g id=\"line2d_8\">\n      <g>\n       <use style=\"stroke:#000000;stroke-width:0.8;\" x=\"50.14375\" xlink:href=\"#m8be44edac1\" y=\"328.099219\"/>\n      </g>\n     </g>\n     <g id=\"text_9\">\n      <!-- 0.05 -->\n      <g transform=\"translate(20.878125 331.898438)scale(0.1 -0.1)\">\n       <use xlink:href=\"#DejaVuSans-48\"/>\n       <use x=\"63.623047\" xlink:href=\"#DejaVuSans-46\"/>\n       <use x=\"95.410156\" xlink:href=\"#DejaVuSans-48\"/>\n       <use x=\"159.033203\" xlink:href=\"#DejaVuSans-53\"/>\n      </g>\n     </g>\n    </g>\n    <g id=\"ytick_3\">\n     <g id=\"line2d_9\">\n      <g>\n       <use style=\"stroke:#000000;stroke-width:0.8;\" x=\"50.14375\" xlink:href=\"#m8be44edac1\" y=\"264.679219\"/>\n      </g>\n     </g>\n     <g id=\"text_10\">\n      <!-- 0.10 -->\n      <g transform=\"translate(20.878125 268.478438)scale(0.1 -0.1)\">\n       <use xlink:href=\"#DejaVuSans-48\"/>\n       <use x=\"63.623047\" xlink:href=\"#DejaVuSans-46\"/>\n       <use x=\"95.410156\" xlink:href=\"#DejaVuSans-49\"/>\n       <use x=\"159.033203\" xlink:href=\"#DejaVuSans-48\"/>\n      </g>\n     </g>\n    </g>\n    <g id=\"ytick_4\">\n     <g id=\"line2d_10\">\n      <g>\n       <use style=\"stroke:#000000;stroke-width:0.8;\" x=\"50.14375\" xlink:href=\"#m8be44edac1\" y=\"201.259219\"/>\n      </g>\n     </g>\n     <g id=\"text_11\">\n      <!-- 0.15 -->\n      <g transform=\"translate(20.878125 205.058438)scale(0.1 -0.1)\">\n       <use xlink:href=\"#DejaVuSans-48\"/>\n       <use x=\"63.623047\" xlink:href=\"#DejaVuSans-46\"/>\n       <use x=\"95.410156\" xlink:href=\"#DejaVuSans-49\"/>\n       <use x=\"159.033203\" xlink:href=\"#DejaVuSans-53\"/>\n      </g>\n     </g>\n    </g>\n    <g id=\"ytick_5\">\n     <g id=\"line2d_11\">\n      <g>\n       <use style=\"stroke:#000000;stroke-width:0.8;\" x=\"50.14375\" xlink:href=\"#m8be44edac1\" y=\"137.839219\"/>\n      </g>\n     </g>\n     <g id=\"text_12\">\n      <!-- 0.20 -->\n      <g transform=\"translate(20.878125 141.638438)scale(0.1 -0.1)\">\n       <use xlink:href=\"#DejaVuSans-48\"/>\n       <use x=\"63.623047\" xlink:href=\"#DejaVuSans-46\"/>\n       <use x=\"95.410156\" xlink:href=\"#DejaVuSans-50\"/>\n       <use x=\"159.033203\" xlink:href=\"#DejaVuSans-48\"/>\n      </g>\n     </g>\n    </g>\n    <g id=\"ytick_6\">\n     <g id=\"line2d_12\">\n      <g>\n       <use style=\"stroke:#000000;stroke-width:0.8;\" x=\"50.14375\" xlink:href=\"#m8be44edac1\" y=\"74.419219\"/>\n      </g>\n     </g>\n     <g id=\"text_13\">\n      <!-- 0.25 -->\n      <g transform=\"translate(20.878125 78.218438)scale(0.1 -0.1)\">\n       <use xlink:href=\"#DejaVuSans-48\"/>\n       <use x=\"63.623047\" xlink:href=\"#DejaVuSans-46\"/>\n       <use x=\"95.410156\" xlink:href=\"#DejaVuSans-50\"/>\n       <use x=\"159.033203\" xlink:href=\"#DejaVuSans-53\"/>\n      </g>\n     </g>\n    </g>\n    <g id=\"ytick_7\">\n     <g id=\"line2d_13\">\n      <g>\n       <use style=\"stroke:#000000;stroke-width:0.8;\" x=\"50.14375\" xlink:href=\"#m8be44edac1\" y=\"10.999219\"/>\n      </g>\n     </g>\n     <g id=\"text_14\">\n      <!-- 0.30 -->\n      <defs>\n       <path d=\"M 40.578125 39.3125 \nQ 47.65625 37.796875 51.625 33 \nQ 55.609375 28.21875 55.609375 21.1875 \nQ 55.609375 10.40625 48.1875 4.484375 \nQ 40.765625 -1.421875 27.09375 -1.421875 \nQ 22.515625 -1.421875 17.65625 -0.515625 \nQ 12.796875 0.390625 7.625 2.203125 \nL 7.625 11.71875 \nQ 11.71875 9.328125 16.59375 8.109375 \nQ 21.484375 6.890625 26.8125 6.890625 \nQ 36.078125 6.890625 40.9375 10.546875 \nQ 45.796875 14.203125 45.796875 21.1875 \nQ 45.796875 27.640625 41.28125 31.265625 \nQ 36.765625 34.90625 28.71875 34.90625 \nL 20.21875 34.90625 \nL 20.21875 43.015625 \nL 29.109375 43.015625 \nQ 36.375 43.015625 40.234375 45.921875 \nQ 44.09375 48.828125 44.09375 54.296875 \nQ 44.09375 59.90625 40.109375 62.90625 \nQ 36.140625 65.921875 28.71875 65.921875 \nQ 24.65625 65.921875 20.015625 65.03125 \nQ 15.375 64.15625 9.8125 62.3125 \nL 9.8125 71.09375 \nQ 15.4375 72.65625 20.34375 73.4375 \nQ 25.25 74.21875 29.59375 74.21875 \nQ 40.828125 74.21875 47.359375 69.109375 \nQ 53.90625 64.015625 53.90625 55.328125 \nQ 53.90625 49.265625 50.4375 45.09375 \nQ 46.96875 40.921875 40.578125 39.3125 \nz\n\" id=\"DejaVuSans-51\"/>\n      </defs>\n      <g transform=\"translate(20.878125 14.798438)scale(0.1 -0.1)\">\n       <use xlink:href=\"#DejaVuSans-48\"/>\n       <use x=\"63.623047\" xlink:href=\"#DejaVuSans-46\"/>\n       <use x=\"95.410156\" xlink:href=\"#DejaVuSans-51\"/>\n       <use x=\"159.033203\" xlink:href=\"#DejaVuSans-48\"/>\n      </g>\n     </g>\n    </g>\n    <g id=\"text_15\">\n     <!-- MSE -->\n     <defs>\n      <path d=\"M 9.8125 72.90625 \nL 24.515625 72.90625 \nL 43.109375 23.296875 \nL 61.8125 72.90625 \nL 76.515625 72.90625 \nL 76.515625 0 \nL 66.890625 0 \nL 66.890625 64.015625 \nL 48.09375 14.015625 \nL 38.1875 14.015625 \nL 19.390625 64.015625 \nL 19.390625 0 \nL 9.8125 0 \nz\n\" id=\"DejaVuSans-77\"/>\n      <path d=\"M 53.515625 70.515625 \nL 53.515625 60.890625 \nQ 47.90625 63.578125 42.921875 64.890625 \nQ 37.9375 66.21875 33.296875 66.21875 \nQ 25.25 66.21875 20.875 63.09375 \nQ 16.5 59.96875 16.5 54.203125 \nQ 16.5 49.359375 19.40625 46.890625 \nQ 22.3125 44.4375 30.421875 42.921875 \nL 36.375 41.703125 \nQ 47.40625 39.59375 52.65625 34.296875 \nQ 57.90625 29 57.90625 20.125 \nQ 57.90625 9.515625 50.796875 4.046875 \nQ 43.703125 -1.421875 29.984375 -1.421875 \nQ 24.8125 -1.421875 18.96875 -0.25 \nQ 13.140625 0.921875 6.890625 3.21875 \nL 6.890625 13.375 \nQ 12.890625 10.015625 18.65625 8.296875 \nQ 24.421875 6.59375 29.984375 6.59375 \nQ 38.421875 6.59375 43.015625 9.90625 \nQ 47.609375 13.234375 47.609375 19.390625 \nQ 47.609375 24.75 44.3125 27.78125 \nQ 41.015625 30.8125 33.5 32.328125 \nL 27.484375 33.5 \nQ 16.453125 35.6875 11.515625 40.375 \nQ 6.59375 45.0625 6.59375 53.421875 \nQ 6.59375 63.09375 13.40625 68.65625 \nQ 20.21875 74.21875 32.171875 74.21875 \nQ 37.3125 74.21875 42.625 73.28125 \nQ 47.953125 72.359375 53.515625 70.515625 \nz\n\" id=\"DejaVuSans-83\"/>\n     </defs>\n     <g transform=\"translate(14.798437 211.906875)rotate(-90)scale(0.1 -0.1)\">\n      <use xlink:href=\"#DejaVuSans-77\"/>\n      <use x=\"86.279297\" xlink:href=\"#DejaVuSans-83\"/>\n      <use x=\"149.755859\" xlink:href=\"#DejaVuSans-69\"/>\n     </g>\n    </g>\n   </g>\n   <g id=\"line2d_14\">\n    <path clip-path=\"url(#peee707f23e)\" d=\"M 75.507386 52.541125 \nL 77.544626 23.728542 \nL 79.581866 79.670614 \nL 81.619106 42.205559 \nL 83.656346 72.138251 \nL 85.693586 120.295077 \nL 87.730826 83.833592 \nL 89.768065 57.496158 \nL 91.805305 46.122721 \nL 93.842545 81.999932 \nL 95.879785 120.116447 \nL 97.917025 121.214939 \nL 99.954265 120.037683 \nL 101.991505 112.581579 \nL 104.028745 140.385287 \nL 106.065984 150.712714 \nL 108.103224 139.475534 \nL 110.140464 160.384412 \nL 112.177704 132.081347 \nL 114.214944 135.103237 \nL 116.252184 153.846806 \nL 118.289424 153.263137 \nL 120.326663 178.837271 \nL 122.363903 198.270214 \nL 124.401143 188.334936 \nL 126.438383 195.379122 \nL 128.475623 183.130077 \nL 130.512863 197.825481 \nL 132.550103 174.684834 \nL 134.587343 169.958181 \nL 136.624582 175.688801 \nL 138.661822 188.317724 \nL 140.699062 191.541399 \nL 142.736302 191.320467 \nL 144.773542 218.703946 \nL 146.810782 220.368843 \nL 148.848022 205.696578 \nL 150.885262 202.043239 \nL 152.922501 188.898525 \nL 154.959741 202.788325 \nL 156.996981 204.101148 \nL 159.034221 199.740498 \nL 161.071461 208.828164 \nL 163.108701 209.695666 \nL 165.145941 199.947554 \nL 167.18318 202.577537 \nL 169.22042 202.848859 \nL 171.25766 204.27074 \nL 173.2949 198.092916 \nL 175.33214 205.627818 \nL 177.36938 197.548888 \nL 179.40662 204.117496 \nL 181.44386 201.795383 \nL 183.481099 213.300222 \nL 185.518339 204.82021 \nL 187.555579 210.065816 \nL 189.592819 208.311457 \nL 191.630059 202.801217 \nL 193.667299 206.571994 \nL 195.704539 202.44579 \nL 197.741778 192.671411 \nL 199.779018 211.207631 \nL 201.816258 208.748984 \nL 203.853498 221.127167 \nL 205.890738 222.984535 \nL 207.927978 220.222217 \nL 209.965218 213.596671 \nL 212.002458 211.068332 \nL 214.039697 217.272301 \nL 216.076937 219.36161 \nL 220.151417 224.757229 \nL 222.188657 222.598936 \nL 224.225897 222.430416 \nL 226.263137 223.738538 \nL 228.300377 228.458608 \nL 230.337616 229.089936 \nL 232.374856 223.199644 \nL 234.412096 226.926321 \nL 236.449336 224.784791 \nL 238.486576 220.701961 \nL 240.523816 217.273373 \nL 244.598295 226.756419 \nL 246.635535 228.989916 \nL 248.672775 228.381899 \nL 250.710015 228.995826 \nL 252.747255 234.430361 \nL 254.784495 236.475051 \nL 256.821735 234.665463 \nL 258.858975 235.593257 \nL 260.896214 229.167025 \nL 262.933454 226.479549 \nL 264.970694 229.031027 \nL 267.007934 230.038467 \nL 269.045174 225.072513 \nL 271.082414 225.747648 \nL 273.119654 227.454537 \nL 275.156893 233.2727 \nL 277.194133 230.556625 \nL 279.231373 231.930725 \nL 281.268613 225.445946 \nL 283.305853 227.497565 \nL 285.343093 228.831229 \nL 287.380333 229.095431 \nL 289.417573 226.051077 \nL 291.454812 226.339594 \nL 293.492052 228.306124 \nL 295.529292 229.85766 \nL 297.566532 232.862183 \nL 299.603772 232.937232 \nL 301.641012 227.884944 \nL 303.678252 228.292092 \nL 305.715492 226.739311 \nL 309.789971 225.960268 \nL 311.827211 225.930995 \nL 313.864451 227.776007 \nL 315.901691 227.419941 \nL 317.938931 228.976731 \nL 319.976171 228.320674 \nL 322.01341 229.84807 \nL 324.05065 232.168126 \nL 326.08789 231.723721 \nL 328.12513 230.390714 \nL 330.16237 229.333903 \nL 332.19961 228.697546 \nL 334.23685 228.497368 \nL 336.27409 229.034293 \nL 338.311329 230.668552 \nL 340.348569 228.220533 \nL 342.385809 232.47769 \nL 344.423049 230.443023 \nL 348.497529 229.90729 \nL 350.534769 231.611363 \nL 352.572008 230.607482 \nL 354.609248 234.475532 \nL 356.646488 235.688836 \nL 358.683728 235.021339 \nL 360.720968 230.599326 \nL 362.758208 234.117738 \nL 364.795448 232.037329 \nL 366.832688 232.093163 \nL 368.869927 231.533427 \nL 370.907167 230.643512 \nL 372.944407 230.605028 \nL 374.981647 230.150359 \nL 377.018887 228.066114 \nL 379.056127 225.73035 \nL 381.093367 231.157419 \nL 383.130607 232.226862 \nL 385.167846 231.960154 \nL 387.205086 229.801049 \nL 389.242326 231.775062 \nL 391.279566 234.947206 \nL 393.316806 229.344375 \nL 395.354046 233.668235 \nL 397.391286 235.347009 \nL 399.428525 232.139924 \nL 401.465765 227.352443 \nL 403.503005 232.184767 \nL 405.540245 223.797085 \nL 407.577485 221.503849 \nL 409.614725 230.347513 \nL 411.651965 229.209086 \nL 413.689205 227.084767 \nL 415.726444 232.965365 \nL 417.763684 231.105889 \nL 419.800924 230.482993 \nL 421.838164 235.209369 \nL 423.875404 236.000267 \nL 425.912644 236.494491 \nL 427.949884 234.122248 \nL 429.987123 232.195861 \nL 432.024363 235.724365 \nL 434.061603 236.207305 \nL 440.173323 238.034865 \nL 442.210563 240.147087 \nL 444.247803 243.143211 \nL 446.285042 240.667596 \nL 450.359522 241.978397 \nL 452.396762 239.566771 \nL 454.434002 241.356434 \nL 456.471242 242.993596 \nL 458.508482 241.22721 \nL 460.545722 240.798098 \nL 462.582961 238.657588 \nL 464.620201 241.219002 \nL 466.657441 236.077684 \nL 468.694681 234.702634 \nL 470.731921 231.848539 \nL 472.769161 234.022003 \nL 474.806401 232.648318 \nL 476.84364 231.848504 \nL 478.88088 237.133804 \nL 480.91812 237.56568 \nL 482.95536 238.394024 \nL 484.9926 235.039639 \nL 487.02984 236.988111 \nL 489.06708 235.006063 \nL 491.10432 232.20063 \nL 493.141559 234.78387 \nL 495.178799 235.421609 \nL 497.216039 235.745931 \nL 499.253279 235.032192 \nL 501.290519 236.589483 \nL 503.327759 229.061873 \nL 505.364999 230.736309 \nL 507.402238 237.747955 \nL 509.439478 229.404045 \nL 511.476718 233.498039 \nL 513.513958 234.516746 \nL 515.551198 238.597123 \nL 517.588438 231.733277 \nL 519.625678 235.28727 \nL 521.662918 234.281368 \nL 523.700157 236.554559 \nL 525.737397 236.507555 \nL 527.774637 238.835491 \nL 529.811877 235.126025 \nL 531.849117 235.43806 \nL 533.886357 237.017747 \nL 535.923597 238.816932 \nL 537.960837 237.442348 \nL 539.998076 241.245717 \nL 542.035316 242.094747 \nL 544.072556 241.11105 \nL 546.109796 240.2652 \nL 548.147036 239.814851 \nL 550.184276 240.021146 \nL 552.221516 237.669709 \nL 554.258755 240.523942 \nL 556.295995 237.498441 \nL 558.333235 240.934667 \nL 560.370475 242.582215 \nL 562.407715 241.923928 \nL 564.444955 240.160151 \nL 566.482195 239.311018 \nL 568.519435 238.195073 \nL 570.556674 234.333088 \nL 572.593914 235.216351 \nL 574.631154 233.0705 \nL 576.668394 232.598654 \nL 578.705634 231.762412 \nL 580.742874 233.360071 \nL 582.780114 233.417581 \nL 582.780114 233.417581 \n\" style=\"fill:none;stroke:#0000ff;stroke-linecap:square;stroke-width:1.5;\"/>\n   </g>\n   <g id=\"line2d_15\">\n    <path clip-path=\"url(#peee707f23e)\" d=\"M 75.507386 299.769216 \nL 582.780114 299.769216 \nL 582.780114 299.769216 \n\" style=\"fill:none;stroke:#ff0000;stroke-dasharray:5.55,2.4;stroke-dashoffset:0;stroke-width:1.5;\"/>\n   </g>\n   <g id=\"patch_3\">\n    <path d=\"M 50.14375 391.519219 \nL 50.14375 10.999219 \n\" style=\"fill:none;stroke:#000000;stroke-linecap:square;stroke-linejoin:miter;stroke-width:0.8;\"/>\n   </g>\n   <g id=\"patch_4\">\n    <path d=\"M 608.14375 391.519219 \nL 608.14375 10.999219 \n\" style=\"fill:none;stroke:#000000;stroke-linecap:square;stroke-linejoin:miter;stroke-width:0.8;\"/>\n   </g>\n   <g id=\"patch_5\">\n    <path d=\"M 50.14375 391.519219 \nL 608.14375 391.519219 \n\" style=\"fill:none;stroke:#000000;stroke-linecap:square;stroke-linejoin:miter;stroke-width:0.8;\"/>\n   </g>\n   <g id=\"patch_6\">\n    <path d=\"M 50.14375 10.999219 \nL 608.14375 10.999219 \n\" style=\"fill:none;stroke:#000000;stroke-linecap:square;stroke-linejoin:miter;stroke-width:0.8;\"/>\n   </g>\n   <g id=\"legend_1\">\n    <g id=\"patch_7\">\n     <path d=\"M 494.903437 63.297969 \nL 598.34375 63.297969 \nQ 601.14375 63.297969 601.14375 60.497969 \nL 601.14375 20.799219 \nQ 601.14375 17.999219 598.34375 17.999219 \nL 494.903437 17.999219 \nQ 492.103437 17.999219 492.103437 20.799219 \nL 492.103437 60.497969 \nQ 492.103437 63.297969 494.903437 63.297969 \nz\n\" style=\"fill:#ffffff;opacity:0.8;stroke:#cccccc;stroke-linejoin:miter;\"/>\n    </g>\n    <g id=\"line2d_16\">\n     <path d=\"M 497.703438 29.337031 \nL 525.703438 29.337031 \n\" style=\"fill:none;stroke:#0000ff;stroke-linecap:square;stroke-width:1.5;\"/>\n    </g>\n    <g id=\"line2d_17\"/>\n    <g id=\"text_16\">\n     <!-- loss -->\n     <defs>\n      <path d=\"M 9.421875 75.984375 \nL 18.40625 75.984375 \nL 18.40625 0 \nL 9.421875 0 \nz\n\" id=\"DejaVuSans-108\"/>\n     </defs>\n     <g transform=\"translate(536.903437 34.237031)scale(0.14 -0.14)\">\n      <use xlink:href=\"#DejaVuSans-108\"/>\n      <use x=\"27.783203\" xlink:href=\"#DejaVuSans-111\"/>\n      <use x=\"88.964844\" xlink:href=\"#DejaVuSans-115\"/>\n      <use x=\"141.064453\" xlink:href=\"#DejaVuSans-115\"/>\n     </g>\n    </g>\n    <g id=\"line2d_18\">\n     <path d=\"M 497.703438 49.886406 \nL 525.703438 49.886406 \n\" style=\"fill:none;stroke:#ff0000;stroke-dasharray:5.55,2.4;stroke-dashoffset:0;stroke-width:1.5;\"/>\n    </g>\n    <g id=\"line2d_19\"/>\n    <g id=\"text_17\">\n     <!-- baseline -->\n     <defs>\n      <path d=\"M 48.6875 27.296875 \nQ 48.6875 37.203125 44.609375 42.84375 \nQ 40.53125 48.484375 33.40625 48.484375 \nQ 26.265625 48.484375 22.1875 42.84375 \nQ 18.109375 37.203125 18.109375 27.296875 \nQ 18.109375 17.390625 22.1875 11.75 \nQ 26.265625 6.109375 33.40625 6.109375 \nQ 40.53125 6.109375 44.609375 11.75 \nQ 48.6875 17.390625 48.6875 27.296875 \nz\nM 18.109375 46.390625 \nQ 20.953125 51.265625 25.265625 53.625 \nQ 29.59375 56 35.59375 56 \nQ 45.5625 56 51.78125 48.09375 \nQ 58.015625 40.1875 58.015625 27.296875 \nQ 58.015625 14.40625 51.78125 6.484375 \nQ 45.5625 -1.421875 35.59375 -1.421875 \nQ 29.59375 -1.421875 25.265625 0.953125 \nQ 20.953125 3.328125 18.109375 8.203125 \nL 18.109375 0 \nL 9.078125 0 \nL 9.078125 75.984375 \nL 18.109375 75.984375 \nz\n\" id=\"DejaVuSans-98\"/>\n      <path d=\"M 34.28125 27.484375 \nQ 23.390625 27.484375 19.1875 25 \nQ 14.984375 22.515625 14.984375 16.5 \nQ 14.984375 11.71875 18.140625 8.90625 \nQ 21.296875 6.109375 26.703125 6.109375 \nQ 34.1875 6.109375 38.703125 11.40625 \nQ 43.21875 16.703125 43.21875 25.484375 \nL 43.21875 27.484375 \nz\nM 52.203125 31.203125 \nL 52.203125 0 \nL 43.21875 0 \nL 43.21875 8.296875 \nQ 40.140625 3.328125 35.546875 0.953125 \nQ 30.953125 -1.421875 24.3125 -1.421875 \nQ 15.921875 -1.421875 10.953125 3.296875 \nQ 6 8.015625 6 15.921875 \nQ 6 25.140625 12.171875 29.828125 \nQ 18.359375 34.515625 30.609375 34.515625 \nL 43.21875 34.515625 \nL 43.21875 35.40625 \nQ 43.21875 41.609375 39.140625 45 \nQ 35.0625 48.390625 27.6875 48.390625 \nQ 23 48.390625 18.546875 47.265625 \nQ 14.109375 46.140625 10.015625 43.890625 \nL 10.015625 52.203125 \nQ 14.9375 54.109375 19.578125 55.046875 \nQ 24.21875 56 28.609375 56 \nQ 40.484375 56 46.34375 49.84375 \nQ 52.203125 43.703125 52.203125 31.203125 \nz\n\" id=\"DejaVuSans-97\"/>\n      <path d=\"M 56.203125 29.59375 \nL 56.203125 25.203125 \nL 14.890625 25.203125 \nQ 15.484375 15.921875 20.484375 11.0625 \nQ 25.484375 6.203125 34.421875 6.203125 \nQ 39.59375 6.203125 44.453125 7.46875 \nQ 49.3125 8.734375 54.109375 11.28125 \nL 54.109375 2.78125 \nQ 49.265625 0.734375 44.1875 -0.34375 \nQ 39.109375 -1.421875 33.890625 -1.421875 \nQ 20.796875 -1.421875 13.15625 6.1875 \nQ 5.515625 13.8125 5.515625 26.8125 \nQ 5.515625 40.234375 12.765625 48.109375 \nQ 20.015625 56 32.328125 56 \nQ 43.359375 56 49.78125 48.890625 \nQ 56.203125 41.796875 56.203125 29.59375 \nz\nM 47.21875 32.234375 \nQ 47.125 39.59375 43.09375 43.984375 \nQ 39.0625 48.390625 32.421875 48.390625 \nQ 24.90625 48.390625 20.390625 44.140625 \nQ 15.875 39.890625 15.1875 32.171875 \nz\n\" id=\"DejaVuSans-101\"/>\n      <path d=\"M 9.421875 54.6875 \nL 18.40625 54.6875 \nL 18.40625 0 \nL 9.421875 0 \nz\nM 9.421875 75.984375 \nL 18.40625 75.984375 \nL 18.40625 64.59375 \nL 9.421875 64.59375 \nz\n\" id=\"DejaVuSans-105\"/>\n      <path d=\"M 54.890625 33.015625 \nL 54.890625 0 \nL 45.90625 0 \nL 45.90625 32.71875 \nQ 45.90625 40.484375 42.875 44.328125 \nQ 39.84375 48.1875 33.796875 48.1875 \nQ 26.515625 48.1875 22.3125 43.546875 \nQ 18.109375 38.921875 18.109375 30.90625 \nL 18.109375 0 \nL 9.078125 0 \nL 9.078125 54.6875 \nL 18.109375 54.6875 \nL 18.109375 46.1875 \nQ 21.34375 51.125 25.703125 53.5625 \nQ 30.078125 56 35.796875 56 \nQ 45.21875 56 50.046875 50.171875 \nQ 54.890625 44.34375 54.890625 33.015625 \nz\n\" id=\"DejaVuSans-110\"/>\n     </defs>\n     <g transform=\"translate(536.903437 54.786406)scale(0.14 -0.14)\">\n      <use xlink:href=\"#DejaVuSans-98\"/>\n      <use x=\"63.476562\" xlink:href=\"#DejaVuSans-97\"/>\n      <use x=\"124.755859\" xlink:href=\"#DejaVuSans-115\"/>\n      <use x=\"176.855469\" xlink:href=\"#DejaVuSans-101\"/>\n      <use x=\"238.378906\" xlink:href=\"#DejaVuSans-108\"/>\n      <use x=\"266.162109\" xlink:href=\"#DejaVuSans-105\"/>\n      <use x=\"293.945312\" xlink:href=\"#DejaVuSans-110\"/>\n      <use x=\"357.324219\" xlink:href=\"#DejaVuSans-101\"/>\n     </g>\n    </g>\n   </g>\n  </g>\n </g>\n <defs>\n  <clipPath id=\"peee707f23e\">\n   <rect height=\"380.52\" width=\"558\" x=\"50.14375\" y=\"10.999219\"/>\n  </clipPath>\n </defs>\n</svg>\n",
      "image/png": "[encoded data removed]"
     },
     "metadata": {
      "needs_background": "light"
     }
    }
   ],
   "source": [
    "import matplotlib.pyplot as plt\n",
    "\n",
    "dims = (10,7)\n",
    "fig, ax = plt.subplots(figsize=dims)\n",
    "plt.rcParams[\"font.size\"] = \"14\"\n",
    "plt.plot(range(len(evo)), evo, '-b', label='loss')\n",
    "plt.plot(range(len(evo)), [mse]*len(evo), '--r', label='baseline')\n",
    "plt.ylim([0,0.3])\n",
    "plt.xlabel(\"Epochs\")\n",
    "plt.ylabel(\"MSE\")\n",
    "plt.legend(loc='upper right')\n",
    "#plt.title(\"temp\")\n",
    "plt.savefig(\"../report/figure/results/spsa_density_matrix_fit.pdf\")"
   ]
  },
  {
   "source": [
    "## Calculate density matrices from quantum fits"
   ],
   "cell_type": "markdown",
   "metadata": {}
  },
  {
   "cell_type": "code",
   "execution_count": 7,
   "metadata": {},
   "outputs": [
    {
     "output_type": "stream",
     "name": "stdout",
     "text": [
      "{'p': [0.5952880307102117, 0.9639360097153454, 0.6336371774276015, 0.8755335714046495, 0.28521670010034494, 0.12898488095311456], 'learn': True}\n"
     ]
    }
   ],
   "source": [
    "# load the best fit\n",
    "with open(os.path.join(folder,\"params.json\"), 'r') as fp:\n",
    "    quantum_params = json.load(fp)\n",
    "print(quantum_params[\"register\"])"
   ]
  },
  {
   "cell_type": "code",
   "execution_count": 8,
   "metadata": {},
   "outputs": [],
   "source": [
    "# load the quantum ansätze\n",
    "from discopy.quantum import CX, Circuit, CRz, H, Ket, Rx, Rz, Ry, X, sqrt, C, SWAP, CRy, Bra\n",
    "n_verb_params = 6\n",
    "\n",
    "\n",
    "def verb_ansatz(p):\n",
    "    return Ket(0,0) >> \\\n",
    "        Rx(p[0]) @ Rx(p[1]) >> \\\n",
    "        Ry(p[2]) @ Ry(p[3]) >> \\\n",
    "        Rz(p[4]) @ Rz(p[5]) >> \\\n",
    "        CX >> SWAP >> CX >> SWAP \n",
    "        \n",
    "def noun_ansatz(arr):\n",
    "    a1 = np.linalg.norm(arr[0:2])\n",
    "    a2 = np.linalg.norm(arr[2:])\n",
    "    phi1 = np.arccos(a1)/np.pi\n",
    "\n",
    "    # fix issues with rotations\n",
    "    rot1 = arr[0:2]/a1\n",
    "    phi2_cos = np.arccos(rot1[0])/np.pi\n",
    "    phi2_sin = np.arcsin(rot1[1])/np.pi\n",
    "    if not np.sign(phi2_cos) == np.sign(phi2_sin):\n",
    "        phi2_cos *= -1\n",
    "    rot2 = arr[2: ]/a2\n",
    "    phi3_cos = np.arccos(rot2[0])/np.pi\n",
    "    phi3_sin = np.arcsin(rot2[1])/np.pi\n",
    "    if not np.sign(phi3_cos) == np.sign(phi3_sin):\n",
    "        phi3_cos *= -1\n",
    "\n",
    "    return Ket(0,0) >> Ry(phi1) @ Circuit.id(1) >> CRy(phi3_cos) >> X @ Circuit.id(1) >> CRy(phi2_cos) >> X @ Circuit.id(1)"
   ]
  },
  {
   "source": [
    "### start with \"file\""
   ],
   "cell_type": "markdown",
   "metadata": {}
  },
  {
   "cell_type": "code",
   "execution_count": 9,
   "metadata": {},
   "outputs": [],
   "source": [
    "## quantum model\n",
    "verb_states = {verb: verb_ansatz(quantum_params[verb][\"p\"]).eval().array.flatten() for verb in verb_vectors}\n",
    "noun_states = {noun: noun_ansatz(quantum_params[noun][\"p\"]).eval().array.flatten() for noun in new_noun_vectors}\n",
    "\n",
    "# purely classical model\n",
    "#verb_states = verb_vectors\n",
    "#noun_states = new_noun_vectors"
   ]
  },
  {
   "cell_type": "code",
   "execution_count": 10,
   "metadata": {},
   "outputs": [
    {
     "output_type": "stream",
     "name": "stdout",
     "text": [
      "Classically calc MSE:  0.10053607154709776\n"
     ]
    }
   ],
   "source": [
    "#classically calculated loss\n",
    "loss = []\n",
    "k=0\n",
    "for sentence in sentences:\n",
    "    _s = sentence.split(\" \")\n",
    "    true_result = int(_s[2][1])\n",
    "    try:\n",
    "        calc_result = np.abs(np.dot(noun_states[_s[1]],verb_states[_s[0]]))\n",
    "        #print(sentence)\n",
    "        #print(calc_result)\n",
    "        loss.append((true_result-calc_result)**2)\n",
    "    except:\n",
    "        pass\n",
    "    \n",
    "mse = np.mean(loss)\n",
    "#print(loss)\n",
    "print(\"Classically calc MSE: \", mse)"
   ]
  },
  {
   "cell_type": "code",
   "execution_count": 11,
   "metadata": {},
   "outputs": [
    {
     "output_type": "execute_result",
     "data": {
      "text/plain": [
       "0.9022355153746857"
      ]
     },
     "metadata": {},
     "execution_count": 11
    }
   ],
   "source": [
    "verb = verb_states[\"smooth\"]\n",
    "noun = noun_states[\"tooth\"]\n",
    "np.abs(np.dot(verb,noun))**2"
   ]
  },
  {
   "cell_type": "code",
   "execution_count": 12,
   "metadata": {},
   "outputs": [
    {
     "output_type": "stream",
     "name": "stdout",
     "text": [
      "[[ 0.439+0.j     0.052+0.112j  0.024-0.034j -0.152-0.079j]\n [ 0.052-0.112j  0.446+0.j    -0.128-0.059j -0.019+0.048j]\n [ 0.024+0.034j -0.128+0.059j  0.046+0.j    -0.01 -0.019j]\n [-0.152+0.079j -0.019-0.048j -0.01 +0.019j  0.069+0.j   ]]\n"
     ]
    }
   ],
   "source": [
    "rho_file = 1/2 * np.outer(np.conj(verb_states[\"register\"]),verb_states[\"register\"]) + \\\n",
    "    1/2 * np.outer(np.conj(verb_states[\"smooth\"]),verb_states[\"smooth\"])\n",
    "print(rho_file.round(3))"
   ]
  },
  {
   "cell_type": "code",
   "execution_count": 13,
   "metadata": {},
   "outputs": [
    {
     "output_type": "execute_result",
     "data": {
      "text/plain": [
       "0.6553790517603129"
      ]
     },
     "metadata": {},
     "execution_count": 13
    }
   ],
   "source": [
    "from scipy.linalg import logm\n",
    "def von_neumann_entropy(rho):\n",
    "    return np.abs(np.trace(np.dot(rho, logm(rho))))\n",
    "\n",
    "von_neumann_entropy(rho_file)"
   ]
  },
  {
   "cell_type": "code",
   "execution_count": 14,
   "metadata": {},
   "outputs": [
    {
     "output_type": "execute_result",
     "data": {
      "text/plain": [
       "0.4842888128809583"
      ]
     },
     "metadata": {},
     "execution_count": 14
    }
   ],
   "source": [
    "rho_account = np.outer(np.conj(noun_states[\"account\"]),noun_states[\"account\"])\n",
    "von_neumann_entropy(rho_account).round(5)\n",
    "von_neumann_entropy(np.multiply(rho_account,rho_file))"
   ]
  },
  {
   "cell_type": "code",
   "execution_count": 15,
   "metadata": {
    "tags": []
   },
   "outputs": [
    {
     "output_type": "stream",
     "name": "stderr",
     "text": [
      "/home/thomas/Studies/CAS/4th_semester/Masterthesis/code/venv/lib/python3.8/site-packages/scipy/linalg/_matfuncs_inv_ssq.py:827: LogmExactlySingularWarning: The logm input matrix is exactly singular.\n",
      "  warnings.warn(exact_singularity_msg, LogmExactlySingularWarning)\n",
      "/home/thomas/Studies/CAS/4th_semester/Masterthesis/code/venv/lib/python3.8/site-packages/scipy/linalg/_matfuncs_inv_ssq.py:836: LogmNearlySingularWarning: The logm input matrix may be nearly singular.\n",
      "  warnings.warn(near_singularity_msg, LogmNearlySingularWarning)\n",
      "{'charge': {'disamb': {'commission': 0.6387282953882493,\n",
      "                       'defendant': 0.20679352162472575,\n",
      "                       'demonstrator': 0.347015699397714,\n",
      "                       'fee': 0.566807660472952,\n",
      "                       'interest': 0.36252428754810573,\n",
      "                       'offender': 0.3037025826922915,\n",
      "                       'person': 0.31494175987588435,\n",
      "                       'price': 0.05879063182088217,\n",
      "                       'rate': 0.5553396594004961,\n",
      "                       'rent': 0.23984995690107128},\n",
      "            'init': 0.6456277006524902,\n",
      "            'rand': [0.6042541984396352,\n",
      "                     0.6241858210188054,\n",
      "                     0.3973300671150833,\n",
      "                     0.4345950305512881,\n",
      "                     0.5872015680968452,\n",
      "                     0.5355103195786913,\n",
      "                     0.5935445650912061,\n",
      "                     0.5320947066224943,\n",
      "                     0.6114629938187598,\n",
      "                     0.3548320494538616,\n",
      "                     0.5677485227875078,\n",
      "                     0.6081199289085867,\n",
      "                     0.18414084800369945,\n",
      "                     0.3912327442525968,\n",
      "                     0.5877786284956681,\n",
      "                     0.3292634962748406,\n",
      "                     0.4837224846912579,\n",
      "                     0.5066319766614218,\n",
      "                     0.5349830312932775,\n",
      "                     0.5539338627718116,\n",
      "                     0.5183481027150352,\n",
      "                     0.5713271744985754,\n",
      "                     0.6029311389900892,\n",
      "                     0.6440600681306137,\n",
      "                     0.6274816924750806,\n",
      "                     0.19301369674752697,\n",
      "                     0.5378006872780511,\n",
      "                     0.6167356888146294,\n",
      "                     0.6255321804325339,\n",
      "                     0.5589318436298325,\n",
      "                     0.5175766914079067,\n",
      "                     0.5881174025382391,\n",
      "                     0.5328266724045767,\n",
      "                     0.5920535943095298,\n",
      "                     0.5928571965906178,\n",
      "                     0.6361768563367622,\n",
      "                     0.5061143030912594,\n",
      "                     0.5500847184877328,\n",
      "                     0.3117810403776925,\n",
      "                     0.18352870962858692,\n",
      "                     0.5843659580125581,\n",
      "                     0.5996833304078324,\n",
      "                     0.5903971438179174,\n",
      "                     0.3340538232383553,\n",
      "                     0.5932808998827196,\n",
      "                     0.30746431943345154,\n",
      "                     0.6165809598507151,\n",
      "                     0.5393343142343352,\n",
      "                     0.6498562469411606,\n",
      "                     0.5240829667771756,\n",
      "                     0.5217631482751137,\n",
      "                     0.6281238017537343,\n",
      "                     0.6401402182030842,\n",
      "                     0.6079897753571027,\n",
      "                     0.5858040926451153,\n",
      "                     0.46017474292944055,\n",
      "                     0.6107224723588232,\n",
      "                     0.5641229917123078,\n",
      "                     0.5520692554267992,\n",
      "                     0.5738055593110418,\n",
      "                     0.46091817716373645,\n",
      "                     0.2879927024639054,\n",
      "                     0.614500810380388,\n",
      "                     0.25175759181878626,\n",
      "                     0.35867286928572156,\n",
      "                     0.5680368258392561,\n",
      "                     0.5351822719961482,\n",
      "                     0.6092546462470255,\n",
      "                     0.5670525831060678,\n",
      "                     0.6155587002062004,\n",
      "                     0.18918555745787535,\n",
      "                     0.6186597580804105,\n",
      "                     0.5448654163192002,\n",
      "                     0.4111615092443729,\n",
      "                     0.5050641087643775,\n",
      "                     0.6088121210981655,\n",
      "                     0.3709037392304805,\n",
      "                     0.5861899362176488,\n",
      "                     0.5235223690805004,\n",
      "                     0.5893643863307818,\n",
      "                     0.5278625786071109,\n",
      "                     0.6089823855921285,\n",
      "                     0.23189391434342443,\n",
      "                     0.5093054570611271,\n",
      "                     0.5735273672008537,\n",
      "                     0.6332076196301617,\n",
      "                     0.5621115129741657,\n",
      "                     0.6394602024715921,\n",
      "                     0.546400466409495,\n",
      "                     0.6574503931656529,\n",
      "                     0.5456677297208286,\n",
      "                     0.6367837209089738,\n",
      "                     0.5857354047618192,\n",
      "                     0.5766379047246486,\n",
      "                     0.5573000704126738,\n",
      "                     0.2562330017382094,\n",
      "                     0.41335073433836605,\n",
      "                     0.6466772277169454,\n",
      "                     0.37400873789488154,\n",
      "                     0.3320509490170947]},\n",
      " 'dribble': {'disamb': {'ball': 0.4549494396109664,\n",
      "                        'blood': 0.5892859162916596,\n",
      "                        'melon': 0.3685570870918988,\n",
      "                        'sphere': 0.4618041260282738,\n",
      "                        'tea': 0.6185784082615977,\n",
      "                        'wine': 0.6230776278095679},\n",
      "             'init': 0.6694749431927307,\n",
      "             'rand': [0.23211869268869403,\n",
      "                      0.517165136808466,\n",
      "                      0.6444511567603024,\n",
      "                      0.5876417150067269,\n",
      "                      0.4896251537027493,\n",
      "                      0.6491443506986825,\n",
      "                      0.6654786984212722,\n",
      "                      0.5998879808629515,\n",
      "                      0.44271177157715824,\n",
      "                      0.5980234616428313,\n",
      "                      0.5231123522259353,\n",
      "                      0.6378384900963164,\n",
      "                      0.5758354891538184,\n",
      "                      0.6303222908243789,\n",
      "                      0.6277349209301364,\n",
      "                      0.4758764820635112,\n",
      "                      0.41205432911850504,\n",
      "                      0.6747077329645481,\n",
      "                      0.6513123880952175,\n",
      "                      0.4019050460392808,\n",
      "                      0.6194772576584887,\n",
      "                      0.6547263637572593,\n",
      "                      0.23597614969099695,\n",
      "                      0.5669329675753445,\n",
      "                      0.5107033325702053,\n",
      "                      0.5608397852218898,\n",
      "                      0.6139729135545485,\n",
      "                      0.5816155203090951,\n",
      "                      0.527522468196105,\n",
      "                      0.44662646947124107,\n",
      "                      0.5725643223404608,\n",
      "                      0.3993338355009361,\n",
      "                      0.6228385451822083,\n",
      "                      0.5196814801040934,\n",
      "                      0.4311552163789404,\n",
      "                      0.6041433198948399,\n",
      "                      0.2879740699759732,\n",
      "                      0.48215593386060324,\n",
      "                      0.5262979802770026,\n",
      "                      0.5021649020366186,\n",
      "                      0.42467966352805114,\n",
      "                      0.6522485457819899,\n",
      "                      0.4623769127501981,\n",
      "                      0.5883812184136622,\n",
      "                      0.5608368632964835,\n",
      "                      0.3121896571603462,\n",
      "                      0.6522472426065126,\n",
      "                      0.40975790746479107,\n",
      "                      0.4782205368769201,\n",
      "                      0.5993472687024914,\n",
      "                      0.6533636284633404,\n",
      "                      0.5176091481825341,\n",
      "                      0.5772126254966105,\n",
      "                      0.6262886242662111,\n",
      "                      0.49430061930957014,\n",
      "                      0.6246566386346744,\n",
      "                      0.32218301538394145,\n",
      "                      0.5968296805959672,\n",
      "                      0.627352624389999,\n",
      "                      0.45058896572615503]},\n",
      " 'file': {'disamb': {'account': 0.2892686164581637,\n",
      "                     'application': 0.5720957098412586,\n",
      "                     'charge_n': 0.3122547706688373,\n",
      "                     'declaration': 0.6383282321714444,\n",
      "                     'lawsuit': 0.47755059818988516,\n",
      "                     'nail': 0.6537995214981537,\n",
      "                     'shank': 0.6523612484780917,\n",
      "                     'steel': 0.5661532275169007,\n",
      "                     'tooth': 0.6510300927779535},\n",
      "          'init': 0.6553790517603129,\n",
      "          'rand': [0.6550582041273502,\n",
      "                   0.6496301843023826,\n",
      "                   0.4839718675226841,\n",
      "                   0.6437351504557927,\n",
      "                   0.46817347363025386,\n",
      "                   0.3579021235944243,\n",
      "                   0.3105563171226666,\n",
      "                   0.12910677377341168,\n",
      "                   0.603921763145774,\n",
      "                   0.6401280714984497,\n",
      "                   0.5871861358709328,\n",
      "                   0.18055722150463382,\n",
      "                   0.4479509891178326,\n",
      "                   0.6459718357819709,\n",
      "                   0.6501237394686462,\n",
      "                   0.21965879196039947,\n",
      "                   0.3709415644638364,\n",
      "                   0.6551701504714598,\n",
      "                   0.5975788339173277,\n",
      "                   0.4263902214621409,\n",
      "                   0.5020507033440258,\n",
      "                   0.40497101489535253,\n",
      "                   0.41574801230356484,\n",
      "                   0.6367970348519524,\n",
      "                   0.4148927198158112,\n",
      "                   0.6165155967459015,\n",
      "                   0.4660154914873129,\n",
      "                   0.6295162928154174,\n",
      "                   0.5234197134883736,\n",
      "                   0.33710205737620574,\n",
      "                   0.5419905889416246,\n",
      "                   0.3955937496202982,\n",
      "                   0.6398324975685326,\n",
      "                   0.41433162902850773,\n",
      "                   0.5897223671448988,\n",
      "                   0.20317394527762084,\n",
      "                   0.5382535817979044,\n",
      "                   0.6040884071371376,\n",
      "                   0.6435172318631187,\n",
      "                   0.4695271976985539,\n",
      "                   0.34853152974835433,\n",
      "                   0.6140794314992701,\n",
      "                   0.1889475037240545,\n",
      "                   0.555915540377516,\n",
      "                   0.5825564910626992,\n",
      "                   0.5399769238786432,\n",
      "                   0.43066639027989506,\n",
      "                   0.5059013142952393,\n",
      "                   0.5133429857587952,\n",
      "                   0.41782117159195425,\n",
      "                   0.6382087808990363,\n",
      "                   0.6510598488713961,\n",
      "                   0.5694092414718341,\n",
      "                   0.5907769124009153,\n",
      "                   0.5075455849788445,\n",
      "                   0.30808272223047223,\n",
      "                   0.373186232056514,\n",
      "                   0.6371205344381349,\n",
      "                   0.452463185882377,\n",
      "                   0.15570027580240783,\n",
      "                   0.3339308661080986,\n",
      "                   0.5184111316975497,\n",
      "                   0.16616911148335994,\n",
      "                   0.2288056881736529,\n",
      "                   0.28737377675517256,\n",
      "                   0.5630949010855898,\n",
      "                   0.4515455406653951,\n",
      "                   0.2126065132050784,\n",
      "                   0.6442159724989629,\n",
      "                   0.4871009357299767,\n",
      "                   0.35396892935173474,\n",
      "                   0.43670320914769695,\n",
      "                   0.48573127644832836,\n",
      "                   0.5624240718355992,\n",
      "                   0.3629726455853715,\n",
      "                   0.6332515084314441,\n",
      "                   0.6368631727985093,\n",
      "                   0.5432038405105898,\n",
      "                   0.44575572492770216,\n",
      "                   0.34302037886400494,\n",
      "                   0.2497771571529145,\n",
      "                   0.13714288094251348,\n",
      "                   0.3926354378446219,\n",
      "                   0.5588642836811326,\n",
      "                   0.4568030953531637,\n",
      "                   0.4532961714474118,\n",
      "                   0.628269954089473,\n",
      "                   0.6113699371188629,\n",
      "                   0.5775353571106843,\n",
      "                   0.6479825972400574]},\n",
      " 'tap': {'disamb': {'conversation': 0.6394971033638088,\n",
      "                    'door': 0.2752494849506654,\n",
      "                    'floor': 0.46233983963622627,\n",
      "                    'market': 0.08396506010730406,\n",
      "                    'network': 0.5846970439160277,\n",
      "                    'pencil': 0.5038983322835224,\n",
      "                    'resource': 0.659392042672048,\n",
      "                    'table': 0.6665960050851313,\n",
      "                    'telephone': 0.5450461636985772,\n",
      "                    'tree': 0.17609396237579672},\n",
      "         'init': 0.6849465377875898,\n",
      "         'rand': [0.6624917805734809,\n",
      "                  0.6106666459649979,\n",
      "                  0.6630466202614325,\n",
      "                  0.5891851339949249,\n",
      "                  0.5519699801062736,\n",
      "                  0.3788735656220332,\n",
      "                  0.6053980643810786,\n",
      "                  0.4198725178519933,\n",
      "                  0.348814281580813,\n",
      "                  0.640746131470525,\n",
      "                  0.6844896567778177,\n",
      "                  0.67062670865652,\n",
      "                  0.5898429005576615,\n",
      "                  0.29389489465970564,\n",
      "                  0.43520823294245253,\n",
      "                  0.24929917567988694,\n",
      "                  0.6181374527243566,\n",
      "                  0.6224618994510978,\n",
      "                  0.342233638663448,\n",
      "                  0.6520798597558339,\n",
      "                  0.6703728981705981,\n",
      "                  0.6660018390867596,\n",
      "                  0.5126598302113008,\n",
      "                  0.24534506699517983,\n",
      "                  0.6859710631122077,\n",
      "                  0.5975351848306283,\n",
      "                  0.5176256081244532,\n",
      "                  0.6465139487405893,\n",
      "                  0.5414425665055036,\n",
      "                  0.6691682435090944,\n",
      "                  0.4613222185989095,\n",
      "                  0.5949598881064391,\n",
      "                  0.3834507945393739,\n",
      "                  0.48417503254882244,\n",
      "                  0.6287197497564174,\n",
      "                  0.6782342464630785,\n",
      "                  0.37825113697949747,\n",
      "                  0.638047421947142,\n",
      "                  0.6753137332675935,\n",
      "                  0.642194682017923,\n",
      "                  0.27275459849535333,\n",
      "                  0.6415560639520583,\n",
      "                  0.5738176757351354,\n",
      "                  0.509371728820278,\n",
      "                  0.5430649083007257,\n",
      "                  0.575229221829212,\n",
      "                  0.498170623748626,\n",
      "                  0.5673830955751122,\n",
      "                  0.4415324429778176,\n",
      "                  0.615862949022629,\n",
      "                  0.6876070707427699,\n",
      "                  0.4758877031665161,\n",
      "                  0.6194730401062264,\n",
      "                  0.3935587268102767,\n",
      "                  0.6334869453967696,\n",
      "                  0.2486930276365466,\n",
      "                  0.5910417228155156,\n",
      "                  0.5511234234594736,\n",
      "                  0.5027418701264705,\n",
      "                  0.47241885882825,\n",
      "                  0.6270712099972546,\n",
      "                  0.590641468209858,\n",
      "                  0.6369453867897561,\n",
      "                  0.6713576855837702,\n",
      "                  0.2378404794818605,\n",
      "                  0.6616025132063896,\n",
      "                  0.4363009575815949,\n",
      "                  0.5875148500240113,\n",
      "                  0.6812080242473348,\n",
      "                  0.6237145132024229,\n",
      "                  0.4129087621090136,\n",
      "                  0.5757851841142145,\n",
      "                  0.6048059156033332,\n",
      "                  0.46419688425538785,\n",
      "                  0.6820863225212273,\n",
      "                  0.473352574610921,\n",
      "                  0.663894820655202,\n",
      "                  0.4765728702762594,\n",
      "                  0.649913776042764,\n",
      "                  0.6154195973350489,\n",
      "                  0.5545195009265462,\n",
      "                  0.6393494110654666,\n",
      "                  0.4018542905371496,\n",
      "                  0.6171740435156265,\n",
      "                  0.4552709763412499,\n",
      "                  0.4190908125460155,\n",
      "                  0.48864418763894957,\n",
      "                  0.4869507528339678,\n",
      "                  0.6112769272946329,\n",
      "                  0.6425138386179097,\n",
      "                  0.46373291749451595,\n",
      "                  0.39134667825484326,\n",
      "                  0.6335004806315978,\n",
      "                  0.6733066829275296,\n",
      "                  0.4153550527979337,\n",
      "                  0.6831676222451283,\n",
      "                  0.6490800473410091,\n",
      "                  0.3411508832883893,\n",
      "                  0.6310918611662005,\n",
      "                  0.5687247159707374]}}\n"
     ]
    }
   ],
   "source": [
    "from words import noun_groups, pairs\n",
    "from pprint import pprint\n",
    "\n",
    "s_dict = {}\n",
    "disamb = []\n",
    "disamb_rand = []\n",
    "for amb_verb in pairs:\n",
    "    sense1, sense2 = pairs[amb_verb]\n",
    "    rho = 1/2 * np.outer(verb_states[sense1],np.conj(verb_states[sense1])) + \\\n",
    "        1/2 * np.outer(verb_states[sense2],np.conj(verb_states[sense2]))\n",
    "    s = von_neumann_entropy(rho)\n",
    "    s_dict[amb_verb] = {\"init\": s, \"disamb\": {}, \"rand\": []}\n",
    "\n",
    "    for noun in noun_groups[amb_verb]:\n",
    "        rho_n = np.outer(noun_states[noun],np.conj(noun_states[noun]))\n",
    "        rho_comp = np.multiply(rho_n,rho)\n",
    "        rho_comp /= np.trace(rho_comp)\n",
    "        s_comp = von_neumann_entropy(rho_comp)\n",
    "        s_dict[amb_verb][\"disamb\"][noun] = s_comp\n",
    "        disamb.append((s-s_comp)/s)\n",
    "\n",
    "        i=0\n",
    "        while i<10:\n",
    "            # per word get some random vectors for disambiguation\n",
    "            z = np.random.uniform(-1,1,size=(4,))#.view(np.complex128)\n",
    "            z /= np.linalg.norm(z)\n",
    "\n",
    "            l = []\n",
    "            for noun in noun_groups[amb_verb]:\n",
    "                l.append(np.abs(np.dot(z,noun_states[noun])))\n",
    "            if any(i >= 0.7 for i in l):\n",
    "                continue\n",
    "            i+=1\n",
    "            rho_rand = np.outer(z,np.conj(z))\n",
    "            rho_comp_rand = np.multiply(rho_rand,rho)\n",
    "            rho_comp_rand /= np.trace(rho_comp_rand)\n",
    "            s_comp_rand = von_neumann_entropy(rho_comp_rand)\n",
    "            s_dict[amb_verb][\"rand\"].append(von_neumann_entropy(rho_comp_rand))\n",
    "            disamb_rand.append((s-s_comp_rand)/s)\n",
    "\n",
    "pprint(s_dict)"
   ]
  },
  {
   "cell_type": "code",
   "execution_count": 16,
   "metadata": {},
   "outputs": [
    {
     "output_type": "display_data",
     "data": {
      "text/plain": "<Figure size 720x504 with 1 Axes>",
      "image/svg+xml": "<?xml version=\"1.0\" encoding=\"utf-8\" standalone=\"no\"?>\n<!DOCTYPE svg PUBLIC \"-//W3C//DTD SVG 1.1//EN\"\n  \"http://www.w3.org/Graphics/SVG/1.1/DTD/svg11.dtd\">\n<!-- Created with matplotlib (https://matplotlib.org/) -->\n<svg height=\"442.773281pt\" version=\"1.1\" viewBox=\"0 0 635.380937 442.773281\" width=\"635.380937pt\" xmlns=\"http://www.w3.org/2000/svg\" xmlns:xlink=\"http://www.w3.org/1999/xlink\">\n <defs>\n  <style type=\"text/css\">\n*{stroke-linecap:butt;stroke-linejoin:round;}\n  </style>\n </defs>\n <g id=\"figure_1\">\n  <g id=\"patch_1\">\n   <path d=\"M 0 442.773281 \nL 635.380937 442.773281 \nL 635.380937 0 \nL 0 0 \nz\n\" style=\"fill:#ffffff;\"/>\n  </g>\n  <g id=\"axes_1\">\n   <g id=\"patch_2\">\n    <path d=\"M 70.180938 393.038906 \nL 628.180938 393.038906 \nL 628.180938 12.518906 \nL 70.180938 12.518906 \nz\n\" style=\"fill:#ffffff;\"/>\n   </g>\n   <g id=\"matplotlib.axis_1\">\n    <g id=\"xtick_1\">\n     <g id=\"text_1\">\n      <!-- context -->\n      <defs>\n       <path d=\"M 48.78125 52.59375 \nL 48.78125 44.1875 \nQ 44.96875 46.296875 41.140625 47.34375 \nQ 37.3125 48.390625 33.40625 48.390625 \nQ 24.65625 48.390625 19.8125 42.84375 \nQ 14.984375 37.3125 14.984375 27.296875 \nQ 14.984375 17.28125 19.8125 11.734375 \nQ 24.65625 6.203125 33.40625 6.203125 \nQ 37.3125 6.203125 41.140625 7.25 \nQ 44.96875 8.296875 48.78125 10.40625 \nL 48.78125 2.09375 \nQ 45.015625 0.34375 40.984375 -0.53125 \nQ 36.96875 -1.421875 32.421875 -1.421875 \nQ 20.0625 -1.421875 12.78125 6.34375 \nQ 5.515625 14.109375 5.515625 27.296875 \nQ 5.515625 40.671875 12.859375 48.328125 \nQ 20.21875 56 33.015625 56 \nQ 37.15625 56 41.109375 55.140625 \nQ 45.0625 54.296875 48.78125 52.59375 \nz\n\" id=\"DejaVuSans-99\"/>\n       <path d=\"M 30.609375 48.390625 \nQ 23.390625 48.390625 19.1875 42.75 \nQ 14.984375 37.109375 14.984375 27.296875 \nQ 14.984375 17.484375 19.15625 11.84375 \nQ 23.34375 6.203125 30.609375 6.203125 \nQ 37.796875 6.203125 41.984375 11.859375 \nQ 46.1875 17.53125 46.1875 27.296875 \nQ 46.1875 37.015625 41.984375 42.703125 \nQ 37.796875 48.390625 30.609375 48.390625 \nz\nM 30.609375 56 \nQ 42.328125 56 49.015625 48.375 \nQ 55.71875 40.765625 55.71875 27.296875 \nQ 55.71875 13.875 49.015625 6.21875 \nQ 42.328125 -1.421875 30.609375 -1.421875 \nQ 18.84375 -1.421875 12.171875 6.21875 \nQ 5.515625 13.875 5.515625 27.296875 \nQ 5.515625 40.765625 12.171875 48.375 \nQ 18.84375 56 30.609375 56 \nz\n\" id=\"DejaVuSans-111\"/>\n       <path d=\"M 54.890625 33.015625 \nL 54.890625 0 \nL 45.90625 0 \nL 45.90625 32.71875 \nQ 45.90625 40.484375 42.875 44.328125 \nQ 39.84375 48.1875 33.796875 48.1875 \nQ 26.515625 48.1875 22.3125 43.546875 \nQ 18.109375 38.921875 18.109375 30.90625 \nL 18.109375 0 \nL 9.078125 0 \nL 9.078125 54.6875 \nL 18.109375 54.6875 \nL 18.109375 46.1875 \nQ 21.34375 51.125 25.703125 53.5625 \nQ 30.078125 56 35.796875 56 \nQ 45.21875 56 50.046875 50.171875 \nQ 54.890625 44.34375 54.890625 33.015625 \nz\n\" id=\"DejaVuSans-110\"/>\n       <path d=\"M 18.3125 70.21875 \nL 18.3125 54.6875 \nL 36.8125 54.6875 \nL 36.8125 47.703125 \nL 18.3125 47.703125 \nL 18.3125 18.015625 \nQ 18.3125 11.328125 20.140625 9.421875 \nQ 21.96875 7.515625 27.59375 7.515625 \nL 36.8125 7.515625 \nL 36.8125 0 \nL 27.59375 0 \nQ 17.1875 0 13.234375 3.875 \nQ 9.28125 7.765625 9.28125 18.015625 \nL 9.28125 47.703125 \nL 2.6875 47.703125 \nL 2.6875 54.6875 \nL 9.28125 54.6875 \nL 9.28125 70.21875 \nz\n\" id=\"DejaVuSans-116\"/>\n       <path d=\"M 56.203125 29.59375 \nL 56.203125 25.203125 \nL 14.890625 25.203125 \nQ 15.484375 15.921875 20.484375 11.0625 \nQ 25.484375 6.203125 34.421875 6.203125 \nQ 39.59375 6.203125 44.453125 7.46875 \nQ 49.3125 8.734375 54.109375 11.28125 \nL 54.109375 2.78125 \nQ 49.265625 0.734375 44.1875 -0.34375 \nQ 39.109375 -1.421875 33.890625 -1.421875 \nQ 20.796875 -1.421875 13.15625 6.1875 \nQ 5.515625 13.8125 5.515625 26.8125 \nQ 5.515625 40.234375 12.765625 48.109375 \nQ 20.015625 56 32.328125 56 \nQ 43.359375 56 49.78125 48.890625 \nQ 56.203125 41.796875 56.203125 29.59375 \nz\nM 47.21875 32.234375 \nQ 47.125 39.59375 43.09375 43.984375 \nQ 39.0625 48.390625 32.421875 48.390625 \nQ 24.90625 48.390625 20.390625 44.140625 \nQ 15.875 39.890625 15.1875 32.171875 \nz\n\" id=\"DejaVuSans-101\"/>\n       <path d=\"M 54.890625 54.6875 \nL 35.109375 28.078125 \nL 55.90625 0 \nL 45.3125 0 \nL 29.390625 21.484375 \nL 13.484375 0 \nL 2.875 0 \nL 24.125 28.609375 \nL 4.6875 54.6875 \nL 15.28125 54.6875 \nL 29.78125 35.203125 \nL 44.28125 54.6875 \nz\n\" id=\"DejaVuSans-120\"/>\n      </defs>\n      <g style=\"fill:#262626;\" transform=\"translate(183.296406 413.176719)scale(0.14 -0.14)\">\n       <use xlink:href=\"#DejaVuSans-99\"/>\n       <use x=\"54.980469\" xlink:href=\"#DejaVuSans-111\"/>\n       <use x=\"116.162109\" xlink:href=\"#DejaVuSans-110\"/>\n       <use x=\"179.541016\" xlink:href=\"#DejaVuSans-116\"/>\n       <use x=\"218.75\" xlink:href=\"#DejaVuSans-101\"/>\n       <use x=\"278.523438\" xlink:href=\"#DejaVuSans-120\"/>\n       <use x=\"337.703125\" xlink:href=\"#DejaVuSans-116\"/>\n      </g>\n     </g>\n    </g>\n    <g id=\"xtick_2\">\n     <g id=\"text_2\">\n      <!-- random -->\n      <defs>\n       <path d=\"M 41.109375 46.296875 \nQ 39.59375 47.171875 37.8125 47.578125 \nQ 36.03125 48 33.890625 48 \nQ 26.265625 48 22.1875 43.046875 \nQ 18.109375 38.09375 18.109375 28.8125 \nL 18.109375 0 \nL 9.078125 0 \nL 9.078125 54.6875 \nL 18.109375 54.6875 \nL 18.109375 46.1875 \nQ 20.953125 51.171875 25.484375 53.578125 \nQ 30.03125 56 36.53125 56 \nQ 37.453125 56 38.578125 55.875 \nQ 39.703125 55.765625 41.0625 55.515625 \nz\n\" id=\"DejaVuSans-114\"/>\n       <path d=\"M 34.28125 27.484375 \nQ 23.390625 27.484375 19.1875 25 \nQ 14.984375 22.515625 14.984375 16.5 \nQ 14.984375 11.71875 18.140625 8.90625 \nQ 21.296875 6.109375 26.703125 6.109375 \nQ 34.1875 6.109375 38.703125 11.40625 \nQ 43.21875 16.703125 43.21875 25.484375 \nL 43.21875 27.484375 \nz\nM 52.203125 31.203125 \nL 52.203125 0 \nL 43.21875 0 \nL 43.21875 8.296875 \nQ 40.140625 3.328125 35.546875 0.953125 \nQ 30.953125 -1.421875 24.3125 -1.421875 \nQ 15.921875 -1.421875 10.953125 3.296875 \nQ 6 8.015625 6 15.921875 \nQ 6 25.140625 12.171875 29.828125 \nQ 18.359375 34.515625 30.609375 34.515625 \nL 43.21875 34.515625 \nL 43.21875 35.40625 \nQ 43.21875 41.609375 39.140625 45 \nQ 35.0625 48.390625 27.6875 48.390625 \nQ 23 48.390625 18.546875 47.265625 \nQ 14.109375 46.140625 10.015625 43.890625 \nL 10.015625 52.203125 \nQ 14.9375 54.109375 19.578125 55.046875 \nQ 24.21875 56 28.609375 56 \nQ 40.484375 56 46.34375 49.84375 \nQ 52.203125 43.703125 52.203125 31.203125 \nz\n\" id=\"DejaVuSans-97\"/>\n       <path d=\"M 45.40625 46.390625 \nL 45.40625 75.984375 \nL 54.390625 75.984375 \nL 54.390625 0 \nL 45.40625 0 \nL 45.40625 8.203125 \nQ 42.578125 3.328125 38.25 0.953125 \nQ 33.9375 -1.421875 27.875 -1.421875 \nQ 17.96875 -1.421875 11.734375 6.484375 \nQ 5.515625 14.40625 5.515625 27.296875 \nQ 5.515625 40.1875 11.734375 48.09375 \nQ 17.96875 56 27.875 56 \nQ 33.9375 56 38.25 53.625 \nQ 42.578125 51.265625 45.40625 46.390625 \nz\nM 14.796875 27.296875 \nQ 14.796875 17.390625 18.875 11.75 \nQ 22.953125 6.109375 30.078125 6.109375 \nQ 37.203125 6.109375 41.296875 11.75 \nQ 45.40625 17.390625 45.40625 27.296875 \nQ 45.40625 37.203125 41.296875 42.84375 \nQ 37.203125 48.484375 30.078125 48.484375 \nQ 22.953125 48.484375 18.875 42.84375 \nQ 14.796875 37.203125 14.796875 27.296875 \nz\n\" id=\"DejaVuSans-100\"/>\n       <path d=\"M 52 44.1875 \nQ 55.375 50.25 60.0625 53.125 \nQ 64.75 56 71.09375 56 \nQ 79.640625 56 84.28125 50.015625 \nQ 88.921875 44.046875 88.921875 33.015625 \nL 88.921875 0 \nL 79.890625 0 \nL 79.890625 32.71875 \nQ 79.890625 40.578125 77.09375 44.375 \nQ 74.3125 48.1875 68.609375 48.1875 \nQ 61.625 48.1875 57.5625 43.546875 \nQ 53.515625 38.921875 53.515625 30.90625 \nL 53.515625 0 \nL 44.484375 0 \nL 44.484375 32.71875 \nQ 44.484375 40.625 41.703125 44.40625 \nQ 38.921875 48.1875 33.109375 48.1875 \nQ 26.21875 48.1875 22.15625 43.53125 \nQ 18.109375 38.875 18.109375 30.90625 \nL 18.109375 0 \nL 9.078125 0 \nL 9.078125 54.6875 \nL 18.109375 54.6875 \nL 18.109375 46.1875 \nQ 21.1875 51.21875 25.484375 53.609375 \nQ 29.78125 56 35.6875 56 \nQ 41.65625 56 45.828125 52.96875 \nQ 50 49.953125 52 44.1875 \nz\n\" id=\"DejaVuSans-109\"/>\n      </defs>\n      <g style=\"fill:#262626;\" transform=\"translate(461.531875 413.176719)scale(0.14 -0.14)\">\n       <use xlink:href=\"#DejaVuSans-114\"/>\n       <use x=\"41.113281\" xlink:href=\"#DejaVuSans-97\"/>\n       <use x=\"102.392578\" xlink:href=\"#DejaVuSans-110\"/>\n       <use x=\"165.771484\" xlink:href=\"#DejaVuSans-100\"/>\n       <use x=\"229.248047\" xlink:href=\"#DejaVuSans-111\"/>\n       <use x=\"290.429688\" xlink:href=\"#DejaVuSans-109\"/>\n      </g>\n     </g>\n    </g>\n    <g id=\"text_3\">\n     <!-- Type -->\n     <defs>\n      <path d=\"M -0.296875 72.90625 \nL 61.375 72.90625 \nL 61.375 64.59375 \nL 35.5 64.59375 \nL 35.5 0 \nL 25.59375 0 \nL 25.59375 64.59375 \nL -0.296875 64.59375 \nz\n\" id=\"DejaVuSans-84\"/>\n      <path d=\"M 32.171875 -5.078125 \nQ 28.375 -14.84375 24.75 -17.8125 \nQ 21.140625 -20.796875 15.09375 -20.796875 \nL 7.90625 -20.796875 \nL 7.90625 -13.28125 \nL 13.1875 -13.28125 \nQ 16.890625 -13.28125 18.9375 -11.515625 \nQ 21 -9.765625 23.484375 -3.21875 \nL 25.09375 0.875 \nL 2.984375 54.6875 \nL 12.5 54.6875 \nL 29.59375 11.921875 \nL 46.6875 54.6875 \nL 56.203125 54.6875 \nz\n\" id=\"DejaVuSans-121\"/>\n      <path d=\"M 18.109375 8.203125 \nL 18.109375 -20.796875 \nL 9.078125 -20.796875 \nL 9.078125 54.6875 \nL 18.109375 54.6875 \nL 18.109375 46.390625 \nQ 20.953125 51.265625 25.265625 53.625 \nQ 29.59375 56 35.59375 56 \nQ 45.5625 56 51.78125 48.09375 \nQ 58.015625 40.1875 58.015625 27.296875 \nQ 58.015625 14.40625 51.78125 6.484375 \nQ 45.5625 -1.421875 35.59375 -1.421875 \nQ 29.59375 -1.421875 25.265625 0.953125 \nQ 20.953125 3.328125 18.109375 8.203125 \nz\nM 48.6875 27.296875 \nQ 48.6875 37.203125 44.609375 42.84375 \nQ 40.53125 48.484375 33.40625 48.484375 \nQ 26.265625 48.484375 22.1875 42.84375 \nQ 18.109375 37.203125 18.109375 27.296875 \nQ 18.109375 17.390625 22.1875 11.75 \nQ 26.265625 6.109375 33.40625 6.109375 \nQ 40.53125 6.109375 44.609375 11.75 \nQ 48.6875 17.390625 48.6875 27.296875 \nz\n\" id=\"DejaVuSans-112\"/>\n     </defs>\n     <g style=\"fill:#262626;\" transform=\"translate(330.808438 432.245781)scale(0.16 -0.16)\">\n      <use xlink:href=\"#DejaVuSans-84\"/>\n      <use x=\"45.458984\" xlink:href=\"#DejaVuSans-121\"/>\n      <use x=\"104.638672\" xlink:href=\"#DejaVuSans-112\"/>\n      <use x=\"168.115234\" xlink:href=\"#DejaVuSans-101\"/>\n     </g>\n    </g>\n   </g>\n   <g id=\"matplotlib.axis_2\">\n    <g id=\"ytick_1\">\n     <g id=\"line2d_1\">\n      <path clip-path=\"url(#p44cccf11f9)\" d=\"M 70.180938 393.038906 \nL 628.180938 393.038906 \n\" style=\"fill:none;stroke:#cccccc;stroke-linecap:round;\"/>\n     </g>\n     <g id=\"text_4\">\n      <!-- −0.2 -->\n      <defs>\n       <path d=\"M 10.59375 35.5 \nL 73.1875 35.5 \nL 73.1875 27.203125 \nL 10.59375 27.203125 \nz\n\" id=\"DejaVuSans-8722\"/>\n       <path d=\"M 31.78125 66.40625 \nQ 24.171875 66.40625 20.328125 58.90625 \nQ 16.5 51.421875 16.5 36.375 \nQ 16.5 21.390625 20.328125 13.890625 \nQ 24.171875 6.390625 31.78125 6.390625 \nQ 39.453125 6.390625 43.28125 13.890625 \nQ 47.125 21.390625 47.125 36.375 \nQ 47.125 51.421875 43.28125 58.90625 \nQ 39.453125 66.40625 31.78125 66.40625 \nz\nM 31.78125 74.21875 \nQ 44.046875 74.21875 50.515625 64.515625 \nQ 56.984375 54.828125 56.984375 36.375 \nQ 56.984375 17.96875 50.515625 8.265625 \nQ 44.046875 -1.421875 31.78125 -1.421875 \nQ 19.53125 -1.421875 13.0625 8.265625 \nQ 6.59375 17.96875 6.59375 36.375 \nQ 6.59375 54.828125 13.0625 64.515625 \nQ 19.53125 74.21875 31.78125 74.21875 \nz\n\" id=\"DejaVuSans-48\"/>\n       <path d=\"M 10.6875 12.40625 \nL 21 12.40625 \nL 21 0 \nL 10.6875 0 \nz\n\" id=\"DejaVuSans-46\"/>\n       <path d=\"M 19.1875 8.296875 \nL 53.609375 8.296875 \nL 53.609375 0 \nL 7.328125 0 \nL 7.328125 8.296875 \nQ 12.9375 14.109375 22.625 23.890625 \nQ 32.328125 33.6875 34.8125 36.53125 \nQ 39.546875 41.84375 41.421875 45.53125 \nQ 43.3125 49.21875 43.3125 52.78125 \nQ 43.3125 58.59375 39.234375 62.25 \nQ 35.15625 65.921875 28.609375 65.921875 \nQ 23.96875 65.921875 18.8125 64.3125 \nQ 13.671875 62.703125 7.8125 59.421875 \nL 7.8125 69.390625 \nQ 13.765625 71.78125 18.9375 73 \nQ 24.125 74.21875 28.421875 74.21875 \nQ 39.75 74.21875 46.484375 68.546875 \nQ 53.21875 62.890625 53.21875 53.421875 \nQ 53.21875 48.921875 51.53125 44.890625 \nQ 49.859375 40.875 45.40625 35.40625 \nQ 44.1875 33.984375 37.640625 27.21875 \nQ 31.109375 20.453125 19.1875 8.296875 \nz\n\" id=\"DejaVuSans-50\"/>\n      </defs>\n      <g style=\"fill:#262626;\" transform=\"translate(26.685 398.357813)scale(0.14 -0.14)\">\n       <use xlink:href=\"#DejaVuSans-8722\"/>\n       <use x=\"83.789062\" xlink:href=\"#DejaVuSans-48\"/>\n       <use x=\"147.412109\" xlink:href=\"#DejaVuSans-46\"/>\n       <use x=\"179.199219\" xlink:href=\"#DejaVuSans-50\"/>\n      </g>\n     </g>\n    </g>\n    <g id=\"ytick_2\">\n     <g id=\"line2d_2\">\n      <path clip-path=\"url(#p44cccf11f9)\" d=\"M 70.180938 329.618906 \nL 628.180938 329.618906 \n\" style=\"fill:none;stroke:#cccccc;stroke-linecap:round;\"/>\n     </g>\n     <g id=\"text_5\">\n      <!-- 0.0 -->\n      <g style=\"fill:#262626;\" transform=\"translate(38.416563 334.937813)scale(0.14 -0.14)\">\n       <use xlink:href=\"#DejaVuSans-48\"/>\n       <use x=\"63.623047\" xlink:href=\"#DejaVuSans-46\"/>\n       <use x=\"95.410156\" xlink:href=\"#DejaVuSans-48\"/>\n      </g>\n     </g>\n    </g>\n    <g id=\"ytick_3\">\n     <g id=\"line2d_3\">\n      <path clip-path=\"url(#p44cccf11f9)\" d=\"M 70.180938 266.198906 \nL 628.180938 266.198906 \n\" style=\"fill:none;stroke:#cccccc;stroke-linecap:round;\"/>\n     </g>\n     <g id=\"text_6\">\n      <!-- 0.2 -->\n      <g style=\"fill:#262626;\" transform=\"translate(38.416563 271.517812)scale(0.14 -0.14)\">\n       <use xlink:href=\"#DejaVuSans-48\"/>\n       <use x=\"63.623047\" xlink:href=\"#DejaVuSans-46\"/>\n       <use x=\"95.410156\" xlink:href=\"#DejaVuSans-50\"/>\n      </g>\n     </g>\n    </g>\n    <g id=\"ytick_4\">\n     <g id=\"line2d_4\">\n      <path clip-path=\"url(#p44cccf11f9)\" d=\"M 70.180938 202.778906 \nL 628.180938 202.778906 \n\" style=\"fill:none;stroke:#cccccc;stroke-linecap:round;\"/>\n     </g>\n     <g id=\"text_7\">\n      <!-- 0.4 -->\n      <defs>\n       <path d=\"M 37.796875 64.3125 \nL 12.890625 25.390625 \nL 37.796875 25.390625 \nz\nM 35.203125 72.90625 \nL 47.609375 72.90625 \nL 47.609375 25.390625 \nL 58.015625 25.390625 \nL 58.015625 17.1875 \nL 47.609375 17.1875 \nL 47.609375 0 \nL 37.796875 0 \nL 37.796875 17.1875 \nL 4.890625 17.1875 \nL 4.890625 26.703125 \nz\n\" id=\"DejaVuSans-52\"/>\n      </defs>\n      <g style=\"fill:#262626;\" transform=\"translate(38.416563 208.097812)scale(0.14 -0.14)\">\n       <use xlink:href=\"#DejaVuSans-48\"/>\n       <use x=\"63.623047\" xlink:href=\"#DejaVuSans-46\"/>\n       <use x=\"95.410156\" xlink:href=\"#DejaVuSans-52\"/>\n      </g>\n     </g>\n    </g>\n    <g id=\"ytick_5\">\n     <g id=\"line2d_5\">\n      <path clip-path=\"url(#p44cccf11f9)\" d=\"M 70.180938 139.358906 \nL 628.180938 139.358906 \n\" style=\"fill:none;stroke:#cccccc;stroke-linecap:round;\"/>\n     </g>\n     <g id=\"text_8\">\n      <!-- 0.6 -->\n      <defs>\n       <path d=\"M 33.015625 40.375 \nQ 26.375 40.375 22.484375 35.828125 \nQ 18.609375 31.296875 18.609375 23.390625 \nQ 18.609375 15.53125 22.484375 10.953125 \nQ 26.375 6.390625 33.015625 6.390625 \nQ 39.65625 6.390625 43.53125 10.953125 \nQ 47.40625 15.53125 47.40625 23.390625 \nQ 47.40625 31.296875 43.53125 35.828125 \nQ 39.65625 40.375 33.015625 40.375 \nz\nM 52.59375 71.296875 \nL 52.59375 62.3125 \nQ 48.875 64.0625 45.09375 64.984375 \nQ 41.3125 65.921875 37.59375 65.921875 \nQ 27.828125 65.921875 22.671875 59.328125 \nQ 17.53125 52.734375 16.796875 39.40625 \nQ 19.671875 43.65625 24.015625 45.921875 \nQ 28.375 48.1875 33.59375 48.1875 \nQ 44.578125 48.1875 50.953125 41.515625 \nQ 57.328125 34.859375 57.328125 23.390625 \nQ 57.328125 12.15625 50.6875 5.359375 \nQ 44.046875 -1.421875 33.015625 -1.421875 \nQ 20.359375 -1.421875 13.671875 8.265625 \nQ 6.984375 17.96875 6.984375 36.375 \nQ 6.984375 53.65625 15.1875 63.9375 \nQ 23.390625 74.21875 37.203125 74.21875 \nQ 40.921875 74.21875 44.703125 73.484375 \nQ 48.484375 72.75 52.59375 71.296875 \nz\n\" id=\"DejaVuSans-54\"/>\n      </defs>\n      <g style=\"fill:#262626;\" transform=\"translate(38.416563 144.677812)scale(0.14 -0.14)\">\n       <use xlink:href=\"#DejaVuSans-48\"/>\n       <use x=\"63.623047\" xlink:href=\"#DejaVuSans-46\"/>\n       <use x=\"95.410156\" xlink:href=\"#DejaVuSans-54\"/>\n      </g>\n     </g>\n    </g>\n    <g id=\"ytick_6\">\n     <g id=\"line2d_6\">\n      <path clip-path=\"url(#p44cccf11f9)\" d=\"M 70.180938 75.938906 \nL 628.180938 75.938906 \n\" style=\"fill:none;stroke:#cccccc;stroke-linecap:round;\"/>\n     </g>\n     <g id=\"text_9\">\n      <!-- 0.8 -->\n      <defs>\n       <path d=\"M 31.78125 34.625 \nQ 24.75 34.625 20.71875 30.859375 \nQ 16.703125 27.09375 16.703125 20.515625 \nQ 16.703125 13.921875 20.71875 10.15625 \nQ 24.75 6.390625 31.78125 6.390625 \nQ 38.8125 6.390625 42.859375 10.171875 \nQ 46.921875 13.96875 46.921875 20.515625 \nQ 46.921875 27.09375 42.890625 30.859375 \nQ 38.875 34.625 31.78125 34.625 \nz\nM 21.921875 38.8125 \nQ 15.578125 40.375 12.03125 44.71875 \nQ 8.5 49.078125 8.5 55.328125 \nQ 8.5 64.0625 14.71875 69.140625 \nQ 20.953125 74.21875 31.78125 74.21875 \nQ 42.671875 74.21875 48.875 69.140625 \nQ 55.078125 64.0625 55.078125 55.328125 \nQ 55.078125 49.078125 51.53125 44.71875 \nQ 48 40.375 41.703125 38.8125 \nQ 48.828125 37.15625 52.796875 32.3125 \nQ 56.78125 27.484375 56.78125 20.515625 \nQ 56.78125 9.90625 50.3125 4.234375 \nQ 43.84375 -1.421875 31.78125 -1.421875 \nQ 19.734375 -1.421875 13.25 4.234375 \nQ 6.78125 9.90625 6.78125 20.515625 \nQ 6.78125 27.484375 10.78125 32.3125 \nQ 14.796875 37.15625 21.921875 38.8125 \nz\nM 18.3125 54.390625 \nQ 18.3125 48.734375 21.84375 45.5625 \nQ 25.390625 42.390625 31.78125 42.390625 \nQ 38.140625 42.390625 41.71875 45.5625 \nQ 45.3125 48.734375 45.3125 54.390625 \nQ 45.3125 60.0625 41.71875 63.234375 \nQ 38.140625 66.40625 31.78125 66.40625 \nQ 25.390625 66.40625 21.84375 63.234375 \nQ 18.3125 60.0625 18.3125 54.390625 \nz\n\" id=\"DejaVuSans-56\"/>\n      </defs>\n      <g style=\"fill:#262626;\" transform=\"translate(38.416563 81.257812)scale(0.14 -0.14)\">\n       <use xlink:href=\"#DejaVuSans-48\"/>\n       <use x=\"63.623047\" xlink:href=\"#DejaVuSans-46\"/>\n       <use x=\"95.410156\" xlink:href=\"#DejaVuSans-56\"/>\n      </g>\n     </g>\n    </g>\n    <g id=\"ytick_7\">\n     <g id=\"line2d_7\">\n      <path clip-path=\"url(#p44cccf11f9)\" d=\"M 70.180938 12.518906 \nL 628.180938 12.518906 \n\" style=\"fill:none;stroke:#cccccc;stroke-linecap:round;\"/>\n     </g>\n     <g id=\"text_10\">\n      <!-- 1.0 -->\n      <defs>\n       <path d=\"M 12.40625 8.296875 \nL 28.515625 8.296875 \nL 28.515625 63.921875 \nL 10.984375 60.40625 \nL 10.984375 69.390625 \nL 28.421875 72.90625 \nL 38.28125 72.90625 \nL 38.28125 8.296875 \nL 54.390625 8.296875 \nL 54.390625 0 \nL 12.40625 0 \nz\n\" id=\"DejaVuSans-49\"/>\n      </defs>\n      <g style=\"fill:#262626;\" transform=\"translate(38.416563 17.837812)scale(0.14 -0.14)\">\n       <use xlink:href=\"#DejaVuSans-49\"/>\n       <use x=\"63.623047\" xlink:href=\"#DejaVuSans-46\"/>\n       <use x=\"95.410156\" xlink:href=\"#DejaVuSans-48\"/>\n      </g>\n     </g>\n    </g>\n    <g id=\"text_11\">\n     <!-- Disambigutation Power -->\n     <defs>\n      <path d=\"M 19.671875 64.796875 \nL 19.671875 8.109375 \nL 31.59375 8.109375 \nQ 46.6875 8.109375 53.6875 14.9375 \nQ 60.6875 21.78125 60.6875 36.53125 \nQ 60.6875 51.171875 53.6875 57.984375 \nQ 46.6875 64.796875 31.59375 64.796875 \nz\nM 9.8125 72.90625 \nL 30.078125 72.90625 \nQ 51.265625 72.90625 61.171875 64.09375 \nQ 71.09375 55.28125 71.09375 36.53125 \nQ 71.09375 17.671875 61.125 8.828125 \nQ 51.171875 0 30.078125 0 \nL 9.8125 0 \nz\n\" id=\"DejaVuSans-68\"/>\n      <path d=\"M 9.421875 54.6875 \nL 18.40625 54.6875 \nL 18.40625 0 \nL 9.421875 0 \nz\nM 9.421875 75.984375 \nL 18.40625 75.984375 \nL 18.40625 64.59375 \nL 9.421875 64.59375 \nz\n\" id=\"DejaVuSans-105\"/>\n      <path d=\"M 44.28125 53.078125 \nL 44.28125 44.578125 \nQ 40.484375 46.53125 36.375 47.5 \nQ 32.28125 48.484375 27.875 48.484375 \nQ 21.1875 48.484375 17.84375 46.4375 \nQ 14.5 44.390625 14.5 40.28125 \nQ 14.5 37.15625 16.890625 35.375 \nQ 19.28125 33.59375 26.515625 31.984375 \nL 29.59375 31.296875 \nQ 39.15625 29.25 43.1875 25.515625 \nQ 47.21875 21.78125 47.21875 15.09375 \nQ 47.21875 7.46875 41.1875 3.015625 \nQ 35.15625 -1.421875 24.609375 -1.421875 \nQ 20.21875 -1.421875 15.453125 -0.5625 \nQ 10.6875 0.296875 5.421875 2 \nL 5.421875 11.28125 \nQ 10.40625 8.6875 15.234375 7.390625 \nQ 20.0625 6.109375 24.8125 6.109375 \nQ 31.15625 6.109375 34.5625 8.28125 \nQ 37.984375 10.453125 37.984375 14.40625 \nQ 37.984375 18.0625 35.515625 20.015625 \nQ 33.0625 21.96875 24.703125 23.78125 \nL 21.578125 24.515625 \nQ 13.234375 26.265625 9.515625 29.90625 \nQ 5.8125 33.546875 5.8125 39.890625 \nQ 5.8125 47.609375 11.28125 51.796875 \nQ 16.75 56 26.8125 56 \nQ 31.78125 56 36.171875 55.265625 \nQ 40.578125 54.546875 44.28125 53.078125 \nz\n\" id=\"DejaVuSans-115\"/>\n      <path d=\"M 48.6875 27.296875 \nQ 48.6875 37.203125 44.609375 42.84375 \nQ 40.53125 48.484375 33.40625 48.484375 \nQ 26.265625 48.484375 22.1875 42.84375 \nQ 18.109375 37.203125 18.109375 27.296875 \nQ 18.109375 17.390625 22.1875 11.75 \nQ 26.265625 6.109375 33.40625 6.109375 \nQ 40.53125 6.109375 44.609375 11.75 \nQ 48.6875 17.390625 48.6875 27.296875 \nz\nM 18.109375 46.390625 \nQ 20.953125 51.265625 25.265625 53.625 \nQ 29.59375 56 35.59375 56 \nQ 45.5625 56 51.78125 48.09375 \nQ 58.015625 40.1875 58.015625 27.296875 \nQ 58.015625 14.40625 51.78125 6.484375 \nQ 45.5625 -1.421875 35.59375 -1.421875 \nQ 29.59375 -1.421875 25.265625 0.953125 \nQ 20.953125 3.328125 18.109375 8.203125 \nL 18.109375 0 \nL 9.078125 0 \nL 9.078125 75.984375 \nL 18.109375 75.984375 \nz\n\" id=\"DejaVuSans-98\"/>\n      <path d=\"M 45.40625 27.984375 \nQ 45.40625 37.75 41.375 43.109375 \nQ 37.359375 48.484375 30.078125 48.484375 \nQ 22.859375 48.484375 18.828125 43.109375 \nQ 14.796875 37.75 14.796875 27.984375 \nQ 14.796875 18.265625 18.828125 12.890625 \nQ 22.859375 7.515625 30.078125 7.515625 \nQ 37.359375 7.515625 41.375 12.890625 \nQ 45.40625 18.265625 45.40625 27.984375 \nz\nM 54.390625 6.78125 \nQ 54.390625 -7.171875 48.1875 -13.984375 \nQ 42 -20.796875 29.203125 -20.796875 \nQ 24.46875 -20.796875 20.265625 -20.09375 \nQ 16.0625 -19.390625 12.109375 -17.921875 \nL 12.109375 -9.1875 \nQ 16.0625 -11.328125 19.921875 -12.34375 \nQ 23.78125 -13.375 27.78125 -13.375 \nQ 36.625 -13.375 41.015625 -8.765625 \nQ 45.40625 -4.15625 45.40625 5.171875 \nL 45.40625 9.625 \nQ 42.625 4.78125 38.28125 2.390625 \nQ 33.9375 0 27.875 0 \nQ 17.828125 0 11.671875 7.65625 \nQ 5.515625 15.328125 5.515625 27.984375 \nQ 5.515625 40.671875 11.671875 48.328125 \nQ 17.828125 56 27.875 56 \nQ 33.9375 56 38.28125 53.609375 \nQ 42.625 51.21875 45.40625 46.390625 \nL 45.40625 54.6875 \nL 54.390625 54.6875 \nz\n\" id=\"DejaVuSans-103\"/>\n      <path d=\"M 8.5 21.578125 \nL 8.5 54.6875 \nL 17.484375 54.6875 \nL 17.484375 21.921875 \nQ 17.484375 14.15625 20.5 10.265625 \nQ 23.53125 6.390625 29.59375 6.390625 \nQ 36.859375 6.390625 41.078125 11.03125 \nQ 45.3125 15.671875 45.3125 23.6875 \nL 45.3125 54.6875 \nL 54.296875 54.6875 \nL 54.296875 0 \nL 45.3125 0 \nL 45.3125 8.40625 \nQ 42.046875 3.421875 37.71875 1 \nQ 33.40625 -1.421875 27.6875 -1.421875 \nQ 18.265625 -1.421875 13.375 4.4375 \nQ 8.5 10.296875 8.5 21.578125 \nz\nM 31.109375 56 \nz\n\" id=\"DejaVuSans-117\"/>\n      <path id=\"DejaVuSans-32\"/>\n      <path d=\"M 19.671875 64.796875 \nL 19.671875 37.40625 \nL 32.078125 37.40625 \nQ 38.96875 37.40625 42.71875 40.96875 \nQ 46.484375 44.53125 46.484375 51.125 \nQ 46.484375 57.671875 42.71875 61.234375 \nQ 38.96875 64.796875 32.078125 64.796875 \nz\nM 9.8125 72.90625 \nL 32.078125 72.90625 \nQ 44.34375 72.90625 50.609375 67.359375 \nQ 56.890625 61.8125 56.890625 51.125 \nQ 56.890625 40.328125 50.609375 34.8125 \nQ 44.34375 29.296875 32.078125 29.296875 \nL 19.671875 29.296875 \nL 19.671875 0 \nL 9.8125 0 \nz\n\" id=\"DejaVuSans-80\"/>\n      <path d=\"M 4.203125 54.6875 \nL 13.1875 54.6875 \nL 24.421875 12.015625 \nL 35.59375 54.6875 \nL 46.1875 54.6875 \nL 57.421875 12.015625 \nL 68.609375 54.6875 \nL 77.59375 54.6875 \nL 63.28125 0 \nL 52.6875 0 \nL 40.921875 44.828125 \nL 29.109375 0 \nL 18.5 0 \nz\n\" id=\"DejaVuSans-119\"/>\n     </defs>\n     <g style=\"fill:#262626;\" transform=\"translate(19.3575 295.561406)rotate(-90)scale(0.16 -0.16)\">\n      <use xlink:href=\"#DejaVuSans-68\"/>\n      <use x=\"77.001953\" xlink:href=\"#DejaVuSans-105\"/>\n      <use x=\"104.785156\" xlink:href=\"#DejaVuSans-115\"/>\n      <use x=\"156.884766\" xlink:href=\"#DejaVuSans-97\"/>\n      <use x=\"218.164062\" xlink:href=\"#DejaVuSans-109\"/>\n      <use x=\"315.576172\" xlink:href=\"#DejaVuSans-98\"/>\n      <use x=\"379.052734\" xlink:href=\"#DejaVuSans-105\"/>\n      <use x=\"406.835938\" xlink:href=\"#DejaVuSans-103\"/>\n      <use x=\"470.3125\" xlink:href=\"#DejaVuSans-117\"/>\n      <use x=\"533.691406\" xlink:href=\"#DejaVuSans-116\"/>\n      <use x=\"572.900391\" xlink:href=\"#DejaVuSans-97\"/>\n      <use x=\"634.179688\" xlink:href=\"#DejaVuSans-116\"/>\n      <use x=\"673.388672\" xlink:href=\"#DejaVuSans-105\"/>\n      <use x=\"701.171875\" xlink:href=\"#DejaVuSans-111\"/>\n      <use x=\"762.353516\" xlink:href=\"#DejaVuSans-110\"/>\n      <use x=\"825.732422\" xlink:href=\"#DejaVuSans-32\"/>\n      <use x=\"857.519531\" xlink:href=\"#DejaVuSans-80\"/>\n      <use x=\"914.197266\" xlink:href=\"#DejaVuSans-111\"/>\n      <use x=\"975.378906\" xlink:href=\"#DejaVuSans-119\"/>\n      <use x=\"1057.166016\" xlink:href=\"#DejaVuSans-101\"/>\n      <use x=\"1118.689453\" xlink:href=\"#DejaVuSans-114\"/>\n     </g>\n    </g>\n   </g>\n   <g id=\"patch_3\">\n    <path clip-path=\"url(#p44cccf11f9)\" d=\"M 98.080938 306.577058 \nL 321.280938 306.577058 \nL 321.280938 165.401725 \nL 98.080938 165.401725 \nL 98.080938 306.577058 \nz\n\" style=\"fill:#5875a4;stroke:#4c4c4c;stroke-linejoin:miter;stroke-width:1.5;\"/>\n   </g>\n   <g id=\"patch_4\">\n    <path clip-path=\"url(#p44cccf11f9)\" d=\"M 377.080938 308.613732 \nL 600.280937 308.613732 \nL 600.280937 223.420528 \nL 377.080938 223.420528 \nL 377.080938 308.613732 \nz\n\" style=\"fill:#cc8963;stroke:#4c4c4c;stroke-linejoin:miter;stroke-width:1.5;\"/>\n   </g>\n   <g id=\"line2d_8\">\n    <path clip-path=\"url(#p44cccf11f9)\" d=\"M 209.680938 306.577058 \nL 209.680938 328.854663 \n\" style=\"fill:none;stroke:#4c4c4c;stroke-linecap:round;stroke-width:1.5;\"/>\n   </g>\n   <g id=\"line2d_9\">\n    <path clip-path=\"url(#p44cccf11f9)\" d=\"M 209.680938 165.401725 \nL 209.680938 41.393921 \n\" style=\"fill:none;stroke:#4c4c4c;stroke-linecap:round;stroke-width:1.5;\"/>\n   </g>\n   <g id=\"line2d_10\">\n    <path clip-path=\"url(#p44cccf11f9)\" d=\"M 153.880938 328.854663 \nL 265.480938 328.854663 \n\" style=\"fill:none;stroke:#4c4c4c;stroke-linecap:round;stroke-width:1.5;\"/>\n   </g>\n   <g id=\"line2d_11\">\n    <path clip-path=\"url(#p44cccf11f9)\" d=\"M 153.880938 41.393921 \nL 265.480938 41.393921 \n\" style=\"fill:none;stroke:#4c4c4c;stroke-linecap:round;stroke-width:1.5;\"/>\n   </g>\n   <g id=\"line2d_12\"/>\n   <g id=\"line2d_13\">\n    <path clip-path=\"url(#p44cccf11f9)\" d=\"M 488.680938 308.613732 \nL 488.680938 335.425621 \n\" style=\"fill:none;stroke:#4c4c4c;stroke-linecap:round;stroke-width:1.5;\"/>\n   </g>\n   <g id=\"line2d_14\">\n    <path clip-path=\"url(#p44cccf11f9)\" d=\"M 488.680938 223.420528 \nL 488.680938 99.880098 \n\" style=\"fill:none;stroke:#4c4c4c;stroke-linecap:round;stroke-width:1.5;\"/>\n   </g>\n   <g id=\"line2d_15\">\n    <path clip-path=\"url(#p44cccf11f9)\" d=\"M 432.880938 335.425621 \nL 544.480937 335.425621 \n\" style=\"fill:none;stroke:#4c4c4c;stroke-linecap:round;stroke-width:1.5;\"/>\n   </g>\n   <g id=\"line2d_16\">\n    <path clip-path=\"url(#p44cccf11f9)\" d=\"M 432.880938 99.880098 \nL 544.480937 99.880098 \n\" style=\"fill:none;stroke:#4c4c4c;stroke-linecap:round;stroke-width:1.5;\"/>\n   </g>\n   <g id=\"line2d_17\">\n    <defs>\n     <path d=\"M -0 3.535534 \nL 2.12132 0 \nL -0 -3.535534 \nL -2.12132 -0 \nz\n\" id=\"maaa89420b8\" style=\"stroke:#4c4c4c;stroke-linejoin:miter;\"/>\n    </defs>\n    <g clip-path=\"url(#p44cccf11f9)\">\n     <use style=\"fill:#4c4c4c;stroke:#4c4c4c;stroke-linejoin:miter;\" x=\"488.680938\" xlink:href=\"#maaa89420b8\" y=\"74.986203\"/>\n     <use style=\"fill:#4c4c4c;stroke:#4c4c4c;stroke-linejoin:miter;\" x=\"488.680938\" xlink:href=\"#maaa89420b8\" y=\"87.85326\"/>\n     <use style=\"fill:#4c4c4c;stroke:#4c4c4c;stroke-linejoin:miter;\" x=\"488.680938\" xlink:href=\"#maaa89420b8\" y=\"92.918524\"/>\n     <use style=\"fill:#4c4c4c;stroke:#4c4c4c;stroke-linejoin:miter;\" x=\"488.680938\" xlink:href=\"#maaa89420b8\" y=\"78.874411\"/>\n    </g>\n   </g>\n   <g id=\"line2d_18\">\n    <path clip-path=\"url(#p44cccf11f9)\" d=\"M 98.080938 245.801582 \nL 321.280938 245.801582 \n\" style=\"fill:none;stroke:#4c4c4c;stroke-linecap:round;stroke-width:1.5;\"/>\n   </g>\n   <g id=\"line2d_19\">\n    <path clip-path=\"url(#p44cccf11f9)\" d=\"M 377.080938 279.605769 \nL 600.280937 279.605769 \n\" style=\"fill:none;stroke:#4c4c4c;stroke-linecap:round;stroke-width:1.5;\"/>\n   </g>\n   <g id=\"patch_5\">\n    <path d=\"M 70.180938 393.038906 \nL 70.180938 12.518906 \n\" style=\"fill:none;stroke:#cccccc;stroke-linecap:square;stroke-linejoin:miter;stroke-width:1.25;\"/>\n   </g>\n   <g id=\"patch_6\">\n    <path d=\"M 628.180938 393.038906 \nL 628.180938 12.518906 \n\" style=\"fill:none;stroke:#cccccc;stroke-linecap:square;stroke-linejoin:miter;stroke-width:1.25;\"/>\n   </g>\n   <g id=\"patch_7\">\n    <path d=\"M 70.180938 393.038906 \nL 628.180938 393.038906 \n\" style=\"fill:none;stroke:#cccccc;stroke-linecap:square;stroke-linejoin:miter;stroke-width:1.25;\"/>\n   </g>\n   <g id=\"patch_8\">\n    <path d=\"M 70.180938 12.518906 \nL 628.180938 12.518906 \n\" style=\"fill:none;stroke:#cccccc;stroke-linecap:square;stroke-linejoin:miter;stroke-width:1.25;\"/>\n   </g>\n  </g>\n </g>\n <defs>\n  <clipPath id=\"p44cccf11f9\">\n   <rect height=\"380.52\" width=\"558\" x=\"70.180938\" y=\"12.518906\"/>\n  </clipPath>\n </defs>\n</svg>\n",
      "image/png": "[encoded data removed]"
     },
     "metadata": {}
    }
   ],
   "source": [
    "import seaborn as sns\n",
    "import pandas as pd\n",
    "sns.set_theme(style=\"whitegrid\")\n",
    "# create boxplots\n",
    "n_list = [\"context\" for i in range(len(disamb))]\n",
    "r_list = [\"random\" for i in range(len(disamb_rand))]\n",
    "data = pd.DataFrame({\"Disambigutation Power\": disamb+disamb_rand, \"type\": n_list+r_list})\n",
    "\n",
    "dims = (10,7)\n",
    "fig, ax = plt.subplots(figsize=dims)\n",
    "b = sns.boxplot(ax=ax, x=\"type\", y=\"Disambigutation Power\", data=data)\n",
    "b.tick_params(labelsize=14)\n",
    "b.set_xlabel(\"Type\",fontsize=16)\n",
    "b.set_ylabel(\"Disambigutation Power\",fontsize=16)\n",
    "ax.set(ylim=(-0.2, 1));  "
   ]
  },
  {
   "cell_type": "code",
   "execution_count": 17,
   "metadata": {},
   "outputs": [
    {
     "output_type": "stream",
     "name": "stdout",
     "text": [
      "0.26432457938813997\n0.157720395969745\n35\n350\n"
     ]
    }
   ],
   "source": [
    "print(np.median(disamb))\n",
    "print(np.median(disamb_rand))\n",
    "print(len(n_list))\n",
    "print(len(r_list))"
   ]
  },
  {
   "cell_type": "code",
   "execution_count": 18,
   "metadata": {},
   "outputs": [
    {
     "output_type": "execute_result",
     "data": {
      "text/plain": [
       "RanksumsResult(statistic=1.454453040504898, pvalue=0.1458207437985194)"
      ]
     },
     "metadata": {},
     "execution_count": 18
    }
   ],
   "source": [
    "from scipy.stats import ranksums\n",
    "\n",
    "ranksums(disamb,disamb_rand)"
   ]
  },
  {
   "source": [
    "## Similarity measure of disambiguated verbs"
   ],
   "cell_type": "markdown",
   "metadata": {}
  },
  {
   "cell_type": "code",
   "execution_count": 23,
   "metadata": {},
   "outputs": [
    {
     "output_type": "execute_result",
     "data": {
      "text/plain": [
       "    word similarity     score\n",
       "0   file    context  0.555220\n",
       "1   file    context  0.719944\n",
       "2   file     random  0.526431\n",
       "3   file    context  0.556273\n",
       "4   file    context  0.509182\n",
       "5   file     random  0.645026\n",
       "6   file    context  0.652972\n",
       "7   file    context  0.743470\n",
       "8   file     random  0.294760\n",
       "9   file    context  0.612360\n",
       "10  file    context  0.521665\n",
       "11  file     random  0.385553\n",
       "12  file    context  0.594481\n",
       "13  file    context  0.594192\n",
       "14  file     random  0.652503"
      ],
      "text/html": "<div>\n<style scoped>\n    .dataframe tbody tr th:only-of-type {\n        vertical-align: middle;\n    }\n\n    .dataframe tbody tr th {\n        vertical-align: top;\n    }\n\n    .dataframe thead th {\n        text-align: right;\n    }\n</style>\n<table border=\"1\" class=\"dataframe\">\n  <thead>\n    <tr style=\"text-align: right;\">\n      <th></th>\n      <th>word</th>\n      <th>similarity</th>\n      <th>score</th>\n    </tr>\n  </thead>\n  <tbody>\n    <tr>\n      <th>0</th>\n      <td>file</td>\n      <td>context</td>\n      <td>0.555220</td>\n    </tr>\n    <tr>\n      <th>1</th>\n      <td>file</td>\n      <td>context</td>\n      <td>0.719944</td>\n    </tr>\n    <tr>\n      <th>2</th>\n      <td>file</td>\n      <td>random</td>\n      <td>0.526431</td>\n    </tr>\n    <tr>\n      <th>3</th>\n      <td>file</td>\n      <td>context</td>\n      <td>0.556273</td>\n    </tr>\n    <tr>\n      <th>4</th>\n      <td>file</td>\n      <td>context</td>\n      <td>0.509182</td>\n    </tr>\n    <tr>\n      <th>5</th>\n      <td>file</td>\n      <td>random</td>\n      <td>0.645026</td>\n    </tr>\n    <tr>\n      <th>6</th>\n      <td>file</td>\n      <td>context</td>\n      <td>0.652972</td>\n    </tr>\n    <tr>\n      <th>7</th>\n      <td>file</td>\n      <td>context</td>\n      <td>0.743470</td>\n    </tr>\n    <tr>\n      <th>8</th>\n      <td>file</td>\n      <td>random</td>\n      <td>0.294760</td>\n    </tr>\n    <tr>\n      <th>9</th>\n      <td>file</td>\n      <td>context</td>\n      <td>0.612360</td>\n    </tr>\n    <tr>\n      <th>10</th>\n      <td>file</td>\n      <td>context</td>\n      <td>0.521665</td>\n    </tr>\n    <tr>\n      <th>11</th>\n      <td>file</td>\n      <td>random</td>\n      <td>0.385553</td>\n    </tr>\n    <tr>\n      <th>12</th>\n      <td>file</td>\n      <td>context</td>\n      <td>0.594481</td>\n    </tr>\n    <tr>\n      <th>13</th>\n      <td>file</td>\n      <td>context</td>\n      <td>0.594192</td>\n    </tr>\n    <tr>\n      <th>14</th>\n      <td>file</td>\n      <td>random</td>\n      <td>0.652503</td>\n    </tr>\n  </tbody>\n</table>\n</div>"
     },
     "metadata": {},
     "execution_count": 23
    }
   ],
   "source": [
    "from words import noun_groups, pairs\n",
    "from pprint import pprint\n",
    "import pandas as pd\n",
    "\n",
    "save = {\"word\": [], \"similarity\": [], \"score\": []}\n",
    "results = {amb_verb: [] for amb_verb in pairs}\n",
    "for amb_verb in pairs:\n",
    "    # construct density matrix of ambigious verb\n",
    "    sense1, sense2 = pairs[amb_verb]\n",
    "    rho = 1/2 * np.outer(verb_states[sense1],np.conj(verb_states[sense1])) + \\\n",
    "        1/2 * np.outer(verb_states[sense2],np.conj(verb_states[sense2]))\n",
    "\n",
    "    for noun in noun_groups[amb_verb]:\n",
    "        rho_n = np.outer(noun_states[noun],np.conj(noun_states[noun]))\n",
    "        rho_comp = np.multiply(rho_n,rho)\n",
    "        rho_comp /= np.trace(rho_comp)\n",
    "\n",
    "        # calculate similarity to random word\n",
    "        z = np.random.uniform(-1,1,size=(4,))\n",
    "        z /= np.linalg.norm(z)\n",
    "        rho_rand = np.matrix(np.outer(z,np.conj(z)))\n",
    "        rho_comp_rand = np.multiply(rho_rand,rho)\n",
    "        rho_comp_rand /= np.trace(rho_comp_rand)\n",
    "\n",
    "        max_rand_sim = 0\n",
    "        for sense in pairs[amb_verb]:\n",
    "\n",
    "            rho_sense = np.matrix(np.outer(verb_states[sense],np.conj(verb_states[sense])))\n",
    "            similarity = np.abs(np.trace(np.dot(rho_sense.getH(),rho_comp)))\n",
    "            gtruth = true_sentences.get((sense,noun),0)\n",
    "            \n",
    "            save[\"word\"].append(amb_verb)\n",
    "\n",
    "            if gtruth == 0:\n",
    "                save[\"similarity\"].append(\"context\")\n",
    "                save[\"score\"].append(1-similarity)\n",
    "                results[amb_verb].append([gtruth, similarity])\n",
    "            else:\n",
    "                save[\"similarity\"].append(\"context\")\n",
    "                save[\"score\"].append(similarity)\n",
    "                results[amb_verb].append([gtruth, similarity])\n",
    "\n",
    "            similarity_rand = np.abs(np.trace(np.dot(rho_sense.getH(),rho_comp_rand)))\n",
    "            max_rand_sim = max(max_rand_sim,similarity_rand)\n",
    "\n",
    "        save[\"word\"].append(amb_verb)\n",
    "        save[\"similarity\"].append(\"random\")\n",
    "        save[\"score\"].append(max_rand_sim)\n",
    "            \n",
    "save_df = pd.DataFrame.from_dict(save)\n",
    "save_df.head(15)"
   ]
  },
  {
   "cell_type": "code",
   "execution_count": 24,
   "metadata": {},
   "outputs": [
    {
     "output_type": "display_data",
     "data": {
      "text/plain": "<Figure size 720x504 with 1 Axes>",
      "image/svg+xml": "<?xml version=\"1.0\" encoding=\"utf-8\" standalone=\"no\"?>\n<!DOCTYPE svg PUBLIC \"-//W3C//DTD SVG 1.1//EN\"\n  \"http://www.w3.org/Graphics/SVG/1.1/DTD/svg11.dtd\">\n<!-- Created with matplotlib (https://matplotlib.org/) -->\n<svg height=\"441.809531pt\" version=\"1.1\" viewBox=\"0 0 629.560781 441.809531\" width=\"629.560781pt\" xmlns=\"http://www.w3.org/2000/svg\" xmlns:xlink=\"http://www.w3.org/1999/xlink\">\n <defs>\n  <style type=\"text/css\">\n*{stroke-linecap:butt;stroke-linejoin:round;}\n  </style>\n </defs>\n <g id=\"figure_1\">\n  <g id=\"patch_1\">\n   <path d=\"M 0 441.809531 \nL 629.560781 441.809531 \nL 629.560781 0 \nL 0 0 \nz\n\" style=\"fill:#ffffff;\"/>\n  </g>\n  <g id=\"axes_1\">\n   <g id=\"patch_2\">\n    <path d=\"M 64.360781 387.72 \nL 622.360781 387.72 \nL 622.360781 7.2 \nL 64.360781 7.2 \nz\n\" style=\"fill:#eaeaf2;\"/>\n   </g>\n   <g id=\"matplotlib.axis_1\">\n    <g id=\"xtick_1\">\n     <g id=\"text_1\">\n      <!-- file -->\n      <defs>\n       <path d=\"M 37.109375 75.984375 \nL 37.109375 68.5 \nL 28.515625 68.5 \nQ 23.6875 68.5 21.796875 66.546875 \nQ 19.921875 64.59375 19.921875 59.515625 \nL 19.921875 54.6875 \nL 34.71875 54.6875 \nL 34.71875 47.703125 \nL 19.921875 47.703125 \nL 19.921875 0 \nL 10.890625 0 \nL 10.890625 47.703125 \nL 2.296875 47.703125 \nL 2.296875 54.6875 \nL 10.890625 54.6875 \nL 10.890625 58.5 \nQ 10.890625 67.625 15.140625 71.796875 \nQ 19.390625 75.984375 28.609375 75.984375 \nz\n\" id=\"DejaVuSans-102\"/>\n       <path d=\"M 9.421875 54.6875 \nL 18.40625 54.6875 \nL 18.40625 0 \nL 9.421875 0 \nz\nM 9.421875 75.984375 \nL 18.40625 75.984375 \nL 18.40625 64.59375 \nL 9.421875 64.59375 \nz\n\" id=\"DejaVuSans-105\"/>\n       <path d=\"M 9.421875 75.984375 \nL 18.40625 75.984375 \nL 18.40625 0 \nL 9.421875 0 \nz\n\" id=\"DejaVuSans-108\"/>\n       <path d=\"M 56.203125 29.59375 \nL 56.203125 25.203125 \nL 14.890625 25.203125 \nQ 15.484375 15.921875 20.484375 11.0625 \nQ 25.484375 6.203125 34.421875 6.203125 \nQ 39.59375 6.203125 44.453125 7.46875 \nQ 49.3125 8.734375 54.109375 11.28125 \nL 54.109375 2.78125 \nQ 49.265625 0.734375 44.1875 -0.34375 \nQ 39.109375 -1.421875 33.890625 -1.421875 \nQ 20.796875 -1.421875 13.15625 6.1875 \nQ 5.515625 13.8125 5.515625 26.8125 \nQ 5.515625 40.234375 12.765625 48.109375 \nQ 20.015625 56 32.328125 56 \nQ 43.359375 56 49.78125 48.890625 \nQ 56.203125 41.796875 56.203125 29.59375 \nz\nM 47.21875 32.234375 \nQ 47.125 39.59375 43.09375 43.984375 \nQ 39.0625 48.390625 32.421875 48.390625 \nQ 24.90625 48.390625 20.390625 44.140625 \nQ 15.875 39.890625 15.1875 32.171875 \nz\n\" id=\"DejaVuSans-101\"/>\n      </defs>\n      <g style=\"fill:#262626;\" transform=\"translate(121.546289 409.757422)scale(0.165 -0.165)\">\n       <use xlink:href=\"#DejaVuSans-102\"/>\n       <use x=\"35.205078\" xlink:href=\"#DejaVuSans-105\"/>\n       <use x=\"62.988281\" xlink:href=\"#DejaVuSans-108\"/>\n       <use x=\"90.771484\" xlink:href=\"#DejaVuSans-101\"/>\n      </g>\n     </g>\n    </g>\n    <g id=\"xtick_2\">\n     <g id=\"text_2\">\n      <!-- dribble -->\n      <defs>\n       <path d=\"M 45.40625 46.390625 \nL 45.40625 75.984375 \nL 54.390625 75.984375 \nL 54.390625 0 \nL 45.40625 0 \nL 45.40625 8.203125 \nQ 42.578125 3.328125 38.25 0.953125 \nQ 33.9375 -1.421875 27.875 -1.421875 \nQ 17.96875 -1.421875 11.734375 6.484375 \nQ 5.515625 14.40625 5.515625 27.296875 \nQ 5.515625 40.1875 11.734375 48.09375 \nQ 17.96875 56 27.875 56 \nQ 33.9375 56 38.25 53.625 \nQ 42.578125 51.265625 45.40625 46.390625 \nz\nM 14.796875 27.296875 \nQ 14.796875 17.390625 18.875 11.75 \nQ 22.953125 6.109375 30.078125 6.109375 \nQ 37.203125 6.109375 41.296875 11.75 \nQ 45.40625 17.390625 45.40625 27.296875 \nQ 45.40625 37.203125 41.296875 42.84375 \nQ 37.203125 48.484375 30.078125 48.484375 \nQ 22.953125 48.484375 18.875 42.84375 \nQ 14.796875 37.203125 14.796875 27.296875 \nz\n\" id=\"DejaVuSans-100\"/>\n       <path d=\"M 41.109375 46.296875 \nQ 39.59375 47.171875 37.8125 47.578125 \nQ 36.03125 48 33.890625 48 \nQ 26.265625 48 22.1875 43.046875 \nQ 18.109375 38.09375 18.109375 28.8125 \nL 18.109375 0 \nL 9.078125 0 \nL 9.078125 54.6875 \nL 18.109375 54.6875 \nL 18.109375 46.1875 \nQ 20.953125 51.171875 25.484375 53.578125 \nQ 30.03125 56 36.53125 56 \nQ 37.453125 56 38.578125 55.875 \nQ 39.703125 55.765625 41.0625 55.515625 \nz\n\" id=\"DejaVuSans-114\"/>\n       <path d=\"M 48.6875 27.296875 \nQ 48.6875 37.203125 44.609375 42.84375 \nQ 40.53125 48.484375 33.40625 48.484375 \nQ 26.265625 48.484375 22.1875 42.84375 \nQ 18.109375 37.203125 18.109375 27.296875 \nQ 18.109375 17.390625 22.1875 11.75 \nQ 26.265625 6.109375 33.40625 6.109375 \nQ 40.53125 6.109375 44.609375 11.75 \nQ 48.6875 17.390625 48.6875 27.296875 \nz\nM 18.109375 46.390625 \nQ 20.953125 51.265625 25.265625 53.625 \nQ 29.59375 56 35.59375 56 \nQ 45.5625 56 51.78125 48.09375 \nQ 58.015625 40.1875 58.015625 27.296875 \nQ 58.015625 14.40625 51.78125 6.484375 \nQ 45.5625 -1.421875 35.59375 -1.421875 \nQ 29.59375 -1.421875 25.265625 0.953125 \nQ 20.953125 3.328125 18.109375 8.203125 \nL 18.109375 0 \nL 9.078125 0 \nL 9.078125 75.984375 \nL 18.109375 75.984375 \nz\n\" id=\"DejaVuSans-98\"/>\n      </defs>\n      <g style=\"fill:#262626;\" transform=\"translate(244.846641 409.757422)scale(0.165 -0.165)\">\n       <use xlink:href=\"#DejaVuSans-100\"/>\n       <use x=\"63.476562\" xlink:href=\"#DejaVuSans-114\"/>\n       <use x=\"104.589844\" xlink:href=\"#DejaVuSans-105\"/>\n       <use x=\"132.373047\" xlink:href=\"#DejaVuSans-98\"/>\n       <use x=\"195.849609\" xlink:href=\"#DejaVuSans-98\"/>\n       <use x=\"259.326172\" xlink:href=\"#DejaVuSans-108\"/>\n       <use x=\"287.109375\" xlink:href=\"#DejaVuSans-101\"/>\n      </g>\n     </g>\n    </g>\n    <g id=\"xtick_3\">\n     <g id=\"text_3\">\n      <!-- tap -->\n      <defs>\n       <path d=\"M 18.3125 70.21875 \nL 18.3125 54.6875 \nL 36.8125 54.6875 \nL 36.8125 47.703125 \nL 18.3125 47.703125 \nL 18.3125 18.015625 \nQ 18.3125 11.328125 20.140625 9.421875 \nQ 21.96875 7.515625 27.59375 7.515625 \nL 36.8125 7.515625 \nL 36.8125 0 \nL 27.59375 0 \nQ 17.1875 0 13.234375 3.875 \nQ 9.28125 7.765625 9.28125 18.015625 \nL 9.28125 47.703125 \nL 2.6875 47.703125 \nL 2.6875 54.6875 \nL 9.28125 54.6875 \nL 9.28125 70.21875 \nz\n\" id=\"DejaVuSans-116\"/>\n       <path d=\"M 34.28125 27.484375 \nQ 23.390625 27.484375 19.1875 25 \nQ 14.984375 22.515625 14.984375 16.5 \nQ 14.984375 11.71875 18.140625 8.90625 \nQ 21.296875 6.109375 26.703125 6.109375 \nQ 34.1875 6.109375 38.703125 11.40625 \nQ 43.21875 16.703125 43.21875 25.484375 \nL 43.21875 27.484375 \nz\nM 52.203125 31.203125 \nL 52.203125 0 \nL 43.21875 0 \nL 43.21875 8.296875 \nQ 40.140625 3.328125 35.546875 0.953125 \nQ 30.953125 -1.421875 24.3125 -1.421875 \nQ 15.921875 -1.421875 10.953125 3.296875 \nQ 6 8.015625 6 15.921875 \nQ 6 25.140625 12.171875 29.828125 \nQ 18.359375 34.515625 30.609375 34.515625 \nL 43.21875 34.515625 \nL 43.21875 35.40625 \nQ 43.21875 41.609375 39.140625 45 \nQ 35.0625 48.390625 27.6875 48.390625 \nQ 23 48.390625 18.546875 47.265625 \nQ 14.109375 46.140625 10.015625 43.890625 \nL 10.015625 52.203125 \nQ 14.9375 54.109375 19.578125 55.046875 \nQ 24.21875 56 28.609375 56 \nQ 40.484375 56 46.34375 49.84375 \nQ 52.203125 43.703125 52.203125 31.203125 \nz\n\" id=\"DejaVuSans-97\"/>\n       <path d=\"M 18.109375 8.203125 \nL 18.109375 -20.796875 \nL 9.078125 -20.796875 \nL 9.078125 54.6875 \nL 18.109375 54.6875 \nL 18.109375 46.390625 \nQ 20.953125 51.265625 25.265625 53.625 \nQ 29.59375 56 35.59375 56 \nQ 45.5625 56 51.78125 48.09375 \nQ 58.015625 40.1875 58.015625 27.296875 \nQ 58.015625 14.40625 51.78125 6.484375 \nQ 45.5625 -1.421875 35.59375 -1.421875 \nQ 29.59375 -1.421875 25.265625 0.953125 \nQ 20.953125 3.328125 18.109375 8.203125 \nz\nM 48.6875 27.296875 \nQ 48.6875 37.203125 44.609375 42.84375 \nQ 40.53125 48.484375 33.40625 48.484375 \nQ 26.265625 48.484375 22.1875 42.84375 \nQ 18.109375 37.203125 18.109375 27.296875 \nQ 18.109375 17.390625 22.1875 11.75 \nQ 26.265625 6.109375 33.40625 6.109375 \nQ 40.53125 6.109375 44.609375 11.75 \nQ 48.6875 17.390625 48.6875 27.296875 \nz\n\" id=\"DejaVuSans-112\"/>\n      </defs>\n      <g style=\"fill:#262626;\" transform=\"translate(399.583359 409.757422)scale(0.165 -0.165)\">\n       <use xlink:href=\"#DejaVuSans-116\"/>\n       <use x=\"39.208984\" xlink:href=\"#DejaVuSans-97\"/>\n       <use x=\"100.488281\" xlink:href=\"#DejaVuSans-112\"/>\n      </g>\n     </g>\n    </g>\n    <g id=\"xtick_4\">\n     <g id=\"text_4\">\n      <!-- charge -->\n      <defs>\n       <path d=\"M 48.78125 52.59375 \nL 48.78125 44.1875 \nQ 44.96875 46.296875 41.140625 47.34375 \nQ 37.3125 48.390625 33.40625 48.390625 \nQ 24.65625 48.390625 19.8125 42.84375 \nQ 14.984375 37.3125 14.984375 27.296875 \nQ 14.984375 17.28125 19.8125 11.734375 \nQ 24.65625 6.203125 33.40625 6.203125 \nQ 37.3125 6.203125 41.140625 7.25 \nQ 44.96875 8.296875 48.78125 10.40625 \nL 48.78125 2.09375 \nQ 45.015625 0.34375 40.984375 -0.53125 \nQ 36.96875 -1.421875 32.421875 -1.421875 \nQ 20.0625 -1.421875 12.78125 6.34375 \nQ 5.515625 14.109375 5.515625 27.296875 \nQ 5.515625 40.671875 12.859375 48.328125 \nQ 20.21875 56 33.015625 56 \nQ 37.15625 56 41.109375 55.140625 \nQ 45.0625 54.296875 48.78125 52.59375 \nz\n\" id=\"DejaVuSans-99\"/>\n       <path d=\"M 54.890625 33.015625 \nL 54.890625 0 \nL 45.90625 0 \nL 45.90625 32.71875 \nQ 45.90625 40.484375 42.875 44.328125 \nQ 39.84375 48.1875 33.796875 48.1875 \nQ 26.515625 48.1875 22.3125 43.546875 \nQ 18.109375 38.921875 18.109375 30.90625 \nL 18.109375 0 \nL 9.078125 0 \nL 9.078125 75.984375 \nL 18.109375 75.984375 \nL 18.109375 46.1875 \nQ 21.34375 51.125 25.703125 53.5625 \nQ 30.078125 56 35.796875 56 \nQ 45.21875 56 50.046875 50.171875 \nQ 54.890625 44.34375 54.890625 33.015625 \nz\n\" id=\"DejaVuSans-104\"/>\n       <path d=\"M 45.40625 27.984375 \nQ 45.40625 37.75 41.375 43.109375 \nQ 37.359375 48.484375 30.078125 48.484375 \nQ 22.859375 48.484375 18.828125 43.109375 \nQ 14.796875 37.75 14.796875 27.984375 \nQ 14.796875 18.265625 18.828125 12.890625 \nQ 22.859375 7.515625 30.078125 7.515625 \nQ 37.359375 7.515625 41.375 12.890625 \nQ 45.40625 18.265625 45.40625 27.984375 \nz\nM 54.390625 6.78125 \nQ 54.390625 -7.171875 48.1875 -13.984375 \nQ 42 -20.796875 29.203125 -20.796875 \nQ 24.46875 -20.796875 20.265625 -20.09375 \nQ 16.0625 -19.390625 12.109375 -17.921875 \nL 12.109375 -9.1875 \nQ 16.0625 -11.328125 19.921875 -12.34375 \nQ 23.78125 -13.375 27.78125 -13.375 \nQ 36.625 -13.375 41.015625 -8.765625 \nQ 45.40625 -4.15625 45.40625 5.171875 \nL 45.40625 9.625 \nQ 42.625 4.78125 38.28125 2.390625 \nQ 33.9375 0 27.875 0 \nQ 17.828125 0 11.671875 7.65625 \nQ 5.515625 15.328125 5.515625 27.984375 \nQ 5.515625 40.671875 11.671875 48.328125 \nQ 17.828125 56 27.875 56 \nQ 33.9375 56 38.28125 53.609375 \nQ 42.625 51.21875 45.40625 46.390625 \nL 45.40625 54.6875 \nL 54.390625 54.6875 \nz\n\" id=\"DejaVuSans-103\"/>\n      </defs>\n      <g style=\"fill:#262626;\" transform=\"translate(524.229492 409.757422)scale(0.165 -0.165)\">\n       <use xlink:href=\"#DejaVuSans-99\"/>\n       <use x=\"54.980469\" xlink:href=\"#DejaVuSans-104\"/>\n       <use x=\"118.359375\" xlink:href=\"#DejaVuSans-97\"/>\n       <use x=\"179.638672\" xlink:href=\"#DejaVuSans-114\"/>\n       <use x=\"219.001953\" xlink:href=\"#DejaVuSans-103\"/>\n       <use x=\"282.478516\" xlink:href=\"#DejaVuSans-101\"/>\n      </g>\n     </g>\n    </g>\n    <g id=\"text_5\">\n     <!-- word -->\n     <defs>\n      <path d=\"M 4.203125 54.6875 \nL 13.1875 54.6875 \nL 24.421875 12.015625 \nL 35.59375 54.6875 \nL 46.1875 54.6875 \nL 57.421875 12.015625 \nL 68.609375 54.6875 \nL 77.59375 54.6875 \nL 63.28125 0 \nL 52.6875 0 \nL 40.921875 44.828125 \nL 29.109375 0 \nL 18.5 0 \nz\n\" id=\"DejaVuSans-119\"/>\n      <path d=\"M 30.609375 48.390625 \nQ 23.390625 48.390625 19.1875 42.75 \nQ 14.984375 37.109375 14.984375 27.296875 \nQ 14.984375 17.484375 19.15625 11.84375 \nQ 23.34375 6.203125 30.609375 6.203125 \nQ 37.796875 6.203125 41.984375 11.859375 \nQ 46.1875 17.53125 46.1875 27.296875 \nQ 46.1875 37.015625 41.984375 42.703125 \nQ 37.796875 48.390625 30.609375 48.390625 \nz\nM 30.609375 56 \nQ 42.328125 56 49.015625 48.375 \nQ 55.71875 40.765625 55.71875 27.296875 \nQ 55.71875 13.875 49.015625 6.21875 \nQ 42.328125 -1.421875 30.609375 -1.421875 \nQ 18.84375 -1.421875 12.171875 6.21875 \nQ 5.515625 13.875 5.515625 27.296875 \nQ 5.515625 40.765625 12.171875 48.375 \nQ 18.84375 56 30.609375 56 \nz\n\" id=\"DejaVuSans-111\"/>\n     </defs>\n     <g style=\"fill:#262626;\" transform=\"translate(321.237656 430.866094)scale(0.18 -0.18)\">\n      <use xlink:href=\"#DejaVuSans-119\"/>\n      <use x=\"81.787109\" xlink:href=\"#DejaVuSans-111\"/>\n      <use x=\"142.96875\" xlink:href=\"#DejaVuSans-114\"/>\n      <use x=\"182.332031\" xlink:href=\"#DejaVuSans-100\"/>\n     </g>\n    </g>\n   </g>\n   <g id=\"matplotlib.axis_2\">\n    <g id=\"ytick_1\">\n     <g id=\"line2d_1\">\n      <path clip-path=\"url(#p869db077d7)\" d=\"M 64.360781 372.765545 \nL 622.360781 372.765545 \n\" style=\"fill:none;stroke:#ffffff;stroke-linecap:round;\"/>\n     </g>\n     <g id=\"text_6\">\n      <!-- 0.0 -->\n      <defs>\n       <path d=\"M 31.78125 66.40625 \nQ 24.171875 66.40625 20.328125 58.90625 \nQ 16.5 51.421875 16.5 36.375 \nQ 16.5 21.390625 20.328125 13.890625 \nQ 24.171875 6.390625 31.78125 6.390625 \nQ 39.453125 6.390625 43.28125 13.890625 \nQ 47.125 21.390625 47.125 36.375 \nQ 47.125 51.421875 43.28125 58.90625 \nQ 39.453125 66.40625 31.78125 66.40625 \nz\nM 31.78125 74.21875 \nQ 44.046875 74.21875 50.515625 64.515625 \nQ 56.984375 54.828125 56.984375 36.375 \nQ 56.984375 17.96875 50.515625 8.265625 \nQ 44.046875 -1.421875 31.78125 -1.421875 \nQ 19.53125 -1.421875 13.0625 8.265625 \nQ 6.59375 17.96875 6.59375 36.375 \nQ 6.59375 54.828125 13.0625 64.515625 \nQ 19.53125 74.21875 31.78125 74.21875 \nz\n\" id=\"DejaVuSans-48\"/>\n       <path d=\"M 10.6875 12.40625 \nL 21 12.40625 \nL 21 0 \nL 10.6875 0 \nz\n\" id=\"DejaVuSans-46\"/>\n      </defs>\n      <g style=\"fill:#262626;\" transform=\"translate(28.620625 379.034256)scale(0.165 -0.165)\">\n       <use xlink:href=\"#DejaVuSans-48\"/>\n       <use x=\"63.623047\" xlink:href=\"#DejaVuSans-46\"/>\n       <use x=\"95.410156\" xlink:href=\"#DejaVuSans-48\"/>\n      </g>\n     </g>\n    </g>\n    <g id=\"ytick_2\">\n     <g id=\"line2d_2\">\n      <path clip-path=\"url(#p869db077d7)\" d=\"M 64.360781 300.981839 \nL 622.360781 300.981839 \n\" style=\"fill:none;stroke:#ffffff;stroke-linecap:round;\"/>\n     </g>\n     <g id=\"text_7\">\n      <!-- 0.2 -->\n      <defs>\n       <path d=\"M 19.1875 8.296875 \nL 53.609375 8.296875 \nL 53.609375 0 \nL 7.328125 0 \nL 7.328125 8.296875 \nQ 12.9375 14.109375 22.625 23.890625 \nQ 32.328125 33.6875 34.8125 36.53125 \nQ 39.546875 41.84375 41.421875 45.53125 \nQ 43.3125 49.21875 43.3125 52.78125 \nQ 43.3125 58.59375 39.234375 62.25 \nQ 35.15625 65.921875 28.609375 65.921875 \nQ 23.96875 65.921875 18.8125 64.3125 \nQ 13.671875 62.703125 7.8125 59.421875 \nL 7.8125 69.390625 \nQ 13.765625 71.78125 18.9375 73 \nQ 24.125 74.21875 28.421875 74.21875 \nQ 39.75 74.21875 46.484375 68.546875 \nQ 53.21875 62.890625 53.21875 53.421875 \nQ 53.21875 48.921875 51.53125 44.890625 \nQ 49.859375 40.875 45.40625 35.40625 \nQ 44.1875 33.984375 37.640625 27.21875 \nQ 31.109375 20.453125 19.1875 8.296875 \nz\n\" id=\"DejaVuSans-50\"/>\n      </defs>\n      <g style=\"fill:#262626;\" transform=\"translate(28.620625 307.25055)scale(0.165 -0.165)\">\n       <use xlink:href=\"#DejaVuSans-48\"/>\n       <use x=\"63.623047\" xlink:href=\"#DejaVuSans-46\"/>\n       <use x=\"95.410156\" xlink:href=\"#DejaVuSans-50\"/>\n      </g>\n     </g>\n    </g>\n    <g id=\"ytick_3\">\n     <g id=\"line2d_3\">\n      <path clip-path=\"url(#p869db077d7)\" d=\"M 64.360781 229.198133 \nL 622.360781 229.198133 \n\" style=\"fill:none;stroke:#ffffff;stroke-linecap:round;\"/>\n     </g>\n     <g id=\"text_8\">\n      <!-- 0.4 -->\n      <defs>\n       <path d=\"M 37.796875 64.3125 \nL 12.890625 25.390625 \nL 37.796875 25.390625 \nz\nM 35.203125 72.90625 \nL 47.609375 72.90625 \nL 47.609375 25.390625 \nL 58.015625 25.390625 \nL 58.015625 17.1875 \nL 47.609375 17.1875 \nL 47.609375 0 \nL 37.796875 0 \nL 37.796875 17.1875 \nL 4.890625 17.1875 \nL 4.890625 26.703125 \nz\n\" id=\"DejaVuSans-52\"/>\n      </defs>\n      <g style=\"fill:#262626;\" transform=\"translate(28.620625 235.466844)scale(0.165 -0.165)\">\n       <use xlink:href=\"#DejaVuSans-48\"/>\n       <use x=\"63.623047\" xlink:href=\"#DejaVuSans-46\"/>\n       <use x=\"95.410156\" xlink:href=\"#DejaVuSans-52\"/>\n      </g>\n     </g>\n    </g>\n    <g id=\"ytick_4\">\n     <g id=\"line2d_4\">\n      <path clip-path=\"url(#p869db077d7)\" d=\"M 64.360781 157.414426 \nL 622.360781 157.414426 \n\" style=\"fill:none;stroke:#ffffff;stroke-linecap:round;\"/>\n     </g>\n     <g id=\"text_9\">\n      <!-- 0.6 -->\n      <defs>\n       <path d=\"M 33.015625 40.375 \nQ 26.375 40.375 22.484375 35.828125 \nQ 18.609375 31.296875 18.609375 23.390625 \nQ 18.609375 15.53125 22.484375 10.953125 \nQ 26.375 6.390625 33.015625 6.390625 \nQ 39.65625 6.390625 43.53125 10.953125 \nQ 47.40625 15.53125 47.40625 23.390625 \nQ 47.40625 31.296875 43.53125 35.828125 \nQ 39.65625 40.375 33.015625 40.375 \nz\nM 52.59375 71.296875 \nL 52.59375 62.3125 \nQ 48.875 64.0625 45.09375 64.984375 \nQ 41.3125 65.921875 37.59375 65.921875 \nQ 27.828125 65.921875 22.671875 59.328125 \nQ 17.53125 52.734375 16.796875 39.40625 \nQ 19.671875 43.65625 24.015625 45.921875 \nQ 28.375 48.1875 33.59375 48.1875 \nQ 44.578125 48.1875 50.953125 41.515625 \nQ 57.328125 34.859375 57.328125 23.390625 \nQ 57.328125 12.15625 50.6875 5.359375 \nQ 44.046875 -1.421875 33.015625 -1.421875 \nQ 20.359375 -1.421875 13.671875 8.265625 \nQ 6.984375 17.96875 6.984375 36.375 \nQ 6.984375 53.65625 15.1875 63.9375 \nQ 23.390625 74.21875 37.203125 74.21875 \nQ 40.921875 74.21875 44.703125 73.484375 \nQ 48.484375 72.75 52.59375 71.296875 \nz\n\" id=\"DejaVuSans-54\"/>\n      </defs>\n      <g style=\"fill:#262626;\" transform=\"translate(28.620625 163.683137)scale(0.165 -0.165)\">\n       <use xlink:href=\"#DejaVuSans-48\"/>\n       <use x=\"63.623047\" xlink:href=\"#DejaVuSans-46\"/>\n       <use x=\"95.410156\" xlink:href=\"#DejaVuSans-54\"/>\n      </g>\n     </g>\n    </g>\n    <g id=\"ytick_5\">\n     <g id=\"line2d_5\">\n      <path clip-path=\"url(#p869db077d7)\" d=\"M 64.360781 85.63072 \nL 622.360781 85.63072 \n\" style=\"fill:none;stroke:#ffffff;stroke-linecap:round;\"/>\n     </g>\n     <g id=\"text_10\">\n      <!-- 0.8 -->\n      <defs>\n       <path d=\"M 31.78125 34.625 \nQ 24.75 34.625 20.71875 30.859375 \nQ 16.703125 27.09375 16.703125 20.515625 \nQ 16.703125 13.921875 20.71875 10.15625 \nQ 24.75 6.390625 31.78125 6.390625 \nQ 38.8125 6.390625 42.859375 10.171875 \nQ 46.921875 13.96875 46.921875 20.515625 \nQ 46.921875 27.09375 42.890625 30.859375 \nQ 38.875 34.625 31.78125 34.625 \nz\nM 21.921875 38.8125 \nQ 15.578125 40.375 12.03125 44.71875 \nQ 8.5 49.078125 8.5 55.328125 \nQ 8.5 64.0625 14.71875 69.140625 \nQ 20.953125 74.21875 31.78125 74.21875 \nQ 42.671875 74.21875 48.875 69.140625 \nQ 55.078125 64.0625 55.078125 55.328125 \nQ 55.078125 49.078125 51.53125 44.71875 \nQ 48 40.375 41.703125 38.8125 \nQ 48.828125 37.15625 52.796875 32.3125 \nQ 56.78125 27.484375 56.78125 20.515625 \nQ 56.78125 9.90625 50.3125 4.234375 \nQ 43.84375 -1.421875 31.78125 -1.421875 \nQ 19.734375 -1.421875 13.25 4.234375 \nQ 6.78125 9.90625 6.78125 20.515625 \nQ 6.78125 27.484375 10.78125 32.3125 \nQ 14.796875 37.15625 21.921875 38.8125 \nz\nM 18.3125 54.390625 \nQ 18.3125 48.734375 21.84375 45.5625 \nQ 25.390625 42.390625 31.78125 42.390625 \nQ 38.140625 42.390625 41.71875 45.5625 \nQ 45.3125 48.734375 45.3125 54.390625 \nQ 45.3125 60.0625 41.71875 63.234375 \nQ 38.140625 66.40625 31.78125 66.40625 \nQ 25.390625 66.40625 21.84375 63.234375 \nQ 18.3125 60.0625 18.3125 54.390625 \nz\n\" id=\"DejaVuSans-56\"/>\n      </defs>\n      <g style=\"fill:#262626;\" transform=\"translate(28.620625 91.899431)scale(0.165 -0.165)\">\n       <use xlink:href=\"#DejaVuSans-48\"/>\n       <use x=\"63.623047\" xlink:href=\"#DejaVuSans-46\"/>\n       <use x=\"95.410156\" xlink:href=\"#DejaVuSans-56\"/>\n      </g>\n     </g>\n    </g>\n    <g id=\"ytick_6\">\n     <g id=\"line2d_6\">\n      <path clip-path=\"url(#p869db077d7)\" d=\"M 64.360781 13.847014 \nL 622.360781 13.847014 \n\" style=\"fill:none;stroke:#ffffff;stroke-linecap:round;\"/>\n     </g>\n     <g id=\"text_11\">\n      <!-- 1.0 -->\n      <defs>\n       <path d=\"M 12.40625 8.296875 \nL 28.515625 8.296875 \nL 28.515625 63.921875 \nL 10.984375 60.40625 \nL 10.984375 69.390625 \nL 28.421875 72.90625 \nL 38.28125 72.90625 \nL 38.28125 8.296875 \nL 54.390625 8.296875 \nL 54.390625 0 \nL 12.40625 0 \nz\n\" id=\"DejaVuSans-49\"/>\n      </defs>\n      <g style=\"fill:#262626;\" transform=\"translate(28.620625 20.115725)scale(0.165 -0.165)\">\n       <use xlink:href=\"#DejaVuSans-49\"/>\n       <use x=\"63.623047\" xlink:href=\"#DejaVuSans-46\"/>\n       <use x=\"95.410156\" xlink:href=\"#DejaVuSans-48\"/>\n      </g>\n     </g>\n    </g>\n    <g id=\"text_12\">\n     <!-- score -->\n     <defs>\n      <path d=\"M 44.28125 53.078125 \nL 44.28125 44.578125 \nQ 40.484375 46.53125 36.375 47.5 \nQ 32.28125 48.484375 27.875 48.484375 \nQ 21.1875 48.484375 17.84375 46.4375 \nQ 14.5 44.390625 14.5 40.28125 \nQ 14.5 37.15625 16.890625 35.375 \nQ 19.28125 33.59375 26.515625 31.984375 \nL 29.59375 31.296875 \nQ 39.15625 29.25 43.1875 25.515625 \nQ 47.21875 21.78125 47.21875 15.09375 \nQ 47.21875 7.46875 41.1875 3.015625 \nQ 35.15625 -1.421875 24.609375 -1.421875 \nQ 20.21875 -1.421875 15.453125 -0.5625 \nQ 10.6875 0.296875 5.421875 2 \nL 5.421875 11.28125 \nQ 10.40625 8.6875 15.234375 7.390625 \nQ 20.0625 6.109375 24.8125 6.109375 \nQ 31.15625 6.109375 34.5625 8.28125 \nQ 37.984375 10.453125 37.984375 14.40625 \nQ 37.984375 18.0625 35.515625 20.015625 \nQ 33.0625 21.96875 24.703125 23.78125 \nL 21.578125 24.515625 \nQ 13.234375 26.265625 9.515625 29.90625 \nQ 5.8125 33.546875 5.8125 39.890625 \nQ 5.8125 47.609375 11.28125 51.796875 \nQ 16.75 56 26.8125 56 \nQ 31.78125 56 36.171875 55.265625 \nQ 40.578125 54.546875 44.28125 53.078125 \nz\n\" id=\"DejaVuSans-115\"/>\n     </defs>\n     <g style=\"fill:#262626;\" transform=\"translate(20.877188 221.639062)rotate(-90)scale(0.18 -0.18)\">\n      <use xlink:href=\"#DejaVuSans-115\"/>\n      <use x=\"52.099609\" xlink:href=\"#DejaVuSans-99\"/>\n      <use x=\"107.080078\" xlink:href=\"#DejaVuSans-111\"/>\n      <use x=\"168.261719\" xlink:href=\"#DejaVuSans-114\"/>\n      <use x=\"207.125\" xlink:href=\"#DejaVuSans-101\"/>\n     </g>\n    </g>\n   </g>\n   <g id=\"patch_3\">\n    <path clip-path=\"url(#p869db077d7)\" d=\"M 78.868781 188.890519 \nL 133.552781 188.890519 \nL 133.552781 147.802528 \nL 78.868781 147.802528 \nL 78.868781 188.890519 \nz\n\" style=\"fill:#96cac1;stroke:#6a6a6a;stroke-linejoin:miter;stroke-width:1.5;\"/>\n   </g>\n   <g id=\"patch_4\">\n    <path clip-path=\"url(#p869db077d7)\" d=\"M 134.668781 234.383539 \nL 189.352781 234.383539 \nL 189.352781 156.513167 \nL 134.668781 156.513167 \nL 134.668781 234.383539 \nz\n\" style=\"fill:#f6f6bc;stroke:#6a6a6a;stroke-linejoin:miter;stroke-width:1.5;\"/>\n   </g>\n   <g id=\"patch_5\">\n    <path clip-path=\"url(#p869db077d7)\" d=\"M 218.368781 160.24134 \nL 273.052781 160.24134 \nL 273.052781 106.012709 \nL 218.368781 106.012709 \nL 218.368781 160.24134 \nz\n\" style=\"fill:#96cac1;stroke:#6a6a6a;stroke-linejoin:miter;stroke-width:1.5;\"/>\n   </g>\n   <g id=\"patch_6\">\n    <path clip-path=\"url(#p869db077d7)\" d=\"M 274.168781 225.058674 \nL 328.852781 225.058674 \nL 328.852781 174.501659 \nL 274.168781 174.501659 \nL 274.168781 225.058674 \nz\n\" style=\"fill:#f6f6bc;stroke:#6a6a6a;stroke-linejoin:miter;stroke-width:1.5;\"/>\n   </g>\n   <g id=\"patch_7\">\n    <path clip-path=\"url(#p869db077d7)\" d=\"M 357.868781 172.162809 \nL 412.552781 172.162809 \nL 412.552781 81.063929 \nL 357.868781 81.063929 \nL 357.868781 172.162809 \nz\n\" style=\"fill:#96cac1;stroke:#6a6a6a;stroke-linejoin:miter;stroke-width:1.5;\"/>\n   </g>\n   <g id=\"patch_8\">\n    <path clip-path=\"url(#p869db077d7)\" d=\"M 413.668781 248.216826 \nL 468.352781 248.216826 \nL 468.352781 183.33196 \nL 413.668781 183.33196 \nL 413.668781 248.216826 \nz\n\" style=\"fill:#f6f6bc;stroke:#6a6a6a;stroke-linejoin:miter;stroke-width:1.5;\"/>\n   </g>\n   <g id=\"patch_9\">\n    <path clip-path=\"url(#p869db077d7)\" d=\"M 497.368781 306.523709 \nL 552.052781 306.523709 \nL 552.052781 52.752499 \nL 497.368781 52.752499 \nL 497.368781 306.523709 \nz\n\" style=\"fill:#96cac1;stroke:#6a6a6a;stroke-linejoin:miter;stroke-width:1.5;\"/>\n   </g>\n   <g id=\"patch_10\">\n    <path clip-path=\"url(#p869db077d7)\" d=\"M 553.168781 334.419689 \nL 607.852781 334.419689 \nL 607.852781 196.945406 \nL 553.168781 196.945406 \nL 553.168781 334.419689 \nz\n\" style=\"fill:#f6f6bc;stroke:#6a6a6a;stroke-linejoin:miter;stroke-width:1.5;\"/>\n   </g>\n   <g id=\"patch_11\">\n    <path clip-path=\"url(#p869db077d7)\" d=\"M 134.110781 372.765545 \nL 134.110781 372.765545 \nL 134.110781 372.765545 \nL 134.110781 372.765545 \nz\n\" style=\"fill:#96cac1;stroke:#6a6a6a;stroke-linejoin:miter;stroke-width:0.75;\"/>\n   </g>\n   <g id=\"patch_12\">\n    <path clip-path=\"url(#p869db077d7)\" d=\"M 134.110781 372.765545 \nL 134.110781 372.765545 \nL 134.110781 372.765545 \nL 134.110781 372.765545 \nz\n\" style=\"fill:#f6f6bc;stroke:#6a6a6a;stroke-linejoin:miter;stroke-width:0.75;\"/>\n   </g>\n   <g id=\"line2d_7\">\n    <path clip-path=\"url(#p869db077d7)\" d=\"M 106.210781 188.890519 \nL 106.210781 234.777609 \n\" style=\"fill:none;stroke:#6a6a6a;stroke-linecap:round;stroke-width:1.5;\"/>\n   </g>\n   <g id=\"line2d_8\">\n    <path clip-path=\"url(#p869db077d7)\" d=\"M 106.210781 147.802528 \nL 106.210781 100.030835 \n\" style=\"fill:none;stroke:#6a6a6a;stroke-linecap:round;stroke-width:1.5;\"/>\n   </g>\n   <g id=\"line2d_9\">\n    <path clip-path=\"url(#p869db077d7)\" d=\"M 92.539781 234.777609 \nL 119.881781 234.777609 \n\" style=\"fill:none;stroke:#6a6a6a;stroke-linecap:round;stroke-width:1.5;\"/>\n   </g>\n   <g id=\"line2d_10\">\n    <path clip-path=\"url(#p869db077d7)\" d=\"M 92.539781 100.030835 \nL 119.881781 100.030835 \n\" style=\"fill:none;stroke:#6a6a6a;stroke-linecap:round;stroke-width:1.5;\"/>\n   </g>\n   <g id=\"line2d_11\">\n    <defs>\n     <path d=\"M -0 3.535534 \nL 2.12132 0 \nL -0 -3.535534 \nL -2.12132 -0 \nz\n\" id=\"m712ee9ed86\" style=\"stroke:#6a6a6a;stroke-linejoin:miter;\"/>\n    </defs>\n    <g clip-path=\"url(#p869db077d7)\">\n     <use style=\"fill:#6a6a6a;stroke:#6a6a6a;stroke-linejoin:miter;\" x=\"106.210781\" xlink:href=\"#m712ee9ed86\" y=\"272.53368\"/>\n    </g>\n   </g>\n   <g id=\"line2d_12\">\n    <path clip-path=\"url(#p869db077d7)\" d=\"M 162.010781 234.383539 \nL 162.010781 266.970563 \n\" style=\"fill:none;stroke:#6a6a6a;stroke-linecap:round;stroke-width:1.5;\"/>\n   </g>\n   <g id=\"line2d_13\">\n    <path clip-path=\"url(#p869db077d7)\" d=\"M 162.010781 156.513167 \nL 162.010781 138.57028 \n\" style=\"fill:none;stroke:#6a6a6a;stroke-linecap:round;stroke-width:1.5;\"/>\n   </g>\n   <g id=\"line2d_14\">\n    <path clip-path=\"url(#p869db077d7)\" d=\"M 148.339781 266.970563 \nL 175.681781 266.970563 \n\" style=\"fill:none;stroke:#6a6a6a;stroke-linecap:round;stroke-width:1.5;\"/>\n   </g>\n   <g id=\"line2d_15\">\n    <path clip-path=\"url(#p869db077d7)\" d=\"M 148.339781 138.57028 \nL 175.681781 138.57028 \n\" style=\"fill:none;stroke:#6a6a6a;stroke-linecap:round;stroke-width:1.5;\"/>\n   </g>\n   <g id=\"line2d_16\"/>\n   <g id=\"line2d_17\">\n    <path clip-path=\"url(#p869db077d7)\" d=\"M 245.710781 160.24134 \nL 245.710781 180.994774 \n\" style=\"fill:none;stroke:#6a6a6a;stroke-linecap:round;stroke-width:1.5;\"/>\n   </g>\n   <g id=\"line2d_18\">\n    <path clip-path=\"url(#p869db077d7)\" d=\"M 245.710781 106.012709 \nL 245.710781 65.514528 \n\" style=\"fill:none;stroke:#6a6a6a;stroke-linecap:round;stroke-width:1.5;\"/>\n   </g>\n   <g id=\"line2d_19\">\n    <path clip-path=\"url(#p869db077d7)\" d=\"M 232.039781 180.994774 \nL 259.381781 180.994774 \n\" style=\"fill:none;stroke:#6a6a6a;stroke-linecap:round;stroke-width:1.5;\"/>\n   </g>\n   <g id=\"line2d_20\">\n    <path clip-path=\"url(#p869db077d7)\" d=\"M 232.039781 65.514528 \nL 259.381781 65.514528 \n\" style=\"fill:none;stroke:#6a6a6a;stroke-linecap:round;stroke-width:1.5;\"/>\n   </g>\n   <g id=\"line2d_21\">\n    <g clip-path=\"url(#p869db077d7)\">\n     <use style=\"fill:#6a6a6a;stroke:#6a6a6a;stroke-linejoin:miter;\" x=\"245.710781\" xlink:href=\"#m712ee9ed86\" y=\"269.595024\"/>\n    </g>\n   </g>\n   <g id=\"line2d_22\">\n    <path clip-path=\"url(#p869db077d7)\" d=\"M 301.510781 225.058674 \nL 301.510781 230.870317 \n\" style=\"fill:none;stroke:#6a6a6a;stroke-linecap:round;stroke-width:1.5;\"/>\n   </g>\n   <g id=\"line2d_23\">\n    <path clip-path=\"url(#p869db077d7)\" d=\"M 301.510781 174.501659 \nL 301.510781 145.911308 \n\" style=\"fill:none;stroke:#6a6a6a;stroke-linecap:round;stroke-width:1.5;\"/>\n   </g>\n   <g id=\"line2d_24\">\n    <path clip-path=\"url(#p869db077d7)\" d=\"M 287.839781 230.870317 \nL 315.181781 230.870317 \n\" style=\"fill:none;stroke:#6a6a6a;stroke-linecap:round;stroke-width:1.5;\"/>\n   </g>\n   <g id=\"line2d_25\">\n    <path clip-path=\"url(#p869db077d7)\" d=\"M 287.839781 145.911308 \nL 315.181781 145.911308 \n\" style=\"fill:none;stroke:#6a6a6a;stroke-linecap:round;stroke-width:1.5;\"/>\n   </g>\n   <g id=\"line2d_26\"/>\n   <g id=\"line2d_27\">\n    <path clip-path=\"url(#p869db077d7)\" d=\"M 385.210781 172.162809 \nL 385.210781 295.940254 \n\" style=\"fill:none;stroke:#6a6a6a;stroke-linecap:round;stroke-width:1.5;\"/>\n   </g>\n   <g id=\"line2d_28\">\n    <path clip-path=\"url(#p869db077d7)\" d=\"M 385.210781 81.063929 \nL 385.210781 27.737808 \n\" style=\"fill:none;stroke:#6a6a6a;stroke-linecap:round;stroke-width:1.5;\"/>\n   </g>\n   <g id=\"line2d_29\">\n    <path clip-path=\"url(#p869db077d7)\" d=\"M 371.539781 295.940254 \nL 398.881781 295.940254 \n\" style=\"fill:none;stroke:#6a6a6a;stroke-linecap:round;stroke-width:1.5;\"/>\n   </g>\n   <g id=\"line2d_30\">\n    <path clip-path=\"url(#p869db077d7)\" d=\"M 371.539781 27.737808 \nL 398.881781 27.737808 \n\" style=\"fill:none;stroke:#6a6a6a;stroke-linecap:round;stroke-width:1.5;\"/>\n   </g>\n   <g id=\"line2d_31\"/>\n   <g id=\"line2d_32\">\n    <path clip-path=\"url(#p869db077d7)\" d=\"M 441.010781 248.216826 \nL 441.010781 290.591533 \n\" style=\"fill:none;stroke:#6a6a6a;stroke-linecap:round;stroke-width:1.5;\"/>\n   </g>\n   <g id=\"line2d_33\">\n    <path clip-path=\"url(#p869db077d7)\" d=\"M 441.010781 183.33196 \nL 441.010781 114.085235 \n\" style=\"fill:none;stroke:#6a6a6a;stroke-linecap:round;stroke-width:1.5;\"/>\n   </g>\n   <g id=\"line2d_34\">\n    <path clip-path=\"url(#p869db077d7)\" d=\"M 427.339781 290.591533 \nL 454.681781 290.591533 \n\" style=\"fill:none;stroke:#6a6a6a;stroke-linecap:round;stroke-width:1.5;\"/>\n   </g>\n   <g id=\"line2d_35\">\n    <path clip-path=\"url(#p869db077d7)\" d=\"M 427.339781 114.085235 \nL 454.681781 114.085235 \n\" style=\"fill:none;stroke:#6a6a6a;stroke-linecap:round;stroke-width:1.5;\"/>\n   </g>\n   <g id=\"line2d_36\">\n    <g clip-path=\"url(#p869db077d7)\">\n     <use style=\"fill:#6a6a6a;stroke:#6a6a6a;stroke-linejoin:miter;\" x=\"441.010781\" xlink:href=\"#m712ee9ed86\" y=\"68.335928\"/>\n    </g>\n   </g>\n   <g id=\"line2d_37\">\n    <path clip-path=\"url(#p869db077d7)\" d=\"M 524.710781 306.523709 \nL 524.710781 370.423636 \n\" style=\"fill:none;stroke:#6a6a6a;stroke-linecap:round;stroke-width:1.5;\"/>\n   </g>\n   <g id=\"line2d_38\">\n    <path clip-path=\"url(#p869db077d7)\" d=\"M 524.710781 52.752499 \nL 524.710781 24.496364 \n\" style=\"fill:none;stroke:#6a6a6a;stroke-linecap:round;stroke-width:1.5;\"/>\n   </g>\n   <g id=\"line2d_39\">\n    <path clip-path=\"url(#p869db077d7)\" d=\"M 511.039781 370.423636 \nL 538.381781 370.423636 \n\" style=\"fill:none;stroke:#6a6a6a;stroke-linecap:round;stroke-width:1.5;\"/>\n   </g>\n   <g id=\"line2d_40\">\n    <path clip-path=\"url(#p869db077d7)\" d=\"M 511.039781 24.496364 \nL 538.381781 24.496364 \n\" style=\"fill:none;stroke:#6a6a6a;stroke-linecap:round;stroke-width:1.5;\"/>\n   </g>\n   <g id=\"line2d_41\"/>\n   <g id=\"line2d_42\">\n    <path clip-path=\"url(#p869db077d7)\" d=\"M 580.510781 334.419689 \nL 580.510781 362.93155 \n\" style=\"fill:none;stroke:#6a6a6a;stroke-linecap:round;stroke-width:1.5;\"/>\n   </g>\n   <g id=\"line2d_43\">\n    <path clip-path=\"url(#p869db077d7)\" d=\"M 580.510781 196.945406 \nL 580.510781 170.037673 \n\" style=\"fill:none;stroke:#6a6a6a;stroke-linecap:round;stroke-width:1.5;\"/>\n   </g>\n   <g id=\"line2d_44\">\n    <path clip-path=\"url(#p869db077d7)\" d=\"M 566.839781 362.93155 \nL 594.181781 362.93155 \n\" style=\"fill:none;stroke:#6a6a6a;stroke-linecap:round;stroke-width:1.5;\"/>\n   </g>\n   <g id=\"line2d_45\">\n    <path clip-path=\"url(#p869db077d7)\" d=\"M 566.839781 170.037673 \nL 594.181781 170.037673 \n\" style=\"fill:none;stroke:#6a6a6a;stroke-linecap:round;stroke-width:1.5;\"/>\n   </g>\n   <g id=\"line2d_46\"/>\n   <g id=\"line2d_47\">\n    <path clip-path=\"url(#p869db077d7)\" d=\"M 78.868781 166.304039 \nL 133.552781 166.304039 \n\" style=\"fill:none;stroke:#6a6a6a;stroke-linecap:round;stroke-width:1.5;\"/>\n   </g>\n   <g id=\"line2d_48\">\n    <path clip-path=\"url(#p869db077d7)\" d=\"M 134.668781 211.247887 \nL 189.352781 211.247887 \n\" style=\"fill:none;stroke:#6a6a6a;stroke-linecap:round;stroke-width:1.5;\"/>\n   </g>\n   <g id=\"line2d_49\">\n    <path clip-path=\"url(#p869db077d7)\" d=\"M 218.368781 153.137176 \nL 273.052781 153.137176 \n\" style=\"fill:none;stroke:#6a6a6a;stroke-linecap:round;stroke-width:1.5;\"/>\n   </g>\n   <g id=\"line2d_50\">\n    <path clip-path=\"url(#p869db077d7)\" d=\"M 274.168781 210.411883 \nL 328.852781 210.411883 \n\" style=\"fill:none;stroke:#6a6a6a;stroke-linecap:round;stroke-width:1.5;\"/>\n   </g>\n   <g id=\"line2d_51\">\n    <path clip-path=\"url(#p869db077d7)\" d=\"M 357.868781 118.094332 \nL 412.552781 118.094332 \n\" style=\"fill:none;stroke:#6a6a6a;stroke-linecap:round;stroke-width:1.5;\"/>\n   </g>\n   <g id=\"line2d_52\">\n    <path clip-path=\"url(#p869db077d7)\" d=\"M 413.668781 196.766689 \nL 468.352781 196.766689 \n\" style=\"fill:none;stroke:#6a6a6a;stroke-linecap:round;stroke-width:1.5;\"/>\n   </g>\n   <g id=\"line2d_53\">\n    <path clip-path=\"url(#p869db077d7)\" d=\"M 497.368781 154.446408 \nL 552.052781 154.446408 \n\" style=\"fill:none;stroke:#6a6a6a;stroke-linecap:round;stroke-width:1.5;\"/>\n   </g>\n   <g id=\"line2d_54\">\n    <path clip-path=\"url(#p869db077d7)\" d=\"M 553.168781 240.011302 \nL 607.852781 240.011302 \n\" style=\"fill:none;stroke:#6a6a6a;stroke-linecap:round;stroke-width:1.5;\"/>\n   </g>\n   <g id=\"patch_13\">\n    <path d=\"M 64.360781 387.72 \nL 64.360781 7.2 \n\" style=\"fill:none;stroke:#ffffff;stroke-linecap:square;stroke-linejoin:miter;stroke-width:1.25;\"/>\n   </g>\n   <g id=\"patch_14\">\n    <path d=\"M 622.360781 387.72 \nL 622.360781 7.2 \n\" style=\"fill:none;stroke:#ffffff;stroke-linecap:square;stroke-linejoin:miter;stroke-width:1.25;\"/>\n   </g>\n   <g id=\"patch_15\">\n    <path d=\"M 64.360781 387.72 \nL 622.360781 387.72 \n\" style=\"fill:none;stroke:#ffffff;stroke-linecap:square;stroke-linejoin:miter;stroke-width:1.25;\"/>\n   </g>\n   <g id=\"patch_16\">\n    <path d=\"M 64.360781 7.2 \nL 622.360781 7.2 \n\" style=\"fill:none;stroke:#ffffff;stroke-linecap:square;stroke-linejoin:miter;stroke-width:1.25;\"/>\n   </g>\n   <g id=\"legend_1\">\n    <g id=\"patch_17\">\n     <path d=\"M 74.860781 63.234375 \nL 181.037344 63.234375 \nQ 184.037344 63.234375 184.037344 60.234375 \nL 184.037344 17.7 \nQ 184.037344 14.7 181.037344 14.7 \nL 74.860781 14.7 \nQ 71.860781 14.7 71.860781 17.7 \nL 71.860781 60.234375 \nQ 71.860781 63.234375 74.860781 63.234375 \nz\n\" style=\"fill:#ffffff;opacity:0.8;stroke:#cccccc;stroke-linejoin:miter;\"/>\n    </g>\n    <g id=\"patch_18\">\n     <path d=\"M 77.860781 32.097656 \nL 107.860781 32.097656 \nL 107.860781 21.597656 \nL 77.860781 21.597656 \nz\n\" style=\"fill:#96cac1;stroke:#6a6a6a;stroke-linejoin:miter;stroke-width:0.75;\"/>\n    </g>\n    <g id=\"text_13\">\n     <!-- context -->\n     <defs>\n      <path d=\"M 54.890625 33.015625 \nL 54.890625 0 \nL 45.90625 0 \nL 45.90625 32.71875 \nQ 45.90625 40.484375 42.875 44.328125 \nQ 39.84375 48.1875 33.796875 48.1875 \nQ 26.515625 48.1875 22.3125 43.546875 \nQ 18.109375 38.921875 18.109375 30.90625 \nL 18.109375 0 \nL 9.078125 0 \nL 9.078125 54.6875 \nL 18.109375 54.6875 \nL 18.109375 46.1875 \nQ 21.34375 51.125 25.703125 53.5625 \nQ 30.078125 56 35.796875 56 \nQ 45.21875 56 50.046875 50.171875 \nQ 54.890625 44.34375 54.890625 33.015625 \nz\n\" id=\"DejaVuSans-110\"/>\n      <path d=\"M 54.890625 54.6875 \nL 35.109375 28.078125 \nL 55.90625 0 \nL 45.3125 0 \nL 29.390625 21.484375 \nL 13.484375 0 \nL 2.875 0 \nL 24.125 28.609375 \nL 4.6875 54.6875 \nL 15.28125 54.6875 \nL 29.78125 35.203125 \nL 44.28125 54.6875 \nz\n\" id=\"DejaVuSans-120\"/>\n     </defs>\n     <g style=\"fill:#262626;\" transform=\"translate(119.860781 32.097656)scale(0.15 -0.15)\">\n      <use xlink:href=\"#DejaVuSans-99\"/>\n      <use x=\"54.980469\" xlink:href=\"#DejaVuSans-111\"/>\n      <use x=\"116.162109\" xlink:href=\"#DejaVuSans-110\"/>\n      <use x=\"179.541016\" xlink:href=\"#DejaVuSans-116\"/>\n      <use x=\"218.75\" xlink:href=\"#DejaVuSans-101\"/>\n      <use x=\"278.523438\" xlink:href=\"#DejaVuSans-120\"/>\n      <use x=\"337.703125\" xlink:href=\"#DejaVuSans-116\"/>\n     </g>\n    </g>\n    <g id=\"patch_19\">\n     <path d=\"M 77.860781 54.114844 \nL 107.860781 54.114844 \nL 107.860781 43.614844 \nL 77.860781 43.614844 \nz\n\" style=\"fill:#f6f6bc;stroke:#6a6a6a;stroke-linejoin:miter;stroke-width:0.75;\"/>\n    </g>\n    <g id=\"text_14\">\n     <!-- random -->\n     <defs>\n      <path d=\"M 52 44.1875 \nQ 55.375 50.25 60.0625 53.125 \nQ 64.75 56 71.09375 56 \nQ 79.640625 56 84.28125 50.015625 \nQ 88.921875 44.046875 88.921875 33.015625 \nL 88.921875 0 \nL 79.890625 0 \nL 79.890625 32.71875 \nQ 79.890625 40.578125 77.09375 44.375 \nQ 74.3125 48.1875 68.609375 48.1875 \nQ 61.625 48.1875 57.5625 43.546875 \nQ 53.515625 38.921875 53.515625 30.90625 \nL 53.515625 0 \nL 44.484375 0 \nL 44.484375 32.71875 \nQ 44.484375 40.625 41.703125 44.40625 \nQ 38.921875 48.1875 33.109375 48.1875 \nQ 26.21875 48.1875 22.15625 43.53125 \nQ 18.109375 38.875 18.109375 30.90625 \nL 18.109375 0 \nL 9.078125 0 \nL 9.078125 54.6875 \nL 18.109375 54.6875 \nL 18.109375 46.1875 \nQ 21.1875 51.21875 25.484375 53.609375 \nQ 29.78125 56 35.6875 56 \nQ 41.65625 56 45.828125 52.96875 \nQ 50 49.953125 52 44.1875 \nz\n\" id=\"DejaVuSans-109\"/>\n     </defs>\n     <g style=\"fill:#262626;\" transform=\"translate(119.860781 54.114844)scale(0.15 -0.15)\">\n      <use xlink:href=\"#DejaVuSans-114\"/>\n      <use x=\"41.113281\" xlink:href=\"#DejaVuSans-97\"/>\n      <use x=\"102.392578\" xlink:href=\"#DejaVuSans-110\"/>\n      <use x=\"165.771484\" xlink:href=\"#DejaVuSans-100\"/>\n      <use x=\"229.248047\" xlink:href=\"#DejaVuSans-111\"/>\n      <use x=\"290.429688\" xlink:href=\"#DejaVuSans-109\"/>\n     </g>\n    </g>\n   </g>\n  </g>\n </g>\n <defs>\n  <clipPath id=\"p869db077d7\">\n   <rect height=\"380.52\" width=\"558\" x=\"64.360781\" y=\"7.2\"/>\n  </clipPath>\n </defs>\n</svg>\n",
      "image/png": "[encoded data removed]"
     },
     "metadata": {}
    }
   ],
   "source": [
    "import seaborn as sns\n",
    "from matplotlib import pyplot as plt\n",
    "sns.set(font_scale=1.5)\n",
    "dims = (10,7)\n",
    "fig, ax = plt.subplots(figsize=dims)\n",
    "\n",
    "\n",
    "sns.set_theme(style=\"whitegrid\")\n",
    "tips = sns.load_dataset(\"tips\")\n",
    "sns.boxplot(ax=ax, x=\"word\", y=\"score\", hue=\"similarity\",\n",
    "                 data=save_df, palette=\"Set3\")\n",
    "plt.legend(prop={\"size\":15});"
   ]
  },
  {
   "cell_type": "code",
   "execution_count": 25,
   "metadata": {},
   "outputs": [
    {
     "output_type": "stream",
     "name": "stdout",
     "text": [
      "file RanksumsResult(statistic=1.3372956996714631, pvalue=0.18112613415641965)\ndribble RanksumsResult(statistic=2.060488785479727, pvalue=0.039351836861343546)\ntap RanksumsResult(statistic=2.287694994333111, pvalue=0.02215528941837963)\ncharge RanksumsResult(statistic=1.5837888422306154, pvalue=0.11324177925260663)\n"
     ]
    }
   ],
   "source": [
    "# check for difference in distribution\n",
    "for amb_verb in results:\n",
    "    idx1 = (save_df.word == amb_verb) & (save_df.similarity==\"context\")\n",
    "    idx2 = (save_df.word == amb_verb) & (save_df.similarity==\"random\")\n",
    "    print(amb_verb,ranksums(save_df[idx1].score,save_df[idx2].score))"
   ]
  },
  {
   "cell_type": "code",
   "execution_count": null,
   "metadata": {},
   "outputs": [],
   "source": []
  }
 ]
}