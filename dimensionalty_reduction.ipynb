{
 "metadata": {
  "language_info": {
   "codemirror_mode": {
    "name": "ipython",
    "version": 3
   },
   "file_extension": ".py",
   "mimetype": "text/x-python",
   "name": "python",
   "nbconvert_exporter": "python",
   "pygments_lexer": "ipython3",
   "version": "3.8.5"
  },
  "orig_nbformat": 2,
  "kernelspec": {
   "name": "pythonjvsc74a57bd0597cb9212bb6505db551d0fa5a39e44e38662ecd79044286d7f1c9c46fe55c66",
   "display_name": "Python 3.8.5  ('venv': venv)"
  },
  "metadata": {
   "interpreter": {
    "hash": "597cb9212bb6505db551d0fa5a39e44e38662ecd79044286d7f1c9c46fe55c66"
   }
  }
 },
 "nbformat": 4,
 "nbformat_minor": 2,
 "cells": [
  {
   "source": [
    "# Dimensionality reduction"
   ],
   "cell_type": "markdown",
   "metadata": {}
  },
  {
   "cell_type": "code",
   "execution_count": 1,
   "metadata": {},
   "outputs": [
    {
     "output_type": "stream",
     "name": "stdout",
     "text": [
      "[ 0.26157779 -0.06324237  0.01413879  0.3471325  -0.03113616  0.04367286\n  0.16051093  0.13918966  0.4020053   0.02132417  0.4937738  -0.19357482\n  0.16570787  0.20006967  0.46038646  0.11534599 -0.07132792  0.06508564\n  0.33278874 -0.3134719   0.23085992 -0.34622437  0.03082101  0.506029\n -0.45648044 -0.16179349 -0.55180806 -0.48477042  0.39876133  0.35310695\n -0.02152728 -0.09419352  0.3356566   0.7128895  -0.16417094 -0.21861316\n  0.23070154  0.420371    0.08505379  0.22867164 -0.10435292 -0.23085395\n -0.5007337   0.32013428  0.06766731  0.25432208 -0.19289295  0.32780027\n -0.27101117  0.29084572  0.12556057 -0.06193651  0.16854699  0.58460623\n  0.11538803  0.0525699  -0.17319302  0.17267288  0.00414904  0.2039684\n -0.19071926 -0.251641    0.06552824  0.2605905   0.5945521  -0.6533295\n -0.32521802 -0.3095794  -0.30898058 -0.3941069   0.04687437  0.3577981\n  0.12849359  0.3052618  -0.26543605  0.51226574 -0.12460668  0.2912351\n -0.06106061 -0.30229414 -0.4071444  -0.48364484  0.2612865  -0.01322418\n  0.3643194   0.6270434  -0.08800114 -0.15298724  0.19146484  0.08867226\n  0.278045    0.14740862  0.24092066 -0.0447019  -0.3842921  -0.6271196\n -0.00376431  0.0373864  -0.2529332   0.20160218]\n"
     ]
    },
    {
     "output_type": "execute_result",
     "data": {
      "text/plain": [
       "[(<Word nail>, 1.0),\n",
       " (<Word hurriquake>, 0.77447253),\n",
       " (<Word nails>, 0.74892193),\n",
       " (<Word fingernails>, 0.7278965),\n",
       " (<Word toenail>, 0.7257318),\n",
       " (<Word shoe>, 0.7140256),\n",
       " (<Word hoof>, 0.71376747),\n",
       " (<Word glue>, 0.7104106),\n",
       " (<Word fingernail>, 0.7092494),\n",
       " (<Word splint>, 0.7087521)]"
      ]
     },
     "metadata": {},
     "execution_count": 1
    }
   ],
   "source": [
    "from wikipedia2vec import Wikipedia2Vec\n",
    "# download and unpack from http://wikipedia2vec.s3.amazonaws.com/models/en/2018-04-20/enwiki_20180420_100d.pkl.bz2\n",
    "wiki2vec = Wikipedia2Vec.load(\"data/enwiki_20180420_100d.pkl\")\n",
    "print(wiki2vec.get_word_vector(\"account\"))\n",
    "wiki2vec.most_similar(wiki2vec.get_word('nail'),10)"
   ]
  },
  {
   "cell_type": "code",
   "execution_count": 2,
   "metadata": {},
   "outputs": [],
   "source": [
    "from words import nouns\n",
    "from pprint import pprint\n",
    "import numpy as np\n",
    "\n",
    "vecs = []\n",
    "for noun in nouns:\n",
    "    if noun == \"charge_n\":\n",
    "        vecs.append(wiki2vec.get_word_vector(\"charge\").tolist())\n",
    "    else:\n",
    "        vecs.append(wiki2vec.get_word_vector(noun).tolist())\n",
    "vecs = np.array(vecs)"
   ]
  },
  {
   "cell_type": "code",
   "execution_count": 3,
   "metadata": {},
   "outputs": [
    {
     "output_type": "execute_result",
     "data": {
      "text/plain": [
       "(35, 100)"
      ]
     },
     "metadata": {},
     "execution_count": 3
    }
   ],
   "source": [
    "vecs.shape"
   ]
  },
  {
   "cell_type": "code",
   "execution_count": 4,
   "metadata": {},
   "outputs": [
    {
     "output_type": "stream",
     "name": "stdout",
     "text": [
      "[0.13070604 0.08364909 0.07731154 0.06631267]\n"
     ]
    }
   ],
   "source": [
    "from sklearn.decomposition import PCA\n",
    "pca = PCA(n_components=4)\n",
    "vecs_new = pca.fit_transform(vecs)\n",
    "print(pca.explained_variance_ratio_)"
   ]
  },
  {
   "cell_type": "code",
   "execution_count": 5,
   "metadata": {},
   "outputs": [
    {
     "output_type": "execute_result",
     "data": {
      "text/plain": [
       "array([[-0.68642607, -0.21794178, -0.01735581,  0.20765599],\n",
       "       [-0.75330593, -0.40949664, -0.81281018, -0.20395717],\n",
       "       [ 0.89162121,  0.60397783,  0.41284559, -0.32184028],\n",
       "       [ 0.76197044,  0.74032567,  0.2866804 ,  0.45792915],\n",
       "       [-0.79174998,  0.26520921,  0.12222279, -0.27424638],\n",
       "       [-1.24259124, -0.71922923, -1.21561915,  0.26793976],\n",
       "       [-0.36158041,  0.00653704, -0.74852638,  0.35511499],\n",
       "       [-1.02015762, -0.73494905, -1.86075538,  1.35475605],\n",
       "       [-1.6852536 ,  1.64427871,  0.15109754,  0.94706252],\n",
       "       [-0.24446324,  0.57271758, -1.01457802, -1.85116746],\n",
       "       [ 0.98915534,  0.12237422, -0.13195967, -0.91378102],\n",
       "       [-1.24856351,  0.07248063,  1.36209945,  0.02171442],\n",
       "       [ 0.87863503, -0.31164362, -0.15536703, -1.35671689],\n",
       "       [-0.78404158, -0.44108833,  0.23740578,  0.01816955],\n",
       "       [-1.8089428 ,  0.93468278, -0.14106941,  1.18569214],\n",
       "       [-0.11436765, -1.46042254,  0.49420216, -0.23792156],\n",
       "       [ 1.96564515, -0.51927309,  0.13113691,  0.88606026],\n",
       "       [ 1.30714155,  1.31518224, -0.21292438,  0.15662484],\n",
       "       [-0.51905361, -0.90701773, -0.99224981, -0.5708802 ],\n",
       "       [-1.70854859,  1.69818949,  0.548188  ,  0.13542968],\n",
       "       [ 1.15755409,  0.57766963, -0.78178224, -0.07861495],\n",
       "       [-0.65709049,  0.58903167, -0.20744869,  0.01575122],\n",
       "       [-0.18511134, -0.16023915,  1.5965407 , -0.11949588],\n",
       "       [-1.11625599, -1.17294385,  1.74817005, -1.45926344],\n",
       "       [-0.73275519, -0.18253922,  1.89496726, -0.13682872],\n",
       "       [-0.61688762, -0.86072018, -0.39355723, -0.09422905],\n",
       "       [ 1.17064041,  1.23271116,  0.23458035, -0.26220897],\n",
       "       [ 0.07975619, -0.50061713, -1.0252207 , -0.69424188],\n",
       "       [ 0.98802299,  0.61529405, -0.30912159, -0.00345934],\n",
       "       [ 0.90910795, -0.90017749,  0.0701038 ,  0.09616157],\n",
       "       [ 1.3476522 , -1.15099486,  0.48877131,  1.05928625],\n",
       "       [-0.41354562, -0.82836329, -0.41646961,  0.00781137],\n",
       "       [ 1.48797382,  1.60360908, -0.08883483, -0.3858192 ],\n",
       "       [ 1.29128053, -0.30226196, -0.16439359, -0.21108183],\n",
       "       [ 1.46453517, -0.81435184,  0.91103161,  2.00259443]])"
      ]
     },
     "metadata": {},
     "execution_count": 5
    }
   ],
   "source": [
    "vecs_new"
   ]
  },
  {
   "cell_type": "code",
   "execution_count": 6,
   "metadata": {},
   "outputs": [],
   "source": [
    "sum_of_rows = np.linalg.norm(vecs_new,axis=1)\n",
    "normalized_array = vecs_new / sum_of_rows[:, np.newaxis]"
   ]
  },
  {
   "cell_type": "code",
   "execution_count": 7,
   "metadata": {},
   "outputs": [],
   "source": [
    "new_noun_vectors = {}\n",
    "for i, noun in enumerate(nouns):\n",
    "   new_noun_vectors[noun] = normalized_array[i].tolist()"
   ]
  },
  {
   "cell_type": "code",
   "execution_count": 8,
   "metadata": {},
   "outputs": [],
   "source": [
    "import json\n",
    "fiel_new_vectors = \"new_noun_vectors.json\"\n",
    "with open(fiel_new_vectors, 'w') as fp:\n",
    "    json.dump(new_noun_vectors, fp)"
   ]
  }
 ]
}