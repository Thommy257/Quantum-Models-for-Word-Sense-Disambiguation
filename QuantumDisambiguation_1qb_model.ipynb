{
 "cells": [
  {
   "cell_type": "markdown",
   "metadata": {},
   "source": [
    "# Quantum Disambiguatation"
   ]
  },
  {
   "cell_type": "code",
   "execution_count": 1,
   "metadata": {},
   "outputs": [],
   "source": [
    "from discopy import Ty, Word\n",
    "from words import sub_nouns as nouns\n",
    "from words import sub_sentences as sentences\n",
    "\n",
    "s, n = Ty('s'), Ty('n')\n",
    "\n",
    "dataset = []\n",
    "nouns, verbs = set(), set()\n",
    "for sentence in sentences:\n",
    "    _s = sentence.split(\" \")\n",
    "    dataset.append([_s[0],_s[1],int(_s[2][1])])\n",
    "    verbs.add(_s[0])\n",
    "    nouns.add(_s[1])\n",
    "\n",
    "\n",
    "ambiguous_verbs = [\"file\"] #, \"dribble\", \"tap\", \"charge\"]\n",
    "\n",
    "\n",
    "# nouns\n",
    "noun_voc = {noun: Word(noun, n) for noun in nouns}\n",
    "unamb_verb_voc = {verb: Word(verb, s @ n.l) for verb in verbs if verb not in ambiguous_verbs}\n",
    "amb_verb_voc = {amb: Word(amb, s @ n.l) for amb in ambiguous_verbs}"
   ]
  },
  {
   "cell_type": "code",
   "execution_count": 2,
   "metadata": {},
   "outputs": [
    {
     "output_type": "stream",
     "name": "stdout",
     "text": [
      "{'smooth': Word('smooth', Ty('s', Ob('n', z=-1))), 'register': Word('register', Ty('s', Ob('n', z=-1)))}\n{'file': Word('file', Ty('s', Ob('n', z=-1)))}\n"
     ]
    }
   ],
   "source": [
    "print(unamb_verb_voc)\n",
    "print(amb_verb_voc)"
   ]
  },
  {
   "cell_type": "markdown",
   "metadata": {},
   "source": [
    "## Prepare and parse dataset"
   ]
  },
  {
   "cell_type": "code",
   "execution_count": 3,
   "metadata": {},
   "outputs": [],
   "source": [
    "from time import time\n",
    "from discopy import Diagram, Id, Cup\n",
    "from discopy.grammar import brute_force\n",
    "\n",
    "grammar = Id(s) @ Cup(n.l, n)\n",
    "sentences, plausability, parsing = list(), list(), dict()\n",
    "\n",
    "start = time()\n",
    "for entry in dataset:\n",
    "    sentence = ' '.join(entry[0:2]) + '.'\n",
    "    sentences.append(sentence)\n",
    "    plausability.append(entry[2])\n",
    "\n",
    "    verb = unamb_verb_voc.get(entry[0], False)\n",
    "    if not verb:\n",
    "        verb = amb_verb_voc[entry[0]]\n",
    "    obj = noun_voc[entry[1]]\n",
    "    diagram = verb @ obj >> grammar\n",
    "\n",
    "    parsing.update({sentence: diagram})\n"
   ]
  },
  {
   "cell_type": "code",
   "execution_count": 4,
   "metadata": {},
   "outputs": [
    {
     "output_type": "stream",
     "name": "stdout",
     "text": [
      "register tooth.  plausability:  0\n"
     ]
    },
    {
     "output_type": "display_data",
     "data": {
      "text/plain": "<Figure size 432x288 with 1 Axes>",
      "image/svg+xml": "<?xml version=\"1.0\" encoding=\"utf-8\" standalone=\"no\"?>\n<!DOCTYPE svg PUBLIC \"-//W3C//DTD SVG 1.1//EN\"\n  \"http://www.w3.org/Graphics/SVG/1.1/DTD/svg11.dtd\">\n<!-- Created with matplotlib (https://matplotlib.org/) -->\n<svg height=\"302.4pt\" version=\"1.1\" viewBox=\"0 0 446.4 302.4\" width=\"446.4pt\" xmlns=\"http://www.w3.org/2000/svg\" xmlns:xlink=\"http://www.w3.org/1999/xlink\">\n <defs>\n  <style type=\"text/css\">\n*{stroke-linecap:butt;stroke-linejoin:round;}\n  </style>\n </defs>\n <g id=\"figure_1\">\n  <g id=\"patch_1\">\n   <path d=\"M 0 302.4 \nL 446.4 302.4 \nL 446.4 0 \nL 0 0 \nz\n\" style=\"fill:none;\"/>\n  </g>\n  <g id=\"axes_1\">\n   <g id=\"patch_2\">\n    <path clip-path=\"url(#p1e61e28281)\" d=\"M 66.109091 67.894215 \nQ 66.109091 282.109091 66.109091 282.109091 \n\" style=\"fill:none;stroke:#000000;stroke-linejoin:miter;\"/>\n   </g>\n   <g id=\"patch_3\">\n    <path clip-path=\"url(#p1e61e28281)\" d=\"M 223.2 67.894215 \nQ 223.2 210.704132 223.2 210.704132 \n\" style=\"fill:none;stroke:#000000;stroke-linejoin:miter;\"/>\n   </g>\n   <g id=\"patch_4\">\n    <path clip-path=\"url(#p1e61e28281)\" d=\"M 380.290909 163.100826 \nQ 380.290909 210.704132 380.290909 210.704132 \n\" style=\"fill:none;stroke:#000000;stroke-linejoin:miter;\"/>\n   </g>\n   <g id=\"patch_5\">\n    <path clip-path=\"url(#p1e61e28281)\" d=\"M 223.2 210.704132 \nQ 223.2 234.505785 301.745455 234.505785 \n\" style=\"fill:none;stroke:#000000;stroke-linejoin:miter;\"/>\n   </g>\n   <g id=\"patch_6\">\n    <path clip-path=\"url(#p1e61e28281)\" d=\"M 380.290909 210.704132 \nQ 380.290909 234.505785 301.745455 234.505785 \n\" style=\"fill:none;stroke:#000000;stroke-linejoin:miter;\"/>\n   </g>\n   <g id=\"patch_7\">\n    <path clip-path=\"url(#p1e61e28281)\" d=\"M 26.836364 67.894215 \nL 262.472727 67.894215 \nL 262.472727 20.290909 \nL 26.836364 20.290909 \nz\n\" style=\"fill:#ffffff;stroke:#000000;stroke-linejoin:miter;\"/>\n   </g>\n   <g id=\"patch_8\">\n    <path clip-path=\"url(#p1e61e28281)\" d=\"M 341.018182 163.100826 \nL 419.563636 163.100826 \nL 419.563636 115.497521 \nL 341.018182 115.497521 \nz\n\" style=\"fill:#ffffff;stroke:#000000;stroke-linejoin:miter;\"/>\n   </g>\n   <g id=\"text_1\">\n    <!-- s -->\n    <defs>\n     <path d=\"M 44.28125 53.078125 \nL 44.28125 44.578125 \nQ 40.484375 46.53125 36.375 47.5 \nQ 32.28125 48.484375 27.875 48.484375 \nQ 21.1875 48.484375 17.84375 46.4375 \nQ 14.5 44.390625 14.5 40.28125 \nQ 14.5 37.15625 16.890625 35.375 \nQ 19.28125 33.59375 26.515625 31.984375 \nL 29.59375 31.296875 \nQ 39.15625 29.25 43.1875 25.515625 \nQ 47.21875 21.78125 47.21875 15.09375 \nQ 47.21875 7.46875 41.1875 3.015625 \nQ 35.15625 -1.421875 24.609375 -1.421875 \nQ 20.21875 -1.421875 15.453125 -0.5625 \nQ 10.6875 0.296875 5.421875 2 \nL 5.421875 11.28125 \nQ 10.40625 8.6875 15.234375 7.390625 \nQ 20.0625 6.109375 24.8125 6.109375 \nQ 31.15625 6.109375 34.5625 8.28125 \nQ 37.984375 10.453125 37.984375 14.40625 \nQ 37.984375 18.0625 35.515625 20.015625 \nQ 33.0625 21.96875 24.703125 23.78125 \nL 21.578125 24.515625 \nQ 13.234375 26.265625 9.515625 29.90625 \nQ 5.8125 33.546875 5.8125 39.890625 \nQ 5.8125 47.609375 11.28125 51.796875 \nQ 16.75 56 26.8125 56 \nQ 31.78125 56 36.171875 55.265625 \nQ 40.578125 54.546875 44.28125 53.078125 \nz\n\" id=\"DejaVuSans-115\"/>\n    </defs>\n    <g transform=\"translate(81.818182 86.533001)scale(0.12 -0.12)\">\n     <use xlink:href=\"#DejaVuSans-115\"/>\n    </g>\n   </g>\n   <g id=\"text_2\">\n    <!-- n.l -->\n    <defs>\n     <path d=\"M 54.890625 33.015625 \nL 54.890625 0 \nL 45.90625 0 \nL 45.90625 32.71875 \nQ 45.90625 40.484375 42.875 44.328125 \nQ 39.84375 48.1875 33.796875 48.1875 \nQ 26.515625 48.1875 22.3125 43.546875 \nQ 18.109375 38.921875 18.109375 30.90625 \nL 18.109375 0 \nL 9.078125 0 \nL 9.078125 54.6875 \nL 18.109375 54.6875 \nL 18.109375 46.1875 \nQ 21.34375 51.125 25.703125 53.5625 \nQ 30.078125 56 35.796875 56 \nQ 45.21875 56 50.046875 50.171875 \nQ 54.890625 44.34375 54.890625 33.015625 \nz\n\" id=\"DejaVuSans-110\"/>\n     <path d=\"M 10.6875 12.40625 \nL 21 12.40625 \nL 21 0 \nL 10.6875 0 \nz\n\" id=\"DejaVuSans-46\"/>\n     <path d=\"M 9.421875 75.984375 \nL 18.40625 75.984375 \nL 18.40625 0 \nL 9.421875 0 \nz\n\" id=\"DejaVuSans-108\"/>\n    </defs>\n    <g transform=\"translate(238.909091 86.533001)scale(0.12 -0.12)\">\n     <use xlink:href=\"#DejaVuSans-110\"/>\n     <use x=\"63.378906\" xlink:href=\"#DejaVuSans-46\"/>\n     <use x=\"95.166016\" xlink:href=\"#DejaVuSans-108\"/>\n    </g>\n   </g>\n   <g id=\"text_3\">\n    <!-- n -->\n    <g transform=\"translate(396 181.739613)scale(0.12 -0.12)\">\n     <use xlink:href=\"#DejaVuSans-110\"/>\n    </g>\n   </g>\n   <g id=\"text_4\">\n    <!-- register -->\n    <defs>\n     <path d=\"M 41.109375 46.296875 \nQ 39.59375 47.171875 37.8125 47.578125 \nQ 36.03125 48 33.890625 48 \nQ 26.265625 48 22.1875 43.046875 \nQ 18.109375 38.09375 18.109375 28.8125 \nL 18.109375 0 \nL 9.078125 0 \nL 9.078125 54.6875 \nL 18.109375 54.6875 \nL 18.109375 46.1875 \nQ 20.953125 51.171875 25.484375 53.578125 \nQ 30.03125 56 36.53125 56 \nQ 37.453125 56 38.578125 55.875 \nQ 39.703125 55.765625 41.0625 55.515625 \nz\n\" id=\"DejaVuSans-114\"/>\n     <path d=\"M 56.203125 29.59375 \nL 56.203125 25.203125 \nL 14.890625 25.203125 \nQ 15.484375 15.921875 20.484375 11.0625 \nQ 25.484375 6.203125 34.421875 6.203125 \nQ 39.59375 6.203125 44.453125 7.46875 \nQ 49.3125 8.734375 54.109375 11.28125 \nL 54.109375 2.78125 \nQ 49.265625 0.734375 44.1875 -0.34375 \nQ 39.109375 -1.421875 33.890625 -1.421875 \nQ 20.796875 -1.421875 13.15625 6.1875 \nQ 5.515625 13.8125 5.515625 26.8125 \nQ 5.515625 40.234375 12.765625 48.109375 \nQ 20.015625 56 32.328125 56 \nQ 43.359375 56 49.78125 48.890625 \nQ 56.203125 41.796875 56.203125 29.59375 \nz\nM 47.21875 32.234375 \nQ 47.125 39.59375 43.09375 43.984375 \nQ 39.0625 48.390625 32.421875 48.390625 \nQ 24.90625 48.390625 20.390625 44.140625 \nQ 15.875 39.890625 15.1875 32.171875 \nz\n\" id=\"DejaVuSans-101\"/>\n     <path d=\"M 45.40625 27.984375 \nQ 45.40625 37.75 41.375 43.109375 \nQ 37.359375 48.484375 30.078125 48.484375 \nQ 22.859375 48.484375 18.828125 43.109375 \nQ 14.796875 37.75 14.796875 27.984375 \nQ 14.796875 18.265625 18.828125 12.890625 \nQ 22.859375 7.515625 30.078125 7.515625 \nQ 37.359375 7.515625 41.375 12.890625 \nQ 45.40625 18.265625 45.40625 27.984375 \nz\nM 54.390625 6.78125 \nQ 54.390625 -7.171875 48.1875 -13.984375 \nQ 42 -20.796875 29.203125 -20.796875 \nQ 24.46875 -20.796875 20.265625 -20.09375 \nQ 16.0625 -19.390625 12.109375 -17.921875 \nL 12.109375 -9.1875 \nQ 16.0625 -11.328125 19.921875 -12.34375 \nQ 23.78125 -13.375 27.78125 -13.375 \nQ 36.625 -13.375 41.015625 -8.765625 \nQ 45.40625 -4.15625 45.40625 5.171875 \nL 45.40625 9.625 \nQ 42.625 4.78125 38.28125 2.390625 \nQ 33.9375 0 27.875 0 \nQ 17.828125 0 11.671875 7.65625 \nQ 5.515625 15.328125 5.515625 27.984375 \nQ 5.515625 40.671875 11.671875 48.328125 \nQ 17.828125 56 27.875 56 \nQ 33.9375 56 38.28125 53.609375 \nQ 42.625 51.21875 45.40625 46.390625 \nL 45.40625 54.6875 \nL 54.390625 54.6875 \nz\n\" id=\"DejaVuSans-103\"/>\n     <path d=\"M 9.421875 54.6875 \nL 18.40625 54.6875 \nL 18.40625 0 \nL 9.421875 0 \nz\nM 9.421875 75.984375 \nL 18.40625 75.984375 \nL 18.40625 64.59375 \nL 9.421875 64.59375 \nz\n\" id=\"DejaVuSans-105\"/>\n     <path d=\"M 18.3125 70.21875 \nL 18.3125 54.6875 \nL 36.8125 54.6875 \nL 36.8125 47.703125 \nL 18.3125 47.703125 \nL 18.3125 18.015625 \nQ 18.3125 11.328125 20.140625 9.421875 \nQ 21.96875 7.515625 27.59375 7.515625 \nL 36.8125 7.515625 \nL 36.8125 0 \nL 27.59375 0 \nQ 17.1875 0 13.234375 3.875 \nQ 9.28125 7.765625 9.28125 18.015625 \nL 9.28125 47.703125 \nL 2.6875 47.703125 \nL 2.6875 54.6875 \nL 9.28125 54.6875 \nL 9.28125 70.21875 \nz\n\" id=\"DejaVuSans-116\"/>\n    </defs>\n    <g transform=\"translate(121.51892 47.403812)scale(0.12 -0.12)\">\n     <use xlink:href=\"#DejaVuSans-114\"/>\n     <use x=\"38.863281\" xlink:href=\"#DejaVuSans-101\"/>\n     <use x=\"100.386719\" xlink:href=\"#DejaVuSans-103\"/>\n     <use x=\"163.863281\" xlink:href=\"#DejaVuSans-105\"/>\n     <use x=\"191.646484\" xlink:href=\"#DejaVuSans-115\"/>\n     <use x=\"243.746094\" xlink:href=\"#DejaVuSans-116\"/>\n     <use x=\"282.955078\" xlink:href=\"#DejaVuSans-101\"/>\n     <use x=\"344.478516\" xlink:href=\"#DejaVuSans-114\"/>\n    </g>\n   </g>\n   <g id=\"text_5\">\n    <!-- tooth -->\n    <defs>\n     <path d=\"M 30.609375 48.390625 \nQ 23.390625 48.390625 19.1875 42.75 \nQ 14.984375 37.109375 14.984375 27.296875 \nQ 14.984375 17.484375 19.15625 11.84375 \nQ 23.34375 6.203125 30.609375 6.203125 \nQ 37.796875 6.203125 41.984375 11.859375 \nQ 46.1875 17.53125 46.1875 27.296875 \nQ 46.1875 37.015625 41.984375 42.703125 \nQ 37.796875 48.390625 30.609375 48.390625 \nz\nM 30.609375 56 \nQ 42.328125 56 49.015625 48.375 \nQ 55.71875 40.765625 55.71875 27.296875 \nQ 55.71875 13.875 49.015625 6.21875 \nQ 42.328125 -1.421875 30.609375 -1.421875 \nQ 18.84375 -1.421875 12.171875 6.21875 \nQ 5.515625 13.875 5.515625 27.296875 \nQ 5.515625 40.765625 12.171875 48.375 \nQ 18.84375 56 30.609375 56 \nz\n\" id=\"DejaVuSans-111\"/>\n     <path d=\"M 54.890625 33.015625 \nL 54.890625 0 \nL 45.90625 0 \nL 45.90625 32.71875 \nQ 45.90625 40.484375 42.875 44.328125 \nQ 39.84375 48.1875 33.796875 48.1875 \nQ 26.515625 48.1875 22.3125 43.546875 \nQ 18.109375 38.921875 18.109375 30.90625 \nL 18.109375 0 \nL 9.078125 0 \nL 9.078125 75.984375 \nL 18.109375 75.984375 \nL 18.109375 46.1875 \nQ 21.34375 51.125 25.703125 53.5625 \nQ 30.078125 56 35.796875 56 \nQ 45.21875 56 50.046875 50.171875 \nQ 54.890625 44.34375 54.890625 33.015625 \nz\n\" id=\"DejaVuSans-104\"/>\n    </defs>\n    <g transform=\"translate(364.441534 142.610424)scale(0.12 -0.12)\">\n     <use xlink:href=\"#DejaVuSans-116\"/>\n     <use x=\"39.208984\" xlink:href=\"#DejaVuSans-111\"/>\n     <use x=\"100.390625\" xlink:href=\"#DejaVuSans-111\"/>\n     <use x=\"161.572266\" xlink:href=\"#DejaVuSans-116\"/>\n     <use x=\"200.78125\" xlink:href=\"#DejaVuSans-104\"/>\n    </g>\n   </g>\n  </g>\n </g>\n <defs>\n  <clipPath id=\"p1e61e28281\">\n   <rect height=\"288\" width=\"432\" x=\"7.2\" y=\"7.2\"/>\n  </clipPath>\n </defs>\n</svg>\n",
      "image/png": "[encoded data removed]"
     },
     "metadata": {
      "needs_background": "light"
     }
    }
   ],
   "source": [
    "# display a random sentence\n",
    "i = 10\n",
    "print(sentences[i],\" plausability: \", plausability[i])\n",
    "parsing[sentences[i]].draw(draw_type_labels=True)"
   ]
  },
  {
   "cell_type": "code",
   "execution_count": 5,
   "metadata": {},
   "outputs": [
    {
     "output_type": "stream",
     "name": "stdout",
     "text": [
      "Tensor(dom=Dim(1), cod=Dim(2), array=[0.25221352+0.j    , 0.    -0.96767161j])\n"
     ]
    }
   ],
   "source": [
    "from discopy.quantum import Ket, H, Rx, Ry, Rz, CX, sqrt, X, Circuit\n",
    "from random import uniform\n",
    "from math import pi\n",
    "\n",
    "\n",
    "# Ansätze for 1-qubit states\n",
    "def un_amb_verb_ansatz(p):\n",
    "    return Ket(p[0])\n",
    "\n",
    "def amb_verb_ansatz(p):\n",
    "    return Ket(0) >>  \\\n",
    "        Rx(p[0])\n",
    "\n",
    "def noun_ansatz(p):\n",
    "    return Ket(0) >> \\\n",
    "        Rx(p[0]) >> \\\n",
    "        Rz(p[1])\n",
    "\n",
    "\n",
    "n_qubits_ansatz = 1\n",
    "n_noun_params = 2\n",
    "n_amb_params = 1\n",
    "\n",
    "print(amb_verb_ansatz([uniform(0,1) for i in range(n_amb_params)]).eval())"
   ]
  },
  {
   "cell_type": "code",
   "execution_count": 6,
   "metadata": {},
   "outputs": [],
   "source": [
    "\n",
    "# prepare intitial params\n",
    "binaries = [list(bin(i)[2:]) for i, verb in enumerate(unamb_verb_voc.keys())]\n",
    "int_binaries = [[0]*(n_qubits_ansatz - len(bi)) + [int(b) for b in bi] for bi in binaries]\n",
    "\n",
    "n_nouns = len(nouns)\n",
    "n_amb_verbs = len(ambiguous_verbs)\n",
    "n_unamb_verbs = len(unamb_verb_voc)\n",
    "\n",
    "params_unamb_verbs = {verb: int_binaries[i] for i, verb in enumerate(unamb_verb_voc.keys())}\n",
    "params_nouns = {noun: [uniform(0, 1) for i in range(n_noun_params)] for noun in noun_voc}\n",
    "params_amb_verbs = {verb: [uniform(0, 1) for i in range(n_amb_params)] for verb in amb_verb_voc}"
   ]
  },
  {
   "cell_type": "code",
   "execution_count": 7,
   "metadata": {},
   "outputs": [
    {
     "output_type": "execute_result",
     "data": {
      "text/plain": [
       "{'smooth': [0], 'register': [1]}"
      ]
     },
     "metadata": {},
     "execution_count": 7
    }
   ],
   "source": [
    "params_unamb_verbs"
   ]
  },
  {
   "cell_type": "code",
   "execution_count": 8,
   "metadata": {},
   "outputs": [
    {
     "output_type": "stream",
     "name": "stdout",
     "text": [
      "Circuit for 'register account.':\n"
     ]
    },
    {
     "output_type": "display_data",
     "data": {
      "text/plain": "<Figure size 432x432 with 1 Axes>",
      "image/svg+xml": "<?xml version=\"1.0\" encoding=\"utf-8\" standalone=\"no\"?>\n<!DOCTYPE svg PUBLIC \"-//W3C//DTD SVG 1.1//EN\"\n  \"http://www.w3.org/Graphics/SVG/1.1/DTD/svg11.dtd\">\n<!-- Created with matplotlib (https://matplotlib.org/) -->\n<svg height=\"446.4pt\" version=\"1.1\" viewBox=\"0 0 446.4 446.4\" width=\"446.4pt\" xmlns=\"http://www.w3.org/2000/svg\" xmlns:xlink=\"http://www.w3.org/1999/xlink\">\n <defs>\n  <style type=\"text/css\">\n*{stroke-linecap:butt;stroke-linejoin:round;}\n  </style>\n </defs>\n <g id=\"figure_1\">\n  <g id=\"patch_1\">\n   <path d=\"M 0 446.4 \nL 446.4 446.4 \nL 446.4 0 \nL 0 0 \nz\n\" style=\"fill:none;\"/>\n  </g>\n  <g id=\"axes_1\">\n   <g id=\"patch_2\">\n    <path clip-path=\"url(#p49e6c4972d)\" d=\"M 66.109091 53.018182 \nQ 66.109091 236.290909 66.109091 236.290909 \n\" style=\"fill:none;stroke:#000000;stroke-linejoin:miter;\"/>\n   </g>\n   <g id=\"patch_3\">\n    <path clip-path=\"url(#p49e6c4972d)\" d=\"M 380.290909 105.381818 \nQ 380.290909 131.563636 380.290909 131.563636 \n\" style=\"fill:none;stroke:#000000;stroke-linejoin:miter;\"/>\n   </g>\n   <g id=\"patch_4\">\n    <path clip-path=\"url(#p49e6c4972d)\" d=\"M 380.290909 157.745455 \nQ 380.290909 183.927273 380.290909 183.927273 \n\" style=\"fill:none;stroke:#000000;stroke-linejoin:miter;\"/>\n   </g>\n   <g id=\"patch_5\">\n    <path clip-path=\"url(#p49e6c4972d)\" d=\"M 380.290909 210.109091 \nQ 380.290909 236.290909 380.290909 236.290909 \n\" style=\"fill:none;stroke:#000000;stroke-linejoin:miter;\"/>\n   </g>\n   <g id=\"patch_6\">\n    <path clip-path=\"url(#p49e6c4972d)\" d=\"M 66.109091 262.472727 \nQ 66.109091 288.654545 66.109091 288.654545 \n\" style=\"fill:none;stroke:#000000;stroke-linejoin:miter;\"/>\n   </g>\n   <g id=\"patch_7\">\n    <path clip-path=\"url(#p49e6c4972d)\" d=\"M 380.290909 262.472727 \nQ 380.290909 393.381818 380.290909 393.381818 \n\" style=\"fill:none;stroke:#000000;stroke-linejoin:miter;\"/>\n   </g>\n   <g id=\"patch_8\">\n    <path clip-path=\"url(#p49e6c4972d)\" d=\"M 66.109091 314.836364 \nQ 66.109091 393.381818 66.109091 393.381818 \n\" style=\"fill:none;stroke:#000000;stroke-linejoin:miter;\"/>\n   </g>\n   <g id=\"patch_9\">\n    <path clip-path=\"url(#p49e6c4972d)\" d=\"M 26.836364 53.018182 \nL 105.381818 53.018182 \nL 105.381818 26.836364 \nL 26.836364 26.836364 \nz\n\" style=\"fill:#ffffff;stroke:#000000;stroke-linejoin:miter;\"/>\n   </g>\n   <g id=\"patch_10\">\n    <path clip-path=\"url(#p49e6c4972d)\" d=\"M 341.018182 105.381818 \nL 419.563636 105.381818 \nL 419.563636 79.2 \nL 341.018182 79.2 \nz\n\" style=\"fill:#ffffff;stroke:#000000;stroke-linejoin:miter;\"/>\n   </g>\n   <g id=\"patch_11\">\n    <path clip-path=\"url(#p49e6c4972d)\" d=\"M 341.018182 157.745455 \nL 419.563636 157.745455 \nL 419.563636 131.563636 \nL 341.018182 131.563636 \nz\n\" style=\"fill:#ffffff;stroke:#000000;stroke-linejoin:miter;\"/>\n   </g>\n   <g id=\"patch_12\">\n    <path clip-path=\"url(#p49e6c4972d)\" d=\"M 341.018182 210.109091 \nL 419.563636 210.109091 \nL 419.563636 183.927273 \nL 341.018182 183.927273 \nz\n\" style=\"fill:#ffffff;stroke:#000000;stroke-linejoin:miter;\"/>\n   </g>\n   <g id=\"patch_13\">\n    <path clip-path=\"url(#p49e6c4972d)\" d=\"M 26.836364 262.472727 \nL 419.563636 262.472727 \nL 419.563636 236.290909 \nL 26.836364 236.290909 \nz\n\" style=\"fill:#ffffff;stroke:#000000;stroke-linejoin:miter;\"/>\n   </g>\n   <g id=\"patch_14\">\n    <path clip-path=\"url(#p49e6c4972d)\" d=\"M 26.836364 314.836364 \nL 105.381818 314.836364 \nL 105.381818 288.654545 \nL 26.836364 288.654545 \nz\n\" style=\"fill:#ffffff;stroke:#000000;stroke-linejoin:miter;\"/>\n   </g>\n   <g id=\"patch_15\">\n    <path clip-path=\"url(#p49e6c4972d)\" d=\"M 183.927273 367.2 \nL 262.472727 367.2 \nL 262.472727 341.018182 \nL 183.927273 341.018182 \nz\n\" style=\"fill:#ffffff;stroke:#000000;stroke-linejoin:miter;\"/>\n   </g>\n   <g id=\"patch_16\">\n    <path clip-path=\"url(#p49e6c4972d)\" d=\"M 26.836364 419.563636 \nL 419.563636 419.563636 \nL 419.563636 393.381818 \nL 26.836364 393.381818 \nz\n\" style=\"fill:#ffffff;stroke:#000000;stroke-linejoin:miter;\"/>\n   </g>\n   <g id=\"text_1\">\n    <!-- Ket(1) -->\n    <defs>\n     <path d=\"M 9.8125 72.90625 \nL 19.671875 72.90625 \nL 19.671875 42.09375 \nL 52.390625 72.90625 \nL 65.09375 72.90625 \nL 28.90625 38.921875 \nL 67.671875 0 \nL 54.6875 0 \nL 19.671875 35.109375 \nL 19.671875 0 \nL 9.8125 0 \nz\n\" id=\"DejaVuSans-75\"/>\n     <path d=\"M 56.203125 29.59375 \nL 56.203125 25.203125 \nL 14.890625 25.203125 \nQ 15.484375 15.921875 20.484375 11.0625 \nQ 25.484375 6.203125 34.421875 6.203125 \nQ 39.59375 6.203125 44.453125 7.46875 \nQ 49.3125 8.734375 54.109375 11.28125 \nL 54.109375 2.78125 \nQ 49.265625 0.734375 44.1875 -0.34375 \nQ 39.109375 -1.421875 33.890625 -1.421875 \nQ 20.796875 -1.421875 13.15625 6.1875 \nQ 5.515625 13.8125 5.515625 26.8125 \nQ 5.515625 40.234375 12.765625 48.109375 \nQ 20.015625 56 32.328125 56 \nQ 43.359375 56 49.78125 48.890625 \nQ 56.203125 41.796875 56.203125 29.59375 \nz\nM 47.21875 32.234375 \nQ 47.125 39.59375 43.09375 43.984375 \nQ 39.0625 48.390625 32.421875 48.390625 \nQ 24.90625 48.390625 20.390625 44.140625 \nQ 15.875 39.890625 15.1875 32.171875 \nz\n\" id=\"DejaVuSans-101\"/>\n     <path d=\"M 18.3125 70.21875 \nL 18.3125 54.6875 \nL 36.8125 54.6875 \nL 36.8125 47.703125 \nL 18.3125 47.703125 \nL 18.3125 18.015625 \nQ 18.3125 11.328125 20.140625 9.421875 \nQ 21.96875 7.515625 27.59375 7.515625 \nL 36.8125 7.515625 \nL 36.8125 0 \nL 27.59375 0 \nQ 17.1875 0 13.234375 3.875 \nQ 9.28125 7.765625 9.28125 18.015625 \nL 9.28125 47.703125 \nL 2.6875 47.703125 \nL 2.6875 54.6875 \nL 9.28125 54.6875 \nL 9.28125 70.21875 \nz\n\" id=\"DejaVuSans-116\"/>\n     <path d=\"M 31 75.875 \nQ 24.46875 64.65625 21.28125 53.65625 \nQ 18.109375 42.671875 18.109375 31.390625 \nQ 18.109375 20.125 21.3125 9.0625 \nQ 24.515625 -2 31 -13.1875 \nL 23.1875 -13.1875 \nQ 15.875 -1.703125 12.234375 9.375 \nQ 8.59375 20.453125 8.59375 31.390625 \nQ 8.59375 42.28125 12.203125 53.3125 \nQ 15.828125 64.359375 23.1875 75.875 \nz\n\" id=\"DejaVuSans-40\"/>\n     <path d=\"M 12.40625 8.296875 \nL 28.515625 8.296875 \nL 28.515625 63.921875 \nL 10.984375 60.40625 \nL 10.984375 69.390625 \nL 28.421875 72.90625 \nL 38.28125 72.90625 \nL 38.28125 8.296875 \nL 54.390625 8.296875 \nL 54.390625 0 \nL 12.40625 0 \nz\n\" id=\"DejaVuSans-49\"/>\n     <path d=\"M 8.015625 75.875 \nL 15.828125 75.875 \nQ 23.140625 64.359375 26.78125 53.3125 \nQ 30.421875 42.28125 30.421875 31.390625 \nQ 30.421875 20.453125 26.78125 9.375 \nQ 23.140625 -1.703125 15.828125 -13.1875 \nL 8.015625 -13.1875 \nQ 14.5 -2 17.703125 9.0625 \nQ 20.90625 20.125 20.90625 31.390625 \nQ 20.90625 42.671875 17.703125 53.65625 \nQ 14.5 64.65625 8.015625 75.875 \nz\n\" id=\"DejaVuSans-41\"/>\n    </defs>\n    <g transform=\"translate(47.930966 43.238523)scale(0.12 -0.12)\">\n     <use xlink:href=\"#DejaVuSans-75\"/>\n     <use x=\"60.576172\" xlink:href=\"#DejaVuSans-101\"/>\n     <use x=\"122.099609\" xlink:href=\"#DejaVuSans-116\"/>\n     <use x=\"161.308594\" xlink:href=\"#DejaVuSans-40\"/>\n     <use x=\"200.322266\" xlink:href=\"#DejaVuSans-49\"/>\n     <use x=\"263.945312\" xlink:href=\"#DejaVuSans-41\"/>\n    </g>\n   </g>\n   <g id=\"text_2\">\n    <!-- Ket(0) -->\n    <defs>\n     <path d=\"M 31.78125 66.40625 \nQ 24.171875 66.40625 20.328125 58.90625 \nQ 16.5 51.421875 16.5 36.375 \nQ 16.5 21.390625 20.328125 13.890625 \nQ 24.171875 6.390625 31.78125 6.390625 \nQ 39.453125 6.390625 43.28125 13.890625 \nQ 47.125 21.390625 47.125 36.375 \nQ 47.125 51.421875 43.28125 58.90625 \nQ 39.453125 66.40625 31.78125 66.40625 \nz\nM 31.78125 74.21875 \nQ 44.046875 74.21875 50.515625 64.515625 \nQ 56.984375 54.828125 56.984375 36.375 \nQ 56.984375 17.96875 50.515625 8.265625 \nQ 44.046875 -1.421875 31.78125 -1.421875 \nQ 19.53125 -1.421875 13.0625 8.265625 \nQ 6.59375 17.96875 6.59375 36.375 \nQ 6.59375 54.828125 13.0625 64.515625 \nQ 19.53125 74.21875 31.78125 74.21875 \nz\n\" id=\"DejaVuSans-48\"/>\n    </defs>\n    <g transform=\"translate(362.112784 95.602159)scale(0.12 -0.12)\">\n     <use xlink:href=\"#DejaVuSans-75\"/>\n     <use x=\"60.576172\" xlink:href=\"#DejaVuSans-101\"/>\n     <use x=\"122.099609\" xlink:href=\"#DejaVuSans-116\"/>\n     <use x=\"161.308594\" xlink:href=\"#DejaVuSans-40\"/>\n     <use x=\"200.322266\" xlink:href=\"#DejaVuSans-48\"/>\n     <use x=\"263.945312\" xlink:href=\"#DejaVuSans-41\"/>\n    </g>\n   </g>\n   <g id=\"text_3\">\n    <!-- Rx(0.13) -->\n    <defs>\n     <path d=\"M 44.390625 34.1875 \nQ 47.5625 33.109375 50.5625 29.59375 \nQ 53.5625 26.078125 56.59375 19.921875 \nL 66.609375 0 \nL 56 0 \nL 46.6875 18.703125 \nQ 43.0625 26.03125 39.671875 28.421875 \nQ 36.28125 30.8125 30.421875 30.8125 \nL 19.671875 30.8125 \nL 19.671875 0 \nL 9.8125 0 \nL 9.8125 72.90625 \nL 32.078125 72.90625 \nQ 44.578125 72.90625 50.734375 67.671875 \nQ 56.890625 62.453125 56.890625 51.90625 \nQ 56.890625 45.015625 53.6875 40.46875 \nQ 50.484375 35.9375 44.390625 34.1875 \nz\nM 19.671875 64.796875 \nL 19.671875 38.921875 \nL 32.078125 38.921875 \nQ 39.203125 38.921875 42.84375 42.21875 \nQ 46.484375 45.515625 46.484375 51.90625 \nQ 46.484375 58.296875 42.84375 61.546875 \nQ 39.203125 64.796875 32.078125 64.796875 \nz\n\" id=\"DejaVuSans-82\"/>\n     <path d=\"M 54.890625 54.6875 \nL 35.109375 28.078125 \nL 55.90625 0 \nL 45.3125 0 \nL 29.390625 21.484375 \nL 13.484375 0 \nL 2.875 0 \nL 24.125 28.609375 \nL 4.6875 54.6875 \nL 15.28125 54.6875 \nL 29.78125 35.203125 \nL 44.28125 54.6875 \nz\n\" id=\"DejaVuSans-120\"/>\n     <path d=\"M 10.6875 12.40625 \nL 21 12.40625 \nL 21 0 \nL 10.6875 0 \nz\n\" id=\"DejaVuSans-46\"/>\n     <path d=\"M 40.578125 39.3125 \nQ 47.65625 37.796875 51.625 33 \nQ 55.609375 28.21875 55.609375 21.1875 \nQ 55.609375 10.40625 48.1875 4.484375 \nQ 40.765625 -1.421875 27.09375 -1.421875 \nQ 22.515625 -1.421875 17.65625 -0.515625 \nQ 12.796875 0.390625 7.625 2.203125 \nL 7.625 11.71875 \nQ 11.71875 9.328125 16.59375 8.109375 \nQ 21.484375 6.890625 26.8125 6.890625 \nQ 36.078125 6.890625 40.9375 10.546875 \nQ 45.796875 14.203125 45.796875 21.1875 \nQ 45.796875 27.640625 41.28125 31.265625 \nQ 36.765625 34.90625 28.71875 34.90625 \nL 20.21875 34.90625 \nL 20.21875 43.015625 \nL 29.109375 43.015625 \nQ 36.375 43.015625 40.234375 45.921875 \nQ 44.09375 48.828125 44.09375 54.296875 \nQ 44.09375 59.90625 40.109375 62.90625 \nQ 36.140625 65.921875 28.71875 65.921875 \nQ 24.65625 65.921875 20.015625 65.03125 \nQ 15.375 64.15625 9.8125 62.3125 \nL 9.8125 71.09375 \nQ 15.4375 72.65625 20.34375 73.4375 \nQ 25.25 74.21875 29.59375 74.21875 \nQ 40.828125 74.21875 47.359375 69.109375 \nQ 53.90625 64.015625 53.90625 55.328125 \nQ 53.90625 49.265625 50.4375 45.09375 \nQ 46.96875 40.921875 40.578125 39.3125 \nz\n\" id=\"DejaVuSans-51\"/>\n    </defs>\n    <g transform=\"translate(354.529347 147.965795)scale(0.12 -0.12)\">\n     <use xlink:href=\"#DejaVuSans-82\"/>\n     <use x=\"69.482422\" xlink:href=\"#DejaVuSans-120\"/>\n     <use x=\"128.662109\" xlink:href=\"#DejaVuSans-40\"/>\n     <use x=\"167.675781\" xlink:href=\"#DejaVuSans-48\"/>\n     <use x=\"231.298828\" xlink:href=\"#DejaVuSans-46\"/>\n     <use x=\"263.085938\" xlink:href=\"#DejaVuSans-49\"/>\n     <use x=\"326.708984\" xlink:href=\"#DejaVuSans-51\"/>\n     <use x=\"390.332031\" xlink:href=\"#DejaVuSans-41\"/>\n    </g>\n   </g>\n   <g id=\"text_4\">\n    <!-- Rz(0.153) -->\n    <defs>\n     <path d=\"M 5.515625 54.6875 \nL 48.1875 54.6875 \nL 48.1875 46.484375 \nL 14.40625 7.171875 \nL 48.1875 7.171875 \nL 48.1875 0 \nL 4.296875 0 \nL 4.296875 8.203125 \nL 38.09375 47.515625 \nL 5.515625 47.515625 \nz\n\" id=\"DejaVuSans-122\"/>\n     <path d=\"M 10.796875 72.90625 \nL 49.515625 72.90625 \nL 49.515625 64.59375 \nL 19.828125 64.59375 \nL 19.828125 46.734375 \nQ 21.96875 47.46875 24.109375 47.828125 \nQ 26.265625 48.1875 28.421875 48.1875 \nQ 40.625 48.1875 47.75 41.5 \nQ 54.890625 34.8125 54.890625 23.390625 \nQ 54.890625 11.625 47.5625 5.09375 \nQ 40.234375 -1.421875 26.90625 -1.421875 \nQ 22.3125 -1.421875 17.546875 -0.640625 \nQ 12.796875 0.140625 7.71875 1.703125 \nL 7.71875 11.625 \nQ 12.109375 9.234375 16.796875 8.0625 \nQ 21.484375 6.890625 26.703125 6.890625 \nQ 35.15625 6.890625 40.078125 11.328125 \nQ 45.015625 15.765625 45.015625 23.390625 \nQ 45.015625 31 40.078125 35.4375 \nQ 35.15625 39.890625 26.703125 39.890625 \nQ 22.75 39.890625 18.8125 39.015625 \nQ 14.890625 38.140625 10.796875 36.28125 \nz\n\" id=\"DejaVuSans-53\"/>\n    </defs>\n    <g transform=\"translate(351.114034 200.329432)scale(0.12 -0.12)\">\n     <use xlink:href=\"#DejaVuSans-82\"/>\n     <use x=\"69.482422\" xlink:href=\"#DejaVuSans-122\"/>\n     <use x=\"121.972656\" xlink:href=\"#DejaVuSans-40\"/>\n     <use x=\"160.986328\" xlink:href=\"#DejaVuSans-48\"/>\n     <use x=\"224.609375\" xlink:href=\"#DejaVuSans-46\"/>\n     <use x=\"256.396484\" xlink:href=\"#DejaVuSans-49\"/>\n     <use x=\"320.019531\" xlink:href=\"#DejaVuSans-53\"/>\n     <use x=\"383.642578\" xlink:href=\"#DejaVuSans-51\"/>\n     <use x=\"447.265625\" xlink:href=\"#DejaVuSans-41\"/>\n    </g>\n   </g>\n   <g id=\"text_5\">\n    <!-- CX -->\n    <defs>\n     <path d=\"M 64.40625 67.28125 \nL 64.40625 56.890625 \nQ 59.421875 61.53125 53.78125 63.8125 \nQ 48.140625 66.109375 41.796875 66.109375 \nQ 29.296875 66.109375 22.65625 58.46875 \nQ 16.015625 50.828125 16.015625 36.375 \nQ 16.015625 21.96875 22.65625 14.328125 \nQ 29.296875 6.6875 41.796875 6.6875 \nQ 48.140625 6.6875 53.78125 8.984375 \nQ 59.421875 11.28125 64.40625 15.921875 \nL 64.40625 5.609375 \nQ 59.234375 2.09375 53.4375 0.328125 \nQ 47.65625 -1.421875 41.21875 -1.421875 \nQ 24.65625 -1.421875 15.125 8.703125 \nQ 5.609375 18.84375 5.609375 36.375 \nQ 5.609375 53.953125 15.125 64.078125 \nQ 24.65625 74.21875 41.21875 74.21875 \nQ 47.75 74.21875 53.53125 72.484375 \nQ 59.328125 70.75 64.40625 67.28125 \nz\n\" id=\"DejaVuSans-67\"/>\n     <path d=\"M 6.296875 72.90625 \nL 16.890625 72.90625 \nL 35.015625 45.796875 \nL 53.21875 72.90625 \nL 63.8125 72.90625 \nL 40.375 37.890625 \nL 65.375 0 \nL 54.78125 0 \nL 34.28125 31 \nL 13.625 0 \nL 2.984375 0 \nL 29 38.921875 \nz\n\" id=\"DejaVuSans-88\"/>\n    </defs>\n    <g transform=\"translate(214.900312 252.693068)scale(0.12 -0.12)\">\n     <use xlink:href=\"#DejaVuSans-67\"/>\n     <use x=\"69.824219\" xlink:href=\"#DejaVuSans-88\"/>\n    </g>\n   </g>\n   <g id=\"text_6\">\n    <!-- H -->\n    <defs>\n     <path d=\"M 9.8125 72.90625 \nL 19.671875 72.90625 \nL 19.671875 43.015625 \nL 55.515625 43.015625 \nL 55.515625 72.90625 \nL 65.375 72.90625 \nL 65.375 0 \nL 55.515625 0 \nL 55.515625 34.71875 \nL 19.671875 34.71875 \nL 19.671875 0 \nL 9.8125 0 \nz\n\" id=\"DejaVuSans-72\"/>\n    </defs>\n    <g transform=\"translate(61.596903 305.056705)scale(0.12 -0.12)\">\n     <use xlink:href=\"#DejaVuSans-72\"/>\n    </g>\n   </g>\n   <g id=\"text_7\">\n    <!-- sqrt(2) -->\n    <defs>\n     <path d=\"M 44.28125 53.078125 \nL 44.28125 44.578125 \nQ 40.484375 46.53125 36.375 47.5 \nQ 32.28125 48.484375 27.875 48.484375 \nQ 21.1875 48.484375 17.84375 46.4375 \nQ 14.5 44.390625 14.5 40.28125 \nQ 14.5 37.15625 16.890625 35.375 \nQ 19.28125 33.59375 26.515625 31.984375 \nL 29.59375 31.296875 \nQ 39.15625 29.25 43.1875 25.515625 \nQ 47.21875 21.78125 47.21875 15.09375 \nQ 47.21875 7.46875 41.1875 3.015625 \nQ 35.15625 -1.421875 24.609375 -1.421875 \nQ 20.21875 -1.421875 15.453125 -0.5625 \nQ 10.6875 0.296875 5.421875 2 \nL 5.421875 11.28125 \nQ 10.40625 8.6875 15.234375 7.390625 \nQ 20.0625 6.109375 24.8125 6.109375 \nQ 31.15625 6.109375 34.5625 8.28125 \nQ 37.984375 10.453125 37.984375 14.40625 \nQ 37.984375 18.0625 35.515625 20.015625 \nQ 33.0625 21.96875 24.703125 23.78125 \nL 21.578125 24.515625 \nQ 13.234375 26.265625 9.515625 29.90625 \nQ 5.8125 33.546875 5.8125 39.890625 \nQ 5.8125 47.609375 11.28125 51.796875 \nQ 16.75 56 26.8125 56 \nQ 31.78125 56 36.171875 55.265625 \nQ 40.578125 54.546875 44.28125 53.078125 \nz\n\" id=\"DejaVuSans-115\"/>\n     <path d=\"M 14.796875 27.296875 \nQ 14.796875 17.390625 18.875 11.75 \nQ 22.953125 6.109375 30.078125 6.109375 \nQ 37.203125 6.109375 41.296875 11.75 \nQ 45.40625 17.390625 45.40625 27.296875 \nQ 45.40625 37.203125 41.296875 42.84375 \nQ 37.203125 48.484375 30.078125 48.484375 \nQ 22.953125 48.484375 18.875 42.84375 \nQ 14.796875 37.203125 14.796875 27.296875 \nz\nM 45.40625 8.203125 \nQ 42.578125 3.328125 38.25 0.953125 \nQ 33.9375 -1.421875 27.875 -1.421875 \nQ 17.96875 -1.421875 11.734375 6.484375 \nQ 5.515625 14.40625 5.515625 27.296875 \nQ 5.515625 40.1875 11.734375 48.09375 \nQ 17.96875 56 27.875 56 \nQ 33.9375 56 38.25 53.625 \nQ 42.578125 51.265625 45.40625 46.390625 \nL 45.40625 54.6875 \nL 54.390625 54.6875 \nL 54.390625 -20.796875 \nL 45.40625 -20.796875 \nz\n\" id=\"DejaVuSans-113\"/>\n     <path d=\"M 41.109375 46.296875 \nQ 39.59375 47.171875 37.8125 47.578125 \nQ 36.03125 48 33.890625 48 \nQ 26.265625 48 22.1875 43.046875 \nQ 18.109375 38.09375 18.109375 28.8125 \nL 18.109375 0 \nL 9.078125 0 \nL 9.078125 54.6875 \nL 18.109375 54.6875 \nL 18.109375 46.1875 \nQ 20.953125 51.171875 25.484375 53.578125 \nQ 30.03125 56 36.53125 56 \nQ 37.453125 56 38.578125 55.875 \nQ 39.703125 55.765625 41.0625 55.515625 \nz\n\" id=\"DejaVuSans-114\"/>\n     <path d=\"M 19.1875 8.296875 \nL 53.609375 8.296875 \nL 53.609375 0 \nL 7.328125 0 \nL 7.328125 8.296875 \nQ 12.9375 14.109375 22.625 23.890625 \nQ 32.328125 33.6875 34.8125 36.53125 \nQ 39.546875 41.84375 41.421875 45.53125 \nQ 43.3125 49.21875 43.3125 52.78125 \nQ 43.3125 58.59375 39.234375 62.25 \nQ 35.15625 65.921875 28.609375 65.921875 \nQ 23.96875 65.921875 18.8125 64.3125 \nQ 13.671875 62.703125 7.8125 59.421875 \nL 7.8125 69.390625 \nQ 13.765625 71.78125 18.9375 73 \nQ 24.125 74.21875 28.421875 74.21875 \nQ 39.75 74.21875 46.484375 68.546875 \nQ 53.21875 62.890625 53.21875 53.421875 \nQ 53.21875 48.921875 51.53125 44.890625 \nQ 49.859375 40.875 45.40625 35.40625 \nQ 44.1875 33.984375 37.640625 27.21875 \nQ 31.109375 20.453125 19.1875 8.296875 \nz\n\" id=\"DejaVuSans-50\"/>\n    </defs>\n    <g transform=\"translate(202.947187 357.420341)scale(0.12 -0.12)\">\n     <use xlink:href=\"#DejaVuSans-115\"/>\n     <use x=\"52.099609\" xlink:href=\"#DejaVuSans-113\"/>\n     <use x=\"115.576172\" xlink:href=\"#DejaVuSans-114\"/>\n     <use x=\"156.689453\" xlink:href=\"#DejaVuSans-116\"/>\n     <use x=\"195.898438\" xlink:href=\"#DejaVuSans-40\"/>\n     <use x=\"234.912109\" xlink:href=\"#DejaVuSans-50\"/>\n     <use x=\"298.535156\" xlink:href=\"#DejaVuSans-41\"/>\n    </g>\n   </g>\n   <g id=\"text_8\">\n    <!-- Bra(0, 0) -->\n    <defs>\n     <path d=\"M 19.671875 34.8125 \nL 19.671875 8.109375 \nL 35.5 8.109375 \nQ 43.453125 8.109375 47.28125 11.40625 \nQ 51.125 14.703125 51.125 21.484375 \nQ 51.125 28.328125 47.28125 31.5625 \nQ 43.453125 34.8125 35.5 34.8125 \nz\nM 19.671875 64.796875 \nL 19.671875 42.828125 \nL 34.28125 42.828125 \nQ 41.5 42.828125 45.03125 45.53125 \nQ 48.578125 48.25 48.578125 53.8125 \nQ 48.578125 59.328125 45.03125 62.0625 \nQ 41.5 64.796875 34.28125 64.796875 \nz\nM 9.8125 72.90625 \nL 35.015625 72.90625 \nQ 46.296875 72.90625 52.390625 68.21875 \nQ 58.5 63.53125 58.5 54.890625 \nQ 58.5 48.1875 55.375 44.234375 \nQ 52.25 40.28125 46.1875 39.3125 \nQ 53.46875 37.75 57.5 32.78125 \nQ 61.53125 27.828125 61.53125 20.40625 \nQ 61.53125 10.640625 54.890625 5.3125 \nQ 48.25 0 35.984375 0 \nL 9.8125 0 \nz\n\" id=\"DejaVuSans-66\"/>\n     <path d=\"M 34.28125 27.484375 \nQ 23.390625 27.484375 19.1875 25 \nQ 14.984375 22.515625 14.984375 16.5 \nQ 14.984375 11.71875 18.140625 8.90625 \nQ 21.296875 6.109375 26.703125 6.109375 \nQ 34.1875 6.109375 38.703125 11.40625 \nQ 43.21875 16.703125 43.21875 25.484375 \nL 43.21875 27.484375 \nz\nM 52.203125 31.203125 \nL 52.203125 0 \nL 43.21875 0 \nL 43.21875 8.296875 \nQ 40.140625 3.328125 35.546875 0.953125 \nQ 30.953125 -1.421875 24.3125 -1.421875 \nQ 15.921875 -1.421875 10.953125 3.296875 \nQ 6 8.015625 6 15.921875 \nQ 6 25.140625 12.171875 29.828125 \nQ 18.359375 34.515625 30.609375 34.515625 \nL 43.21875 34.515625 \nL 43.21875 35.40625 \nQ 43.21875 41.609375 39.140625 45 \nQ 35.0625 48.390625 27.6875 48.390625 \nQ 23 48.390625 18.546875 47.265625 \nQ 14.109375 46.140625 10.015625 43.890625 \nL 10.015625 52.203125 \nQ 14.9375 54.109375 19.578125 55.046875 \nQ 24.21875 56 28.609375 56 \nQ 40.484375 56 46.34375 49.84375 \nQ 52.203125 43.703125 52.203125 31.203125 \nz\n\" id=\"DejaVuSans-97\"/>\n     <path d=\"M 11.71875 12.40625 \nL 22.015625 12.40625 \nL 22.015625 4 \nL 14.015625 -11.625 \nL 7.71875 -11.625 \nL 11.71875 4 \nz\n\" id=\"DejaVuSans-44\"/>\n     <path id=\"DejaVuSans-32\"/>\n    </defs>\n    <g transform=\"translate(196.809375 409.783977)scale(0.12 -0.12)\">\n     <use xlink:href=\"#DejaVuSans-66\"/>\n     <use x=\"68.603516\" xlink:href=\"#DejaVuSans-114\"/>\n     <use x=\"109.716797\" xlink:href=\"#DejaVuSans-97\"/>\n     <use x=\"170.996094\" xlink:href=\"#DejaVuSans-40\"/>\n     <use x=\"210.009766\" xlink:href=\"#DejaVuSans-48\"/>\n     <use x=\"273.632812\" xlink:href=\"#DejaVuSans-44\"/>\n     <use x=\"305.419922\" xlink:href=\"#DejaVuSans-32\"/>\n     <use x=\"337.207031\" xlink:href=\"#DejaVuSans-48\"/>\n     <use x=\"400.830078\" xlink:href=\"#DejaVuSans-41\"/>\n    </g>\n   </g>\n  </g>\n </g>\n <defs>\n  <clipPath id=\"p49e6c4972d\">\n   <rect height=\"432\" width=\"432\" x=\"7.2\" y=\"7.2\"/>\n  </clipPath>\n </defs>\n</svg>\n",
      "image/png": "[encoded data removed]"
     },
     "metadata": {
      "needs_background": "light"
     }
    },
    {
     "output_type": "execute_result",
     "data": {
      "text/plain": [
       "Tensor(dom=Dim(1), cod=Dim(1), array=[0.18312504-0.35134966j])"
      ]
     },
     "metadata": {},
     "execution_count": 8
    }
   ],
   "source": [
    "from discopy import CircuitFunctor, qubit\n",
    "\n",
    "\n",
    "def F(params_nouns, params_unamb_verbs, params_amb_verbs):\n",
    "    ar1 = {noun_voc[noun]:noun_ansatz(params_nouns[noun]) for noun in noun_voc}\n",
    "    ar2 = {unamb_verb_voc[verb]:un_amb_verb_ansatz(params_unamb_verbs[verb]) for verb in unamb_verb_voc}\n",
    "    ar3 = {amb_verb_voc[verb]:amb_verb_ansatz(params_amb_verbs[verb]) for verb in amb_verb_voc}\n",
    "    ar = {**ar1, **ar2, **ar3}\n",
    "\n",
    "    return CircuitFunctor(\n",
    "        ob = {s: qubit ** 0, n: qubit ** n_qubits_ansatz},\n",
    "        ar = ar)\n",
    "\n",
    "print(\"Circuit for 'register account.':\")\n",
    "circuit = F(params_nouns, params_unamb_verbs, params_amb_verbs)(parsing['register account.'])\n",
    "circuit.draw(figsize=(6, 6), aspect='auto', draw_type_labels=False)\n",
    "circuit.eval()"
   ]
  },
  {
   "cell_type": "code",
   "execution_count": 9,
   "metadata": {},
   "outputs": [],
   "source": [
    "from pytket.extensions.qiskit import AerBackend, tk_to_qiskit\n",
    "backend = AerBackend()\n",
    "result = circuit.eval(backend)"
   ]
  },
  {
   "cell_type": "code",
   "execution_count": 10,
   "metadata": {},
   "outputs": [
    {
     "output_type": "stream",
     "name": "stdout",
     "text": [
      "<tket::Circuit, qubits=2, gates=7>:\nX q[0];\nRx(0.259349) q[1];\nRz(0.305875) q[1];\nCX q[0], q[1];\nMeasure q[1] --> c[1];\nH q[0];\nMeasure q[0] --> c[0];\n\npost selection:\n{0: 0, 1: 0}\n\nscalar:\n1.4142135623730951\n\nqiskit circuit:\n"
     ]
    },
    {
     "output_type": "execute_result",
     "data": {
      "text/plain": [
       "<Figure size 387.452x204.68 with 1 Axes>"
      ],
      "image/svg+xml": "<?xml version=\"1.0\" encoding=\"utf-8\" standalone=\"no\"?>\n<!DOCTYPE svg PUBLIC \"-//W3C//DTD SVG 1.1//EN\"\n  \"http://www.w3.org/Graphics/SVG/1.1/DTD/svg11.dtd\">\n<!-- Created with matplotlib (https://matplotlib.org/) -->\n<svg height=\"168.9334pt\" version=\"1.1\" viewBox=\"0 0 306.926272 168.9334\" width=\"306.926272pt\" xmlns=\"http://www.w3.org/2000/svg\" xmlns:xlink=\"http://www.w3.org/1999/xlink\">\n <defs>\n  <style type=\"text/css\">\n*{stroke-linecap:butt;stroke-linejoin:round;}\n  </style>\n </defs>\n <g id=\"figure_1\">\n  <g id=\"patch_1\">\n   <path d=\"M 0 168.9334 \nL 306.926272 168.9334 \nL 306.926272 0 \nL 0 0 \nz\n\" style=\"fill:#ffffff;\"/>\n  </g>\n  <g id=\"axes_1\">\n   <g id=\"patch_2\">\n    <path clip-path=\"url(#pbe5b675d10)\" d=\"M 218.368982 124.122697 \nL 230.186242 124.122697 \nL 224.277612 132.64476 \nz\n\" style=\"fill:#778899;\"/>\n   </g>\n   <g id=\"patch_3\">\n    <path clip-path=\"url(#pbe5b675d10)\" d=\"M 263.819982 124.122697 \nL 275.637242 124.122697 \nL 269.728612 132.64476 \nz\n\" style=\"fill:#778899;\"/>\n   </g>\n   <g id=\"line2d_1\">\n    <path clip-path=\"url(#pbe5b675d10)\" d=\"M 63.381072 43.5608 \nL 295.181172 43.5608 \n\" style=\"fill:none;stroke:#000000;stroke-linecap:square;stroke-width:2;\"/>\n   </g>\n   <g id=\"line2d_2\">\n    <path clip-path=\"url(#pbe5b675d10)\" d=\"M 63.381072 89.0118 \nL 295.181172 89.0118 \n\" style=\"fill:none;stroke:#000000;stroke-linecap:square;stroke-width:2;\"/>\n   </g>\n   <g id=\"line2d_3\">\n    <path clip-path=\"url(#pbe5b675d10)\" d=\"M 63.381072 132.985642 \nL 295.181172 132.985642 \n\" style=\"fill:none;stroke:#778899;stroke-linecap:square;stroke-width:2;\"/>\n   </g>\n   <g id=\"line2d_4\">\n    <path clip-path=\"url(#pbe5b675d10)\" d=\"M 63.381072 135.939957 \nL 295.181172 135.939957 \n\" style=\"fill:none;stroke:#778899;stroke-linecap:square;stroke-width:2;\"/>\n   </g>\n   <g id=\"line2d_5\">\n    <path clip-path=\"url(#pbe5b675d10)\" d=\"M 178.826612 89.0118 \nL 178.826612 43.5608 \n\" style=\"fill:none;stroke:#6fa4ff;stroke-linecap:square;stroke-width:2;\"/>\n   </g>\n   <g id=\"line2d_6\">\n    <path clip-path=\"url(#pbe5b675d10)\" d=\"M 225.75477 89.0118 \nL 225.75477 124.122697 \n\" style=\"fill:none;stroke:#778899;stroke-linecap:square;stroke-width:2;\"/>\n   </g>\n   <g id=\"line2d_7\">\n    <path clip-path=\"url(#pbe5b675d10)\" d=\"M 222.800455 89.0118 \nL 222.800455 124.122697 \n\" style=\"fill:none;stroke:#778899;stroke-linecap:square;stroke-width:2;\"/>\n   </g>\n   <g id=\"line2d_8\">\n    <path clip-path=\"url(#pbe5b675d10)\" d=\"M 271.20577 43.5608 \nL 271.20577 124.122697 \n\" style=\"fill:none;stroke:#778899;stroke-linecap:square;stroke-width:2;\"/>\n   </g>\n   <g id=\"line2d_9\">\n    <path clip-path=\"url(#pbe5b675d10)\" d=\"M 268.251455 43.5608 \nL 268.251455 124.122697 \n\" style=\"fill:none;stroke:#778899;stroke-linecap:square;stroke-width:2;\"/>\n   </g>\n   <g id=\"line2d_10\">\n    <path clip-path=\"url(#pbe5b675d10)\" d=\"M 72.471272 139.0079 \nL 77.016372 129.9177 \n\" style=\"fill:none;stroke:#778899;stroke-linecap:square;stroke-width:1.5;\"/>\n   </g>\n   <g id=\"patch_4\">\n    <path clip-path=\"url(#pbe5b675d10)\" d=\"M 73.153037 58.332375 \nL 102.696187 58.332375 \nL 102.696187 28.789225 \nL 73.153037 28.789225 \nz\n\" style=\"fill:#05bab6;stroke:#05bab6;stroke-linejoin:miter;stroke-width:1.5;\"/>\n   </g>\n   <g id=\"patch_5\">\n    <path clip-path=\"url(#pbe5b675d10)\" d=\"M 73.153037 103.783375 \nL 102.696187 103.783375 \nL 102.696187 74.240225 \nL 73.153037 74.240225 \nz\n\" style=\"fill:#bb8bff;stroke:#bb8bff;stroke-linejoin:miter;stroke-width:1.5;\"/>\n   </g>\n   <g id=\"patch_6\">\n    <path clip-path=\"url(#pbe5b675d10)\" d=\"M 118.604037 103.783375 \nL 148.147187 103.783375 \nL 148.147187 74.240225 \nL 118.604037 74.240225 \nz\n\" style=\"fill:#bb8bff;stroke:#bb8bff;stroke-linejoin:miter;stroke-width:1.5;\"/>\n   </g>\n   <g id=\"patch_7\">\n    <path clip-path=\"url(#pbe5b675d10)\" d=\"M 178.826612 47.992272 \nC 180.001852 47.992272 181.129116 47.525345 181.960136 46.694324 \nC 182.791157 45.863304 183.258085 44.73604 183.258085 43.5608 \nC 183.258085 42.38556 182.791157 41.258296 181.960136 40.427276 \nC 181.129116 39.596255 180.001852 39.129327 178.826612 39.129327 \nC 177.651372 39.129327 176.524108 39.596255 175.693088 40.427276 \nC 174.862067 41.258296 174.39514 42.38556 174.39514 43.5608 \nC 174.39514 44.73604 174.862067 45.863304 175.693088 46.694324 \nC 176.524108 47.525345 177.651372 47.992272 178.826612 47.992272 \nz\n\" style=\"fill:#6fa4ff;stroke:#6fa4ff;stroke-linejoin:miter;stroke-width:1.5;\"/>\n   </g>\n   <g id=\"patch_8\">\n    <path clip-path=\"url(#pbe5b675d10)\" d=\"M 178.826612 99.351902 \nC 181.568839 99.351902 184.199121 98.262404 186.138169 96.323357 \nC 188.077216 94.384309 189.166715 91.754027 189.166715 89.0118 \nC 189.166715 86.269573 188.077216 83.639291 186.138169 81.700243 \nC 184.199121 79.761196 181.568839 78.671697 178.826612 78.671697 \nC 176.084385 78.671697 173.454103 79.761196 171.515055 81.700243 \nC 169.576008 83.639291 168.48651 86.269573 168.48651 89.0118 \nC 168.48651 91.754027 169.576008 94.384309 171.515055 96.323357 \nC 173.454103 98.262404 176.084385 99.351902 178.826612 99.351902 \nz\n\" style=\"fill:#6fa4ff;stroke:#6fa4ff;stroke-linejoin:miter;stroke-width:2;\"/>\n   </g>\n   <g id=\"patch_9\">\n    <path clip-path=\"url(#pbe5b675d10)\" d=\"M 209.506037 103.783375 \nL 239.049187 103.783375 \nL 239.049187 74.240225 \nL 209.506037 74.240225 \nz\n\" style=\"stroke:#000000;stroke-linejoin:miter;stroke-width:1.5;\"/>\n   </g>\n   <g id=\"patch_10\">\n    <path clip-path=\"url(#pbe5b675d10)\" d=\"M 234.617715 93.443272 \nC 234.617715 90.701959 233.52757 88.070118 231.589169 86.131716 \nC 229.650767 84.193314 227.018926 83.10317 224.277612 83.10317 \nC 221.536298 83.10317 218.904457 84.193314 216.966055 86.131716 \nC 215.027654 88.070118 213.93751 90.701959 213.93751 93.443272 \n\" style=\"fill:none;stroke:#ffffff;stroke-linejoin:miter;stroke-width:2;\"/>\n   </g>\n   <g id=\"patch_11\">\n    <path clip-path=\"url(#pbe5b675d10)\" d=\"M 209.506037 58.332375 \nL 239.049187 58.332375 \nL 239.049187 28.789225 \nL 209.506037 28.789225 \nz\n\" style=\"fill:#6fa4ff;stroke:#6fa4ff;stroke-linejoin:miter;stroke-width:1.5;\"/>\n   </g>\n   <g id=\"patch_12\">\n    <path clip-path=\"url(#pbe5b675d10)\" d=\"M 254.957037 58.332375 \nL 284.500187 58.332375 \nL 284.500187 28.789225 \nL 254.957037 28.789225 \nz\n\" style=\"stroke:#000000;stroke-linejoin:miter;stroke-width:1.5;\"/>\n   </g>\n   <g id=\"patch_13\">\n    <path clip-path=\"url(#pbe5b675d10)\" d=\"M 280.068715 47.992272 \nC 280.068715 45.250959 278.97857 42.619118 277.040169 40.680716 \nC 275.101767 38.742314 272.469926 37.65217 269.728612 37.65217 \nC 266.987298 37.65217 264.355457 38.742314 262.417055 40.680716 \nC 260.478654 42.619118 259.38851 45.250959 259.38851 47.992272 \n\" style=\"fill:none;stroke:#ffffff;stroke-linejoin:miter;stroke-width:2;\"/>\n   </g>\n   <g id=\"line2d_11\">\n    <path clip-path=\"url(#pbe5b675d10)\" d=\"M 224.277612 93.443272 \nL 234.617715 83.10317 \n\" style=\"fill:none;stroke:#ffffff;stroke-linecap:square;stroke-width:2;\"/>\n   </g>\n   <g id=\"line2d_12\">\n    <path clip-path=\"url(#pbe5b675d10)\" d=\"M 269.728612 47.992272 \nL 280.068715 37.65217 \n\" style=\"fill:none;stroke:#ffffff;stroke-linecap:square;stroke-width:2;\"/>\n   </g>\n   <g id=\"line2d_13\">\n    <path clip-path=\"url(#pbe5b675d10)\" d=\"M 178.826612 94.92043 \nL 178.826612 83.10317 \n\" style=\"fill:none;stroke:#ffffff;stroke-linecap:square;stroke-width:2;\"/>\n   </g>\n   <g id=\"line2d_14\">\n    <path clip-path=\"url(#pbe5b675d10)\" d=\"M 172.917982 89.0118 \nL 184.735242 89.0118 \n\" style=\"fill:none;stroke:#ffffff;stroke-linecap:square;stroke-width:2;\"/>\n   </g>\n   <g id=\"text_1\">\n    <g clip-path=\"url(#pbe5b675d10)\">\n     <!-- X -->\n     <defs>\n      <path d=\"M 6.296875 72.90625 \nL 16.890625 72.90625 \nL 35.015625 45.796875 \nL 53.21875 72.90625 \nL 63.8125 72.90625 \nL 40.375 37.890625 \nL 65.375 0 \nL 54.78125 0 \nL 34.28125 31 \nL 13.625 0 \nL 2.984375 0 \nL 29 38.921875 \nz\n\" id=\"DejaVuSans-88\"/>\n     </defs>\n     <g transform=\"translate(83.472112 47.147987)scale(0.13 -0.13)\">\n      <use xlink:href=\"#DejaVuSans-88\"/>\n     </g>\n    </g>\n   </g>\n   <g id=\"text_2\">\n    <g clip-path=\"url(#pbe5b675d10)\">\n     <!-- $\\mathrm{R}_\\mathrm{X}$ -->\n     <defs>\n      <path d=\"M 44.390625 34.1875 \nQ 47.5625 33.109375 50.5625 29.59375 \nQ 53.5625 26.078125 56.59375 19.921875 \nL 66.609375 0 \nL 56 0 \nL 46.6875 18.703125 \nQ 43.0625 26.03125 39.671875 28.421875 \nQ 36.28125 30.8125 30.421875 30.8125 \nL 19.671875 30.8125 \nL 19.671875 0 \nL 9.8125 0 \nL 9.8125 72.90625 \nL 32.078125 72.90625 \nQ 44.578125 72.90625 50.734375 67.671875 \nQ 56.890625 62.453125 56.890625 51.90625 \nQ 56.890625 45.015625 53.6875 40.46875 \nQ 50.484375 35.9375 44.390625 34.1875 \nz\nM 19.671875 64.796875 \nL 19.671875 38.921875 \nL 32.078125 38.921875 \nQ 39.203125 38.921875 42.84375 42.21875 \nQ 46.484375 45.515625 46.484375 51.90625 \nQ 46.484375 58.296875 42.84375 61.546875 \nQ 39.203125 64.796875 32.078125 64.796875 \nz\n\" id=\"DejaVuSans-82\"/>\n     </defs>\n     <g transform=\"translate(79.994612 88.167515)scale(0.13 -0.13)\">\n      <use transform=\"translate(0 0.09375)\" xlink:href=\"#DejaVuSans-82\"/>\n      <use transform=\"translate(70.439453 -16.3125)scale(0.7)\" xlink:href=\"#DejaVuSans-88\"/>\n     </g>\n    </g>\n   </g>\n   <g id=\"text_3\">\n    <g clip-path=\"url(#pbe5b675d10)\">\n     <!-- 0.815 -->\n     <defs>\n      <path d=\"M 31.78125 66.40625 \nQ 24.171875 66.40625 20.328125 58.90625 \nQ 16.5 51.421875 16.5 36.375 \nQ 16.5 21.390625 20.328125 13.890625 \nQ 24.171875 6.390625 31.78125 6.390625 \nQ 39.453125 6.390625 43.28125 13.890625 \nQ 47.125 21.390625 47.125 36.375 \nQ 47.125 51.421875 43.28125 58.90625 \nQ 39.453125 66.40625 31.78125 66.40625 \nz\nM 31.78125 74.21875 \nQ 44.046875 74.21875 50.515625 64.515625 \nQ 56.984375 54.828125 56.984375 36.375 \nQ 56.984375 17.96875 50.515625 8.265625 \nQ 44.046875 -1.421875 31.78125 -1.421875 \nQ 19.53125 -1.421875 13.0625 8.265625 \nQ 6.59375 17.96875 6.59375 36.375 \nQ 6.59375 54.828125 13.0625 64.515625 \nQ 19.53125 74.21875 31.78125 74.21875 \nz\n\" id=\"DejaVuSans-48\"/>\n      <path d=\"M 10.6875 12.40625 \nL 21 12.40625 \nL 21 0 \nL 10.6875 0 \nz\n\" id=\"DejaVuSans-46\"/>\n      <path d=\"M 31.78125 34.625 \nQ 24.75 34.625 20.71875 30.859375 \nQ 16.703125 27.09375 16.703125 20.515625 \nQ 16.703125 13.921875 20.71875 10.15625 \nQ 24.75 6.390625 31.78125 6.390625 \nQ 38.8125 6.390625 42.859375 10.171875 \nQ 46.921875 13.96875 46.921875 20.515625 \nQ 46.921875 27.09375 42.890625 30.859375 \nQ 38.875 34.625 31.78125 34.625 \nz\nM 21.921875 38.8125 \nQ 15.578125 40.375 12.03125 44.71875 \nQ 8.5 49.078125 8.5 55.328125 \nQ 8.5 64.0625 14.71875 69.140625 \nQ 20.953125 74.21875 31.78125 74.21875 \nQ 42.671875 74.21875 48.875 69.140625 \nQ 55.078125 64.0625 55.078125 55.328125 \nQ 55.078125 49.078125 51.53125 44.71875 \nQ 48 40.375 41.703125 38.8125 \nQ 48.828125 37.15625 52.796875 32.3125 \nQ 56.78125 27.484375 56.78125 20.515625 \nQ 56.78125 9.90625 50.3125 4.234375 \nQ 43.84375 -1.421875 31.78125 -1.421875 \nQ 19.734375 -1.421875 13.25 4.234375 \nQ 6.78125 9.90625 6.78125 20.515625 \nQ 6.78125 27.484375 10.78125 32.3125 \nQ 14.796875 37.15625 21.921875 38.8125 \nz\nM 18.3125 54.390625 \nQ 18.3125 48.734375 21.84375 45.5625 \nQ 25.390625 42.390625 31.78125 42.390625 \nQ 38.140625 42.390625 41.71875 45.5625 \nQ 45.3125 48.734375 45.3125 54.390625 \nQ 45.3125 60.0625 41.71875 63.234375 \nQ 38.140625 66.40625 31.78125 66.40625 \nQ 25.390625 66.40625 21.84375 63.234375 \nQ 18.3125 60.0625 18.3125 54.390625 \nz\n\" id=\"DejaVuSans-56\"/>\n      <path d=\"M 12.40625 8.296875 \nL 28.515625 8.296875 \nL 28.515625 63.921875 \nL 10.984375 60.40625 \nL 10.984375 69.390625 \nL 28.421875 72.90625 \nL 38.28125 72.90625 \nL 38.28125 8.296875 \nL 54.390625 8.296875 \nL 54.390625 0 \nL 12.40625 0 \nz\n\" id=\"DejaVuSans-49\"/>\n      <path d=\"M 10.796875 72.90625 \nL 49.515625 72.90625 \nL 49.515625 64.59375 \nL 19.828125 64.59375 \nL 19.828125 46.734375 \nQ 21.96875 47.46875 24.109375 47.828125 \nQ 26.265625 48.1875 28.421875 48.1875 \nQ 40.625 48.1875 47.75 41.5 \nQ 54.890625 34.8125 54.890625 23.390625 \nQ 54.890625 11.625 47.5625 5.09375 \nQ 40.234375 -1.421875 26.90625 -1.421875 \nQ 22.3125 -1.421875 17.546875 -0.640625 \nQ 12.796875 0.140625 7.71875 1.703125 \nL 7.71875 11.625 \nQ 12.109375 9.234375 16.796875 8.0625 \nQ 21.484375 6.890625 26.703125 6.890625 \nQ 35.15625 6.890625 40.078125 11.328125 \nQ 45.015625 15.765625 45.015625 23.390625 \nQ 45.015625 31 40.078125 35.4375 \nQ 35.15625 39.890625 26.703125 39.890625 \nQ 22.75 39.890625 18.8125 39.015625 \nQ 14.890625 38.140625 10.796875 36.28125 \nz\n\" id=\"DejaVuSans-53\"/>\n     </defs>\n     <g transform=\"translate(76.473362 100.082245)scale(0.08 -0.08)\">\n      <use xlink:href=\"#DejaVuSans-48\"/>\n      <use x=\"63.623047\" xlink:href=\"#DejaVuSans-46\"/>\n      <use x=\"95.410156\" xlink:href=\"#DejaVuSans-56\"/>\n      <use x=\"159.033203\" xlink:href=\"#DejaVuSans-49\"/>\n      <use x=\"222.65625\" xlink:href=\"#DejaVuSans-53\"/>\n     </g>\n    </g>\n   </g>\n   <g id=\"text_4\">\n    <g clip-path=\"url(#pbe5b675d10)\">\n     <!-- $\\mathrm{R}_\\mathrm{Z}$ -->\n     <defs>\n      <path d=\"M 5.609375 72.90625 \nL 62.890625 72.90625 \nL 62.890625 65.375 \nL 16.796875 8.296875 \nL 64.015625 8.296875 \nL 64.015625 0 \nL 4.5 0 \nL 4.5 7.515625 \nL 50.59375 64.59375 \nL 5.609375 64.59375 \nz\n\" id=\"DejaVuSans-90\"/>\n     </defs>\n     <g transform=\"translate(125.445612 88.167515)scale(0.13 -0.13)\">\n      <use transform=\"translate(0 0.09375)\" xlink:href=\"#DejaVuSans-82\"/>\n      <use transform=\"translate(70.439453 -16.3125)scale(0.7)\" xlink:href=\"#DejaVuSans-90\"/>\n     </g>\n    </g>\n   </g>\n   <g id=\"text_5\">\n    <g clip-path=\"url(#pbe5b675d10)\">\n     <!-- 0.961 -->\n     <defs>\n      <path d=\"M 10.984375 1.515625 \nL 10.984375 10.5 \nQ 14.703125 8.734375 18.5 7.8125 \nQ 22.3125 6.890625 25.984375 6.890625 \nQ 35.75 6.890625 40.890625 13.453125 \nQ 46.046875 20.015625 46.78125 33.40625 \nQ 43.953125 29.203125 39.59375 26.953125 \nQ 35.25 24.703125 29.984375 24.703125 \nQ 19.046875 24.703125 12.671875 31.3125 \nQ 6.296875 37.9375 6.296875 49.421875 \nQ 6.296875 60.640625 12.9375 67.421875 \nQ 19.578125 74.21875 30.609375 74.21875 \nQ 43.265625 74.21875 49.921875 64.515625 \nQ 56.59375 54.828125 56.59375 36.375 \nQ 56.59375 19.140625 48.40625 8.859375 \nQ 40.234375 -1.421875 26.421875 -1.421875 \nQ 22.703125 -1.421875 18.890625 -0.6875 \nQ 15.09375 0.046875 10.984375 1.515625 \nz\nM 30.609375 32.421875 \nQ 37.25 32.421875 41.125 36.953125 \nQ 45.015625 41.5 45.015625 49.421875 \nQ 45.015625 57.28125 41.125 61.84375 \nQ 37.25 66.40625 30.609375 66.40625 \nQ 23.96875 66.40625 20.09375 61.84375 \nQ 16.21875 57.28125 16.21875 49.421875 \nQ 16.21875 41.5 20.09375 36.953125 \nQ 23.96875 32.421875 30.609375 32.421875 \nz\n\" id=\"DejaVuSans-57\"/>\n      <path d=\"M 33.015625 40.375 \nQ 26.375 40.375 22.484375 35.828125 \nQ 18.609375 31.296875 18.609375 23.390625 \nQ 18.609375 15.53125 22.484375 10.953125 \nQ 26.375 6.390625 33.015625 6.390625 \nQ 39.65625 6.390625 43.53125 10.953125 \nQ 47.40625 15.53125 47.40625 23.390625 \nQ 47.40625 31.296875 43.53125 35.828125 \nQ 39.65625 40.375 33.015625 40.375 \nz\nM 52.59375 71.296875 \nL 52.59375 62.3125 \nQ 48.875 64.0625 45.09375 64.984375 \nQ 41.3125 65.921875 37.59375 65.921875 \nQ 27.828125 65.921875 22.671875 59.328125 \nQ 17.53125 52.734375 16.796875 39.40625 \nQ 19.671875 43.65625 24.015625 45.921875 \nQ 28.375 48.1875 33.59375 48.1875 \nQ 44.578125 48.1875 50.953125 41.515625 \nQ 57.328125 34.859375 57.328125 23.390625 \nQ 57.328125 12.15625 50.6875 5.359375 \nQ 44.046875 -1.421875 33.015625 -1.421875 \nQ 20.359375 -1.421875 13.671875 8.265625 \nQ 6.984375 17.96875 6.984375 36.375 \nQ 6.984375 53.65625 15.1875 63.9375 \nQ 23.390625 74.21875 37.203125 74.21875 \nQ 40.921875 74.21875 44.703125 73.484375 \nQ 48.484375 72.75 52.59375 71.296875 \nz\n\" id=\"DejaVuSans-54\"/>\n     </defs>\n     <g transform=\"translate(121.924362 100.082245)scale(0.08 -0.08)\">\n      <use xlink:href=\"#DejaVuSans-48\"/>\n      <use x=\"63.623047\" xlink:href=\"#DejaVuSans-46\"/>\n      <use x=\"95.410156\" xlink:href=\"#DejaVuSans-57\"/>\n      <use x=\"159.033203\" xlink:href=\"#DejaVuSans-54\"/>\n      <use x=\"222.65625\" xlink:href=\"#DejaVuSans-49\"/>\n     </g>\n    </g>\n   </g>\n   <g id=\"text_6\">\n    <g clip-path=\"url(#pbe5b675d10)\">\n     <!-- 1 -->\n     <g transform=\"translate(235.640362 127.754825)scale(0.104 -0.104)\">\n      <use xlink:href=\"#DejaVuSans-49\"/>\n     </g>\n    </g>\n   </g>\n   <g id=\"text_7\">\n    <g clip-path=\"url(#pbe5b675d10)\">\n     <!-- H -->\n     <defs>\n      <path d=\"M 9.8125 72.90625 \nL 19.671875 72.90625 \nL 19.671875 43.015625 \nL 55.515625 43.015625 \nL 55.515625 72.90625 \nL 65.375 72.90625 \nL 65.375 0 \nL 55.515625 0 \nL 55.515625 34.71875 \nL 19.671875 34.71875 \nL 19.671875 0 \nL 9.8125 0 \nz\n\" id=\"DejaVuSans-72\"/>\n     </defs>\n     <g transform=\"translate(219.389409 47.147987)scale(0.13 -0.13)\">\n      <use xlink:href=\"#DejaVuSans-72\"/>\n     </g>\n    </g>\n   </g>\n   <g id=\"text_8\">\n    <g clip-path=\"url(#pbe5b675d10)\">\n     <!-- 0 -->\n     <g transform=\"translate(281.091362 127.754825)scale(0.104 -0.104)\">\n      <use xlink:href=\"#DejaVuSans-48\"/>\n     </g>\n    </g>\n   </g>\n   <g id=\"text_9\">\n    <g clip-path=\"url(#pbe5b675d10)\">\n     <!-- ${q}_{0}$ -->\n     <defs>\n      <path d=\"M 41.703125 8.203125 \nQ 38.09375 3.46875 33.171875 1.015625 \nQ 28.265625 -1.421875 22.3125 -1.421875 \nQ 14.015625 -1.421875 9.296875 4.171875 \nQ 4.59375 9.765625 4.59375 19.578125 \nQ 4.59375 27.484375 7.5 34.859375 \nQ 10.40625 42.234375 15.828125 48.09375 \nQ 19.34375 51.90625 23.90625 53.953125 \nQ 28.46875 56 33.5 56 \nQ 39.546875 56 43.453125 53.609375 \nQ 47.359375 51.21875 49.125 46.390625 \nL 50.6875 54.59375 \nL 59.71875 54.59375 \nL 45.125 -20.609375 \nL 36.078125 -20.609375 \nz\nM 13.921875 20.90625 \nQ 13.921875 13.671875 16.9375 9.890625 \nQ 19.96875 6.109375 25.6875 6.109375 \nQ 34.1875 6.109375 40.1875 14.234375 \nQ 46.1875 22.359375 46.1875 33.984375 \nQ 46.1875 41.015625 43.078125 44.75 \nQ 39.984375 48.484375 34.1875 48.484375 \nQ 29.9375 48.484375 26.3125 46.5 \nQ 22.703125 44.53125 20.015625 40.71875 \nQ 17.1875 36.71875 15.546875 31.34375 \nQ 13.921875 25.984375 13.921875 20.90625 \nz\n\" id=\"DejaVuSans-Oblique-113\"/>\n     </defs>\n     <g transform=\"translate(36.253372 48.011777)scale(0.1625 -0.1625)\">\n      <use xlink:href=\"#DejaVuSans-Oblique-113\"/>\n      <use transform=\"translate(63.476562 -16.40625)scale(0.7)\" xlink:href=\"#DejaVuSans-48\"/>\n     </g>\n    </g>\n   </g>\n   <g id=\"text_10\">\n    <g clip-path=\"url(#pbe5b675d10)\">\n     <!-- ${q}_{1}$ -->\n     <g transform=\"translate(36.253372 93.462777)scale(0.1625 -0.1625)\">\n      <use xlink:href=\"#DejaVuSans-Oblique-113\"/>\n      <use transform=\"translate(63.476562 -16.40625)scale(0.7)\" xlink:href=\"#DejaVuSans-49\"/>\n     </g>\n    </g>\n   </g>\n   <g id=\"text_11\">\n    <g clip-path=\"url(#pbe5b675d10)\">\n     <!-- 2 -->\n     <defs>\n      <path d=\"M 19.1875 8.296875 \nL 53.609375 8.296875 \nL 53.609375 0 \nL 7.328125 0 \nL 7.328125 8.296875 \nQ 12.9375 14.109375 22.625 23.890625 \nQ 32.328125 33.6875 34.8125 36.53125 \nQ 39.546875 41.84375 41.421875 45.53125 \nQ 43.3125 49.21875 43.3125 52.78125 \nQ 43.3125 58.59375 39.234375 62.25 \nQ 35.15625 65.921875 28.609375 65.921875 \nQ 23.96875 65.921875 18.8125 64.3125 \nQ 13.671875 62.703125 7.8125 59.421875 \nL 7.8125 69.390625 \nQ 13.765625 71.78125 18.9375 73 \nQ 24.125 74.21875 28.421875 74.21875 \nQ 39.75 74.21875 46.484375 68.546875 \nQ 53.21875 62.890625 53.21875 53.421875 \nQ 53.21875 48.921875 51.53125 44.890625 \nQ 49.859375 40.875 45.40625 35.40625 \nQ 44.1875 33.984375 37.640625 27.21875 \nQ 31.109375 20.453125 19.1875 8.296875 \nz\n\" id=\"DejaVuSans-50\"/>\n     </defs>\n     <g transform=\"translate(67.926172 127.754825)scale(0.104 -0.104)\">\n      <use xlink:href=\"#DejaVuSans-50\"/>\n     </g>\n    </g>\n   </g>\n   <g id=\"text_12\">\n    <g clip-path=\"url(#pbe5b675d10)\">\n     <!-- c -->\n     <defs>\n      <path d=\"M 48.78125 52.59375 \nL 48.78125 44.1875 \nQ 44.96875 46.296875 41.140625 47.34375 \nQ 37.3125 48.390625 33.40625 48.390625 \nQ 24.65625 48.390625 19.8125 42.84375 \nQ 14.984375 37.3125 14.984375 27.296875 \nQ 14.984375 17.28125 19.8125 11.734375 \nQ 24.65625 6.203125 33.40625 6.203125 \nQ 37.3125 6.203125 41.140625 7.25 \nQ 44.96875 8.296875 48.78125 10.40625 \nL 48.78125 2.09375 \nQ 45.015625 0.34375 40.984375 -0.53125 \nQ 36.96875 -1.421875 32.421875 -1.421875 \nQ 20.0625 -1.421875 12.78125 6.34375 \nQ 5.515625 14.109375 5.515625 27.296875 \nQ 5.515625 40.671875 12.859375 48.328125 \nQ 20.21875 56 33.015625 56 \nQ 37.15625 56 41.109375 55.140625 \nQ 45.0625 54.296875 48.78125 52.59375 \nz\n\" id=\"DejaVuSans-99\"/>\n     </defs>\n     <g transform=\"translate(45.355911 138.946784)scale(0.1625 -0.1625)\">\n      <use xlink:href=\"#DejaVuSans-99\"/>\n     </g>\n    </g>\n   </g>\n  </g>\n </g>\n <defs>\n  <clipPath id=\"pbe5b675d10\">\n   <rect height=\"154.5334\" width=\"292.526272\" x=\"7.2\" y=\"7.2\"/>\n  </clipPath>\n </defs>\n</svg>\n",
      "image/png": "[encoded data removed]"
     },
     "metadata": {},
     "execution_count": 10
    }
   ],
   "source": [
    "tk_circ = circuit.to_tk()\n",
    "print(\"{}:\\n{}\\n\".format(tk_circ, '\\n'.join(map(str, tk_circ))))\n",
    "print(\"post selection:\\n{}\\n\".format(tk_circ.post_selection))\n",
    "print(\"scalar:\\n{}\\n\".format(tk_circ.scalar))\n",
    "print(\"qiskit circuit:\")\n",
    "tk_to_qiskit(tk_circ).draw(output=\"mpl\")"
   ]
  },
  {
   "cell_type": "code",
   "execution_count": 11,
   "metadata": {},
   "outputs": [],
   "source": [
    "import numpy as np\n",
    "\n",
    "# define evaluation function\n",
    "def evaluate(params_nouns, params_unamb_verbs, params_amb_verbs, sentences, backend=AerBackend(), n_shots=2**10, seed=0):\n",
    "    circuits = [F(params_nouns, params_unamb_verbs, params_amb_verbs)(parsing[sent]) for sent in sentences]\n",
    "    results = [Circuit.eval(\n",
    "                circuit,\n",
    "                backend=backend,\n",
    "                n_shots=n_shots,\n",
    "                seed=seed,\n",
    "                compilation=backend.default_compilation_pass(2)) for circuit in circuits]\n",
    "    tensors = [np.abs(result.array)[0] for result in results]\n",
    "    return tensors"
   ]
  },
  {
   "cell_type": "code",
   "execution_count": 12,
   "metadata": {},
   "outputs": [],
   "source": [
    "def reshape_data(params_np):\n",
    "    ''' Converts numpy array of parameters back to dictionary\n",
    "    '''\n",
    "    params_nouns_np = params_np[:n_nouns*n_noun_params].reshape((n_nouns,n_noun_params))\n",
    "    params_amb_verbs_np = params_np[n_nouns*n_noun_params:].reshape((n_amb_verbs,n_amb_params))\n",
    "\n",
    "    params_nouns = {word: params_nouns_np[i].tolist() for i, word in enumerate(nouns)}\n",
    "    params_amb_verbs = {word: params_amb_verbs_np[i].tolist() for i, word in enumerate(amb_verb_voc)}\n",
    "\n",
    "    return params_nouns, params_amb_verbs\n",
    "\n",
    "def loss(params_np, sentences=sentences, plausability=plausability):\n",
    "\n",
    "    # convert np to dict\n",
    "    params_nouns, params_amb_verbs = reshape_data(params_np)\n",
    "\n",
    "    return np.mean(np.array([\n",
    "        (plausability[i] - scalar) ** 2\n",
    "        for i, scalar in enumerate(evaluate(params_nouns, params_unamb_verbs, params_amb_verbs, sentences))]))"
   ]
  },
  {
   "cell_type": "markdown",
   "metadata": {},
   "source": [
    "## Fit model with genetic algorithm"
   ]
  },
  {
   "cell_type": "code",
   "execution_count": 13,
   "metadata": {},
   "outputs": [
    {
     "output_type": "stream",
     "name": "stdout",
     "text": [
      " The best solution found:\n",
      " [0.54703077 0.93525277 0.94609256 ... 0.44741549 0.70418462 0.32844744]\n",
      "\n",
      " Objective function:\n",
      " 0.073287116156684\n"
     ]
    },
    {
     "output_type": "display_data",
     "data": {
      "text/plain": "<Figure size 432x288 with 1 Axes>",
      "image/svg+xml": "<?xml version=\"1.0\" encoding=\"utf-8\" standalone=\"no\"?>\n<!DOCTYPE svg PUBLIC \"-//W3C//DTD SVG 1.1//EN\"\n  \"http://www.w3.org/Graphics/SVG/1.1/DTD/svg11.dtd\">\n<!-- Created with matplotlib (https://matplotlib.org/) -->\n<svg height=\"277.314375pt\" version=\"1.1\" viewBox=\"0 0 398.50625 277.314375\" width=\"398.50625pt\" xmlns=\"http://www.w3.org/2000/svg\" xmlns:xlink=\"http://www.w3.org/1999/xlink\">\n <defs>\n  <style type=\"text/css\">\n*{stroke-linecap:butt;stroke-linejoin:round;}\n  </style>\n </defs>\n <g id=\"figure_1\">\n  <g id=\"patch_1\">\n   <path d=\"M 0 277.314375 \nL 398.50625 277.314375 \nL 398.50625 0 \nL 0 0 \nz\n\" style=\"fill:none;\"/>\n  </g>\n  <g id=\"axes_1\">\n   <g id=\"patch_2\">\n    <path d=\"M 56.50625 239.758125 \nL 391.30625 239.758125 \nL 391.30625 22.318125 \nL 56.50625 22.318125 \nz\n\" style=\"fill:#ffffff;\"/>\n   </g>\n   <g id=\"matplotlib.axis_1\">\n    <g id=\"xtick_1\">\n     <g id=\"line2d_1\">\n      <defs>\n       <path d=\"M 0 0 \nL 0 3.5 \n\" id=\"mfa2cbe6fdd\" style=\"stroke:#000000;stroke-width:0.8;\"/>\n      </defs>\n      <g>\n       <use style=\"stroke:#000000;stroke-width:0.8;\" x=\"71.724432\" xlink:href=\"#mfa2cbe6fdd\" y=\"239.758125\"/>\n      </g>\n     </g>\n     <g id=\"text_1\">\n      <!-- 0 -->\n      <defs>\n       <path d=\"M 31.78125 66.40625 \nQ 24.171875 66.40625 20.328125 58.90625 \nQ 16.5 51.421875 16.5 36.375 \nQ 16.5 21.390625 20.328125 13.890625 \nQ 24.171875 6.390625 31.78125 6.390625 \nQ 39.453125 6.390625 43.28125 13.890625 \nQ 47.125 21.390625 47.125 36.375 \nQ 47.125 51.421875 43.28125 58.90625 \nQ 39.453125 66.40625 31.78125 66.40625 \nz\nM 31.78125 74.21875 \nQ 44.046875 74.21875 50.515625 64.515625 \nQ 56.984375 54.828125 56.984375 36.375 \nQ 56.984375 17.96875 50.515625 8.265625 \nQ 44.046875 -1.421875 31.78125 -1.421875 \nQ 19.53125 -1.421875 13.0625 8.265625 \nQ 6.59375 17.96875 6.59375 36.375 \nQ 6.59375 54.828125 13.0625 64.515625 \nQ 19.53125 74.21875 31.78125 74.21875 \nz\n\" id=\"DejaVuSans-48\"/>\n      </defs>\n      <g transform=\"translate(68.543182 254.356562)scale(0.1 -0.1)\">\n       <use xlink:href=\"#DejaVuSans-48\"/>\n      </g>\n     </g>\n    </g>\n    <g id=\"xtick_2\">\n     <g id=\"line2d_2\">\n      <g>\n       <use style=\"stroke:#000000;stroke-width:0.8;\" x=\"132.597159\" xlink:href=\"#mfa2cbe6fdd\" y=\"239.758125\"/>\n      </g>\n     </g>\n     <g id=\"text_2\">\n      <!-- 5 -->\n      <defs>\n       <path d=\"M 10.796875 72.90625 \nL 49.515625 72.90625 \nL 49.515625 64.59375 \nL 19.828125 64.59375 \nL 19.828125 46.734375 \nQ 21.96875 47.46875 24.109375 47.828125 \nQ 26.265625 48.1875 28.421875 48.1875 \nQ 40.625 48.1875 47.75 41.5 \nQ 54.890625 34.8125 54.890625 23.390625 \nQ 54.890625 11.625 47.5625 5.09375 \nQ 40.234375 -1.421875 26.90625 -1.421875 \nQ 22.3125 -1.421875 17.546875 -0.640625 \nQ 12.796875 0.140625 7.71875 1.703125 \nL 7.71875 11.625 \nQ 12.109375 9.234375 16.796875 8.0625 \nQ 21.484375 6.890625 26.703125 6.890625 \nQ 35.15625 6.890625 40.078125 11.328125 \nQ 45.015625 15.765625 45.015625 23.390625 \nQ 45.015625 31 40.078125 35.4375 \nQ 35.15625 39.890625 26.703125 39.890625 \nQ 22.75 39.890625 18.8125 39.015625 \nQ 14.890625 38.140625 10.796875 36.28125 \nz\n\" id=\"DejaVuSans-53\"/>\n      </defs>\n      <g transform=\"translate(129.415909 254.356562)scale(0.1 -0.1)\">\n       <use xlink:href=\"#DejaVuSans-53\"/>\n      </g>\n     </g>\n    </g>\n    <g id=\"xtick_3\">\n     <g id=\"line2d_3\">\n      <g>\n       <use style=\"stroke:#000000;stroke-width:0.8;\" x=\"193.469886\" xlink:href=\"#mfa2cbe6fdd\" y=\"239.758125\"/>\n      </g>\n     </g>\n     <g id=\"text_3\">\n      <!-- 10 -->\n      <defs>\n       <path d=\"M 12.40625 8.296875 \nL 28.515625 8.296875 \nL 28.515625 63.921875 \nL 10.984375 60.40625 \nL 10.984375 69.390625 \nL 28.421875 72.90625 \nL 38.28125 72.90625 \nL 38.28125 8.296875 \nL 54.390625 8.296875 \nL 54.390625 0 \nL 12.40625 0 \nz\n\" id=\"DejaVuSans-49\"/>\n      </defs>\n      <g transform=\"translate(187.107386 254.356562)scale(0.1 -0.1)\">\n       <use xlink:href=\"#DejaVuSans-49\"/>\n       <use x=\"63.623047\" xlink:href=\"#DejaVuSans-48\"/>\n      </g>\n     </g>\n    </g>\n    <g id=\"xtick_4\">\n     <g id=\"line2d_4\">\n      <g>\n       <use style=\"stroke:#000000;stroke-width:0.8;\" x=\"254.342614\" xlink:href=\"#mfa2cbe6fdd\" y=\"239.758125\"/>\n      </g>\n     </g>\n     <g id=\"text_4\">\n      <!-- 15 -->\n      <g transform=\"translate(247.980114 254.356562)scale(0.1 -0.1)\">\n       <use xlink:href=\"#DejaVuSans-49\"/>\n       <use x=\"63.623047\" xlink:href=\"#DejaVuSans-53\"/>\n      </g>\n     </g>\n    </g>\n    <g id=\"xtick_5\">\n     <g id=\"line2d_5\">\n      <g>\n       <use style=\"stroke:#000000;stroke-width:0.8;\" x=\"315.215341\" xlink:href=\"#mfa2cbe6fdd\" y=\"239.758125\"/>\n      </g>\n     </g>\n     <g id=\"text_5\">\n      <!-- 20 -->\n      <defs>\n       <path d=\"M 19.1875 8.296875 \nL 53.609375 8.296875 \nL 53.609375 0 \nL 7.328125 0 \nL 7.328125 8.296875 \nQ 12.9375 14.109375 22.625 23.890625 \nQ 32.328125 33.6875 34.8125 36.53125 \nQ 39.546875 41.84375 41.421875 45.53125 \nQ 43.3125 49.21875 43.3125 52.78125 \nQ 43.3125 58.59375 39.234375 62.25 \nQ 35.15625 65.921875 28.609375 65.921875 \nQ 23.96875 65.921875 18.8125 64.3125 \nQ 13.671875 62.703125 7.8125 59.421875 \nL 7.8125 69.390625 \nQ 13.765625 71.78125 18.9375 73 \nQ 24.125 74.21875 28.421875 74.21875 \nQ 39.75 74.21875 46.484375 68.546875 \nQ 53.21875 62.890625 53.21875 53.421875 \nQ 53.21875 48.921875 51.53125 44.890625 \nQ 49.859375 40.875 45.40625 35.40625 \nQ 44.1875 33.984375 37.640625 27.21875 \nQ 31.109375 20.453125 19.1875 8.296875 \nz\n\" id=\"DejaVuSans-50\"/>\n      </defs>\n      <g transform=\"translate(308.852841 254.356562)scale(0.1 -0.1)\">\n       <use xlink:href=\"#DejaVuSans-50\"/>\n       <use x=\"63.623047\" xlink:href=\"#DejaVuSans-48\"/>\n      </g>\n     </g>\n    </g>\n    <g id=\"xtick_6\">\n     <g id=\"line2d_6\">\n      <g>\n       <use style=\"stroke:#000000;stroke-width:0.8;\" x=\"376.088068\" xlink:href=\"#mfa2cbe6fdd\" y=\"239.758125\"/>\n      </g>\n     </g>\n     <g id=\"text_6\">\n      <!-- 25 -->\n      <g transform=\"translate(369.725568 254.356562)scale(0.1 -0.1)\">\n       <use xlink:href=\"#DejaVuSans-50\"/>\n       <use x=\"63.623047\" xlink:href=\"#DejaVuSans-53\"/>\n      </g>\n     </g>\n    </g>\n    <g id=\"text_7\">\n     <!-- Iteration -->\n     <defs>\n      <path d=\"M 9.8125 72.90625 \nL 19.671875 72.90625 \nL 19.671875 0 \nL 9.8125 0 \nz\n\" id=\"DejaVuSans-73\"/>\n      <path d=\"M 18.3125 70.21875 \nL 18.3125 54.6875 \nL 36.8125 54.6875 \nL 36.8125 47.703125 \nL 18.3125 47.703125 \nL 18.3125 18.015625 \nQ 18.3125 11.328125 20.140625 9.421875 \nQ 21.96875 7.515625 27.59375 7.515625 \nL 36.8125 7.515625 \nL 36.8125 0 \nL 27.59375 0 \nQ 17.1875 0 13.234375 3.875 \nQ 9.28125 7.765625 9.28125 18.015625 \nL 9.28125 47.703125 \nL 2.6875 47.703125 \nL 2.6875 54.6875 \nL 9.28125 54.6875 \nL 9.28125 70.21875 \nz\n\" id=\"DejaVuSans-116\"/>\n      <path d=\"M 56.203125 29.59375 \nL 56.203125 25.203125 \nL 14.890625 25.203125 \nQ 15.484375 15.921875 20.484375 11.0625 \nQ 25.484375 6.203125 34.421875 6.203125 \nQ 39.59375 6.203125 44.453125 7.46875 \nQ 49.3125 8.734375 54.109375 11.28125 \nL 54.109375 2.78125 \nQ 49.265625 0.734375 44.1875 -0.34375 \nQ 39.109375 -1.421875 33.890625 -1.421875 \nQ 20.796875 -1.421875 13.15625 6.1875 \nQ 5.515625 13.8125 5.515625 26.8125 \nQ 5.515625 40.234375 12.765625 48.109375 \nQ 20.015625 56 32.328125 56 \nQ 43.359375 56 49.78125 48.890625 \nQ 56.203125 41.796875 56.203125 29.59375 \nz\nM 47.21875 32.234375 \nQ 47.125 39.59375 43.09375 43.984375 \nQ 39.0625 48.390625 32.421875 48.390625 \nQ 24.90625 48.390625 20.390625 44.140625 \nQ 15.875 39.890625 15.1875 32.171875 \nz\n\" id=\"DejaVuSans-101\"/>\n      <path d=\"M 41.109375 46.296875 \nQ 39.59375 47.171875 37.8125 47.578125 \nQ 36.03125 48 33.890625 48 \nQ 26.265625 48 22.1875 43.046875 \nQ 18.109375 38.09375 18.109375 28.8125 \nL 18.109375 0 \nL 9.078125 0 \nL 9.078125 54.6875 \nL 18.109375 54.6875 \nL 18.109375 46.1875 \nQ 20.953125 51.171875 25.484375 53.578125 \nQ 30.03125 56 36.53125 56 \nQ 37.453125 56 38.578125 55.875 \nQ 39.703125 55.765625 41.0625 55.515625 \nz\n\" id=\"DejaVuSans-114\"/>\n      <path d=\"M 34.28125 27.484375 \nQ 23.390625 27.484375 19.1875 25 \nQ 14.984375 22.515625 14.984375 16.5 \nQ 14.984375 11.71875 18.140625 8.90625 \nQ 21.296875 6.109375 26.703125 6.109375 \nQ 34.1875 6.109375 38.703125 11.40625 \nQ 43.21875 16.703125 43.21875 25.484375 \nL 43.21875 27.484375 \nz\nM 52.203125 31.203125 \nL 52.203125 0 \nL 43.21875 0 \nL 43.21875 8.296875 \nQ 40.140625 3.328125 35.546875 0.953125 \nQ 30.953125 -1.421875 24.3125 -1.421875 \nQ 15.921875 -1.421875 10.953125 3.296875 \nQ 6 8.015625 6 15.921875 \nQ 6 25.140625 12.171875 29.828125 \nQ 18.359375 34.515625 30.609375 34.515625 \nL 43.21875 34.515625 \nL 43.21875 35.40625 \nQ 43.21875 41.609375 39.140625 45 \nQ 35.0625 48.390625 27.6875 48.390625 \nQ 23 48.390625 18.546875 47.265625 \nQ 14.109375 46.140625 10.015625 43.890625 \nL 10.015625 52.203125 \nQ 14.9375 54.109375 19.578125 55.046875 \nQ 24.21875 56 28.609375 56 \nQ 40.484375 56 46.34375 49.84375 \nQ 52.203125 43.703125 52.203125 31.203125 \nz\n\" id=\"DejaVuSans-97\"/>\n      <path d=\"M 9.421875 54.6875 \nL 18.40625 54.6875 \nL 18.40625 0 \nL 9.421875 0 \nz\nM 9.421875 75.984375 \nL 18.40625 75.984375 \nL 18.40625 64.59375 \nL 9.421875 64.59375 \nz\n\" id=\"DejaVuSans-105\"/>\n      <path d=\"M 30.609375 48.390625 \nQ 23.390625 48.390625 19.1875 42.75 \nQ 14.984375 37.109375 14.984375 27.296875 \nQ 14.984375 17.484375 19.15625 11.84375 \nQ 23.34375 6.203125 30.609375 6.203125 \nQ 37.796875 6.203125 41.984375 11.859375 \nQ 46.1875 17.53125 46.1875 27.296875 \nQ 46.1875 37.015625 41.984375 42.703125 \nQ 37.796875 48.390625 30.609375 48.390625 \nz\nM 30.609375 56 \nQ 42.328125 56 49.015625 48.375 \nQ 55.71875 40.765625 55.71875 27.296875 \nQ 55.71875 13.875 49.015625 6.21875 \nQ 42.328125 -1.421875 30.609375 -1.421875 \nQ 18.84375 -1.421875 12.171875 6.21875 \nQ 5.515625 13.875 5.515625 27.296875 \nQ 5.515625 40.765625 12.171875 48.375 \nQ 18.84375 56 30.609375 56 \nz\n\" id=\"DejaVuSans-111\"/>\n      <path d=\"M 54.890625 33.015625 \nL 54.890625 0 \nL 45.90625 0 \nL 45.90625 32.71875 \nQ 45.90625 40.484375 42.875 44.328125 \nQ 39.84375 48.1875 33.796875 48.1875 \nQ 26.515625 48.1875 22.3125 43.546875 \nQ 18.109375 38.921875 18.109375 30.90625 \nL 18.109375 0 \nL 9.078125 0 \nL 9.078125 54.6875 \nL 18.109375 54.6875 \nL 18.109375 46.1875 \nQ 21.34375 51.125 25.703125 53.5625 \nQ 30.078125 56 35.796875 56 \nQ 45.21875 56 50.046875 50.171875 \nQ 54.890625 44.34375 54.890625 33.015625 \nz\n\" id=\"DejaVuSans-110\"/>\n     </defs>\n     <g transform=\"translate(202.697656 268.034687)scale(0.1 -0.1)\">\n      <use xlink:href=\"#DejaVuSans-73\"/>\n      <use x=\"29.492188\" xlink:href=\"#DejaVuSans-116\"/>\n      <use x=\"68.701172\" xlink:href=\"#DejaVuSans-101\"/>\n      <use x=\"130.224609\" xlink:href=\"#DejaVuSans-114\"/>\n      <use x=\"171.337891\" xlink:href=\"#DejaVuSans-97\"/>\n      <use x=\"232.617188\" xlink:href=\"#DejaVuSans-116\"/>\n      <use x=\"271.826172\" xlink:href=\"#DejaVuSans-105\"/>\n      <use x=\"299.609375\" xlink:href=\"#DejaVuSans-111\"/>\n      <use x=\"360.791016\" xlink:href=\"#DejaVuSans-110\"/>\n     </g>\n    </g>\n   </g>\n   <g id=\"matplotlib.axis_2\">\n    <g id=\"ytick_1\">\n     <g id=\"line2d_7\">\n      <defs>\n       <path d=\"M 0 0 \nL -3.5 0 \n\" id=\"mb55bbf3080\" style=\"stroke:#000000;stroke-width:0.8;\"/>\n      </defs>\n      <g>\n       <use style=\"stroke:#000000;stroke-width:0.8;\" x=\"56.50625\" xlink:href=\"#mb55bbf3080\" y=\"228.040374\"/>\n      </g>\n     </g>\n     <g id=\"text_8\">\n      <!-- 0.075 -->\n      <defs>\n       <path d=\"M 10.6875 12.40625 \nL 21 12.40625 \nL 21 0 \nL 10.6875 0 \nz\n\" id=\"DejaVuSans-46\"/>\n       <path d=\"M 8.203125 72.90625 \nL 55.078125 72.90625 \nL 55.078125 68.703125 \nL 28.609375 0 \nL 18.3125 0 \nL 43.21875 64.59375 \nL 8.203125 64.59375 \nz\n\" id=\"DejaVuSans-55\"/>\n      </defs>\n      <g transform=\"translate(20.878125 231.839593)scale(0.1 -0.1)\">\n       <use xlink:href=\"#DejaVuSans-48\"/>\n       <use x=\"63.623047\" xlink:href=\"#DejaVuSans-46\"/>\n       <use x=\"95.410156\" xlink:href=\"#DejaVuSans-48\"/>\n       <use x=\"159.033203\" xlink:href=\"#DejaVuSans-55\"/>\n       <use x=\"222.65625\" xlink:href=\"#DejaVuSans-53\"/>\n      </g>\n     </g>\n    </g>\n    <g id=\"ytick_2\">\n     <g id=\"line2d_8\">\n      <g>\n       <use style=\"stroke:#000000;stroke-width:0.8;\" x=\"56.50625\" xlink:href=\"#mb55bbf3080\" y=\"201.270984\"/>\n      </g>\n     </g>\n     <g id=\"text_9\">\n      <!-- 0.100 -->\n      <g transform=\"translate(20.878125 205.070202)scale(0.1 -0.1)\">\n       <use xlink:href=\"#DejaVuSans-48\"/>\n       <use x=\"63.623047\" xlink:href=\"#DejaVuSans-46\"/>\n       <use x=\"95.410156\" xlink:href=\"#DejaVuSans-49\"/>\n       <use x=\"159.033203\" xlink:href=\"#DejaVuSans-48\"/>\n       <use x=\"222.65625\" xlink:href=\"#DejaVuSans-48\"/>\n      </g>\n     </g>\n    </g>\n    <g id=\"ytick_3\">\n     <g id=\"line2d_9\">\n      <g>\n       <use style=\"stroke:#000000;stroke-width:0.8;\" x=\"56.50625\" xlink:href=\"#mb55bbf3080\" y=\"174.501593\"/>\n      </g>\n     </g>\n     <g id=\"text_10\">\n      <!-- 0.125 -->\n      <g transform=\"translate(20.878125 178.300811)scale(0.1 -0.1)\">\n       <use xlink:href=\"#DejaVuSans-48\"/>\n       <use x=\"63.623047\" xlink:href=\"#DejaVuSans-46\"/>\n       <use x=\"95.410156\" xlink:href=\"#DejaVuSans-49\"/>\n       <use x=\"159.033203\" xlink:href=\"#DejaVuSans-50\"/>\n       <use x=\"222.65625\" xlink:href=\"#DejaVuSans-53\"/>\n      </g>\n     </g>\n    </g>\n    <g id=\"ytick_4\">\n     <g id=\"line2d_10\">\n      <g>\n       <use style=\"stroke:#000000;stroke-width:0.8;\" x=\"56.50625\" xlink:href=\"#mb55bbf3080\" y=\"147.732202\"/>\n      </g>\n     </g>\n     <g id=\"text_11\">\n      <!-- 0.150 -->\n      <g transform=\"translate(20.878125 151.531421)scale(0.1 -0.1)\">\n       <use xlink:href=\"#DejaVuSans-48\"/>\n       <use x=\"63.623047\" xlink:href=\"#DejaVuSans-46\"/>\n       <use x=\"95.410156\" xlink:href=\"#DejaVuSans-49\"/>\n       <use x=\"159.033203\" xlink:href=\"#DejaVuSans-53\"/>\n       <use x=\"222.65625\" xlink:href=\"#DejaVuSans-48\"/>\n      </g>\n     </g>\n    </g>\n    <g id=\"ytick_5\">\n     <g id=\"line2d_11\">\n      <g>\n       <use style=\"stroke:#000000;stroke-width:0.8;\" x=\"56.50625\" xlink:href=\"#mb55bbf3080\" y=\"120.962811\"/>\n      </g>\n     </g>\n     <g id=\"text_12\">\n      <!-- 0.175 -->\n      <g transform=\"translate(20.878125 124.76203)scale(0.1 -0.1)\">\n       <use xlink:href=\"#DejaVuSans-48\"/>\n       <use x=\"63.623047\" xlink:href=\"#DejaVuSans-46\"/>\n       <use x=\"95.410156\" xlink:href=\"#DejaVuSans-49\"/>\n       <use x=\"159.033203\" xlink:href=\"#DejaVuSans-55\"/>\n       <use x=\"222.65625\" xlink:href=\"#DejaVuSans-53\"/>\n      </g>\n     </g>\n    </g>\n    <g id=\"ytick_6\">\n     <g id=\"line2d_12\">\n      <g>\n       <use style=\"stroke:#000000;stroke-width:0.8;\" x=\"56.50625\" xlink:href=\"#mb55bbf3080\" y=\"94.19342\"/>\n      </g>\n     </g>\n     <g id=\"text_13\">\n      <!-- 0.200 -->\n      <g transform=\"translate(20.878125 97.992639)scale(0.1 -0.1)\">\n       <use xlink:href=\"#DejaVuSans-48\"/>\n       <use x=\"63.623047\" xlink:href=\"#DejaVuSans-46\"/>\n       <use x=\"95.410156\" xlink:href=\"#DejaVuSans-50\"/>\n       <use x=\"159.033203\" xlink:href=\"#DejaVuSans-48\"/>\n       <use x=\"222.65625\" xlink:href=\"#DejaVuSans-48\"/>\n      </g>\n     </g>\n    </g>\n    <g id=\"ytick_7\">\n     <g id=\"line2d_13\">\n      <g>\n       <use style=\"stroke:#000000;stroke-width:0.8;\" x=\"56.50625\" xlink:href=\"#mb55bbf3080\" y=\"67.424029\"/>\n      </g>\n     </g>\n     <g id=\"text_14\">\n      <!-- 0.225 -->\n      <g transform=\"translate(20.878125 71.223248)scale(0.1 -0.1)\">\n       <use xlink:href=\"#DejaVuSans-48\"/>\n       <use x=\"63.623047\" xlink:href=\"#DejaVuSans-46\"/>\n       <use x=\"95.410156\" xlink:href=\"#DejaVuSans-50\"/>\n       <use x=\"159.033203\" xlink:href=\"#DejaVuSans-50\"/>\n       <use x=\"222.65625\" xlink:href=\"#DejaVuSans-53\"/>\n      </g>\n     </g>\n    </g>\n    <g id=\"ytick_8\">\n     <g id=\"line2d_14\">\n      <g>\n       <use style=\"stroke:#000000;stroke-width:0.8;\" x=\"56.50625\" xlink:href=\"#mb55bbf3080\" y=\"40.654639\"/>\n      </g>\n     </g>\n     <g id=\"text_15\">\n      <!-- 0.250 -->\n      <g transform=\"translate(20.878125 44.453857)scale(0.1 -0.1)\">\n       <use xlink:href=\"#DejaVuSans-48\"/>\n       <use x=\"63.623047\" xlink:href=\"#DejaVuSans-46\"/>\n       <use x=\"95.410156\" xlink:href=\"#DejaVuSans-50\"/>\n       <use x=\"159.033203\" xlink:href=\"#DejaVuSans-53\"/>\n       <use x=\"222.65625\" xlink:href=\"#DejaVuSans-48\"/>\n      </g>\n     </g>\n    </g>\n    <g id=\"text_16\">\n     <!-- Objective function -->\n     <defs>\n      <path d=\"M 39.40625 66.21875 \nQ 28.65625 66.21875 22.328125 58.203125 \nQ 16.015625 50.203125 16.015625 36.375 \nQ 16.015625 22.609375 22.328125 14.59375 \nQ 28.65625 6.59375 39.40625 6.59375 \nQ 50.140625 6.59375 56.421875 14.59375 \nQ 62.703125 22.609375 62.703125 36.375 \nQ 62.703125 50.203125 56.421875 58.203125 \nQ 50.140625 66.21875 39.40625 66.21875 \nz\nM 39.40625 74.21875 \nQ 54.734375 74.21875 63.90625 63.9375 \nQ 73.09375 53.65625 73.09375 36.375 \nQ 73.09375 19.140625 63.90625 8.859375 \nQ 54.734375 -1.421875 39.40625 -1.421875 \nQ 24.03125 -1.421875 14.8125 8.828125 \nQ 5.609375 19.09375 5.609375 36.375 \nQ 5.609375 53.65625 14.8125 63.9375 \nQ 24.03125 74.21875 39.40625 74.21875 \nz\n\" id=\"DejaVuSans-79\"/>\n      <path d=\"M 48.6875 27.296875 \nQ 48.6875 37.203125 44.609375 42.84375 \nQ 40.53125 48.484375 33.40625 48.484375 \nQ 26.265625 48.484375 22.1875 42.84375 \nQ 18.109375 37.203125 18.109375 27.296875 \nQ 18.109375 17.390625 22.1875 11.75 \nQ 26.265625 6.109375 33.40625 6.109375 \nQ 40.53125 6.109375 44.609375 11.75 \nQ 48.6875 17.390625 48.6875 27.296875 \nz\nM 18.109375 46.390625 \nQ 20.953125 51.265625 25.265625 53.625 \nQ 29.59375 56 35.59375 56 \nQ 45.5625 56 51.78125 48.09375 \nQ 58.015625 40.1875 58.015625 27.296875 \nQ 58.015625 14.40625 51.78125 6.484375 \nQ 45.5625 -1.421875 35.59375 -1.421875 \nQ 29.59375 -1.421875 25.265625 0.953125 \nQ 20.953125 3.328125 18.109375 8.203125 \nL 18.109375 0 \nL 9.078125 0 \nL 9.078125 75.984375 \nL 18.109375 75.984375 \nz\n\" id=\"DejaVuSans-98\"/>\n      <path d=\"M 9.421875 54.6875 \nL 18.40625 54.6875 \nL 18.40625 -0.984375 \nQ 18.40625 -11.421875 14.421875 -16.109375 \nQ 10.453125 -20.796875 1.609375 -20.796875 \nL -1.8125 -20.796875 \nL -1.8125 -13.1875 \nL 0.59375 -13.1875 \nQ 5.71875 -13.1875 7.5625 -10.8125 \nQ 9.421875 -8.453125 9.421875 -0.984375 \nz\nM 9.421875 75.984375 \nL 18.40625 75.984375 \nL 18.40625 64.59375 \nL 9.421875 64.59375 \nz\n\" id=\"DejaVuSans-106\"/>\n      <path d=\"M 48.78125 52.59375 \nL 48.78125 44.1875 \nQ 44.96875 46.296875 41.140625 47.34375 \nQ 37.3125 48.390625 33.40625 48.390625 \nQ 24.65625 48.390625 19.8125 42.84375 \nQ 14.984375 37.3125 14.984375 27.296875 \nQ 14.984375 17.28125 19.8125 11.734375 \nQ 24.65625 6.203125 33.40625 6.203125 \nQ 37.3125 6.203125 41.140625 7.25 \nQ 44.96875 8.296875 48.78125 10.40625 \nL 48.78125 2.09375 \nQ 45.015625 0.34375 40.984375 -0.53125 \nQ 36.96875 -1.421875 32.421875 -1.421875 \nQ 20.0625 -1.421875 12.78125 6.34375 \nQ 5.515625 14.109375 5.515625 27.296875 \nQ 5.515625 40.671875 12.859375 48.328125 \nQ 20.21875 56 33.015625 56 \nQ 37.15625 56 41.109375 55.140625 \nQ 45.0625 54.296875 48.78125 52.59375 \nz\n\" id=\"DejaVuSans-99\"/>\n      <path d=\"M 2.984375 54.6875 \nL 12.5 54.6875 \nL 29.59375 8.796875 \nL 46.6875 54.6875 \nL 56.203125 54.6875 \nL 35.6875 0 \nL 23.484375 0 \nz\n\" id=\"DejaVuSans-118\"/>\n      <path id=\"DejaVuSans-32\"/>\n      <path d=\"M 37.109375 75.984375 \nL 37.109375 68.5 \nL 28.515625 68.5 \nQ 23.6875 68.5 21.796875 66.546875 \nQ 19.921875 64.59375 19.921875 59.515625 \nL 19.921875 54.6875 \nL 34.71875 54.6875 \nL 34.71875 47.703125 \nL 19.921875 47.703125 \nL 19.921875 0 \nL 10.890625 0 \nL 10.890625 47.703125 \nL 2.296875 47.703125 \nL 2.296875 54.6875 \nL 10.890625 54.6875 \nL 10.890625 58.5 \nQ 10.890625 67.625 15.140625 71.796875 \nQ 19.390625 75.984375 28.609375 75.984375 \nz\n\" id=\"DejaVuSans-102\"/>\n      <path d=\"M 8.5 21.578125 \nL 8.5 54.6875 \nL 17.484375 54.6875 \nL 17.484375 21.921875 \nQ 17.484375 14.15625 20.5 10.265625 \nQ 23.53125 6.390625 29.59375 6.390625 \nQ 36.859375 6.390625 41.078125 11.03125 \nQ 45.3125 15.671875 45.3125 23.6875 \nL 45.3125 54.6875 \nL 54.296875 54.6875 \nL 54.296875 0 \nL 45.3125 0 \nL 45.3125 8.40625 \nQ 42.046875 3.421875 37.71875 1 \nQ 33.40625 -1.421875 27.6875 -1.421875 \nQ 18.265625 -1.421875 13.375 4.4375 \nQ 8.5 10.296875 8.5 21.578125 \nz\nM 31.109375 56 \nz\n\" id=\"DejaVuSans-117\"/>\n     </defs>\n     <g transform=\"translate(14.798438 176.761562)rotate(-90)scale(0.1 -0.1)\">\n      <use xlink:href=\"#DejaVuSans-79\"/>\n      <use x=\"78.710938\" xlink:href=\"#DejaVuSans-98\"/>\n      <use x=\"142.1875\" xlink:href=\"#DejaVuSans-106\"/>\n      <use x=\"169.970703\" xlink:href=\"#DejaVuSans-101\"/>\n      <use x=\"231.494141\" xlink:href=\"#DejaVuSans-99\"/>\n      <use x=\"286.474609\" xlink:href=\"#DejaVuSans-116\"/>\n      <use x=\"325.683594\" xlink:href=\"#DejaVuSans-105\"/>\n      <use x=\"353.466797\" xlink:href=\"#DejaVuSans-118\"/>\n      <use x=\"412.646484\" xlink:href=\"#DejaVuSans-101\"/>\n      <use x=\"474.169922\" xlink:href=\"#DejaVuSans-32\"/>\n      <use x=\"505.957031\" xlink:href=\"#DejaVuSans-102\"/>\n      <use x=\"541.162109\" xlink:href=\"#DejaVuSans-117\"/>\n      <use x=\"604.541016\" xlink:href=\"#DejaVuSans-110\"/>\n      <use x=\"667.919922\" xlink:href=\"#DejaVuSans-99\"/>\n      <use x=\"722.900391\" xlink:href=\"#DejaVuSans-116\"/>\n      <use x=\"762.109375\" xlink:href=\"#DejaVuSans-105\"/>\n      <use x=\"789.892578\" xlink:href=\"#DejaVuSans-111\"/>\n      <use x=\"851.074219\" xlink:href=\"#DejaVuSans-110\"/>\n     </g>\n    </g>\n   </g>\n   <g id=\"line2d_15\">\n    <path clip-path=\"url(#p168267dd5a)\" d=\"M 71.724432 32.201761 \nL 83.898977 83.40253 \nL 96.073523 93.45267 \nL 108.248068 148.377461 \nL 120.422614 148.377461 \nL 132.597159 156.963166 \nL 144.771705 165.784573 \nL 156.94625 168.837194 \nL 169.120795 168.837194 \nL 181.295341 170.249133 \nL 193.469886 170.249133 \nL 205.644432 171.579076 \nL 217.818977 171.579076 \nL 229.993523 171.579076 \nL 242.168068 184.509071 \nL 254.342614 187.987104 \nL 266.517159 191.909763 \nL 278.691705 205.066533 \nL 290.86625 205.891488 \nL 303.040795 211.837882 \nL 315.215341 214.574167 \nL 327.389886 216.501987 \nL 339.564432 225.910831 \nL 351.738977 227.138657 \nL 363.913523 227.138657 \nL 376.088068 229.874489 \n\" style=\"fill:none;stroke:#1f77b4;stroke-linecap:square;stroke-width:1.5;\"/>\n   </g>\n   <g id=\"patch_3\">\n    <path d=\"M 56.50625 239.758125 \nL 56.50625 22.318125 \n\" style=\"fill:none;stroke:#000000;stroke-linecap:square;stroke-linejoin:miter;stroke-width:0.8;\"/>\n   </g>\n   <g id=\"patch_4\">\n    <path d=\"M 391.30625 239.758125 \nL 391.30625 22.318125 \n\" style=\"fill:none;stroke:#000000;stroke-linecap:square;stroke-linejoin:miter;stroke-width:0.8;\"/>\n   </g>\n   <g id=\"patch_5\">\n    <path d=\"M 56.50625 239.758125 \nL 391.30625 239.758125 \n\" style=\"fill:none;stroke:#000000;stroke-linecap:square;stroke-linejoin:miter;stroke-width:0.8;\"/>\n   </g>\n   <g id=\"patch_6\">\n    <path d=\"M 56.50625 22.318125 \nL 391.30625 22.318125 \n\" style=\"fill:none;stroke:#000000;stroke-linecap:square;stroke-linejoin:miter;stroke-width:0.8;\"/>\n   </g>\n   <g id=\"text_17\">\n    <!-- Genetic Algorithm -->\n    <defs>\n     <path d=\"M 59.515625 10.40625 \nL 59.515625 29.984375 \nL 43.40625 29.984375 \nL 43.40625 38.09375 \nL 69.28125 38.09375 \nL 69.28125 6.78125 \nQ 63.578125 2.734375 56.6875 0.65625 \nQ 49.8125 -1.421875 42 -1.421875 \nQ 24.90625 -1.421875 15.25 8.5625 \nQ 5.609375 18.5625 5.609375 36.375 \nQ 5.609375 54.25 15.25 64.234375 \nQ 24.90625 74.21875 42 74.21875 \nQ 49.125 74.21875 55.546875 72.453125 \nQ 61.96875 70.703125 67.390625 67.28125 \nL 67.390625 56.78125 \nQ 61.921875 61.421875 55.765625 63.765625 \nQ 49.609375 66.109375 42.828125 66.109375 \nQ 29.4375 66.109375 22.71875 58.640625 \nQ 16.015625 51.171875 16.015625 36.375 \nQ 16.015625 21.625 22.71875 14.15625 \nQ 29.4375 6.6875 42.828125 6.6875 \nQ 48.046875 6.6875 52.140625 7.59375 \nQ 56.25 8.5 59.515625 10.40625 \nz\n\" id=\"DejaVuSans-71\"/>\n     <path d=\"M 34.1875 63.1875 \nL 20.796875 26.90625 \nL 47.609375 26.90625 \nz\nM 28.609375 72.90625 \nL 39.796875 72.90625 \nL 67.578125 0 \nL 57.328125 0 \nL 50.6875 18.703125 \nL 17.828125 18.703125 \nL 11.1875 0 \nL 0.78125 0 \nz\n\" id=\"DejaVuSans-65\"/>\n     <path d=\"M 9.421875 75.984375 \nL 18.40625 75.984375 \nL 18.40625 0 \nL 9.421875 0 \nz\n\" id=\"DejaVuSans-108\"/>\n     <path d=\"M 45.40625 27.984375 \nQ 45.40625 37.75 41.375 43.109375 \nQ 37.359375 48.484375 30.078125 48.484375 \nQ 22.859375 48.484375 18.828125 43.109375 \nQ 14.796875 37.75 14.796875 27.984375 \nQ 14.796875 18.265625 18.828125 12.890625 \nQ 22.859375 7.515625 30.078125 7.515625 \nQ 37.359375 7.515625 41.375 12.890625 \nQ 45.40625 18.265625 45.40625 27.984375 \nz\nM 54.390625 6.78125 \nQ 54.390625 -7.171875 48.1875 -13.984375 \nQ 42 -20.796875 29.203125 -20.796875 \nQ 24.46875 -20.796875 20.265625 -20.09375 \nQ 16.0625 -19.390625 12.109375 -17.921875 \nL 12.109375 -9.1875 \nQ 16.0625 -11.328125 19.921875 -12.34375 \nQ 23.78125 -13.375 27.78125 -13.375 \nQ 36.625 -13.375 41.015625 -8.765625 \nQ 45.40625 -4.15625 45.40625 5.171875 \nL 45.40625 9.625 \nQ 42.625 4.78125 38.28125 2.390625 \nQ 33.9375 0 27.875 0 \nQ 17.828125 0 11.671875 7.65625 \nQ 5.515625 15.328125 5.515625 27.984375 \nQ 5.515625 40.671875 11.671875 48.328125 \nQ 17.828125 56 27.875 56 \nQ 33.9375 56 38.28125 53.609375 \nQ 42.625 51.21875 45.40625 46.390625 \nL 45.40625 54.6875 \nL 54.390625 54.6875 \nz\n\" id=\"DejaVuSans-103\"/>\n     <path d=\"M 54.890625 33.015625 \nL 54.890625 0 \nL 45.90625 0 \nL 45.90625 32.71875 \nQ 45.90625 40.484375 42.875 44.328125 \nQ 39.84375 48.1875 33.796875 48.1875 \nQ 26.515625 48.1875 22.3125 43.546875 \nQ 18.109375 38.921875 18.109375 30.90625 \nL 18.109375 0 \nL 9.078125 0 \nL 9.078125 75.984375 \nL 18.109375 75.984375 \nL 18.109375 46.1875 \nQ 21.34375 51.125 25.703125 53.5625 \nQ 30.078125 56 35.796875 56 \nQ 45.21875 56 50.046875 50.171875 \nQ 54.890625 44.34375 54.890625 33.015625 \nz\n\" id=\"DejaVuSans-104\"/>\n     <path d=\"M 52 44.1875 \nQ 55.375 50.25 60.0625 53.125 \nQ 64.75 56 71.09375 56 \nQ 79.640625 56 84.28125 50.015625 \nQ 88.921875 44.046875 88.921875 33.015625 \nL 88.921875 0 \nL 79.890625 0 \nL 79.890625 32.71875 \nQ 79.890625 40.578125 77.09375 44.375 \nQ 74.3125 48.1875 68.609375 48.1875 \nQ 61.625 48.1875 57.5625 43.546875 \nQ 53.515625 38.921875 53.515625 30.90625 \nL 53.515625 0 \nL 44.484375 0 \nL 44.484375 32.71875 \nQ 44.484375 40.625 41.703125 44.40625 \nQ 38.921875 48.1875 33.109375 48.1875 \nQ 26.21875 48.1875 22.15625 43.53125 \nQ 18.109375 38.875 18.109375 30.90625 \nL 18.109375 0 \nL 9.078125 0 \nL 9.078125 54.6875 \nL 18.109375 54.6875 \nL 18.109375 46.1875 \nQ 21.1875 51.21875 25.484375 53.609375 \nQ 29.78125 56 35.6875 56 \nQ 41.65625 56 45.828125 52.96875 \nQ 50 49.953125 52 44.1875 \nz\n\" id=\"DejaVuSans-109\"/>\n    </defs>\n    <g transform=\"translate(169.461875 16.318125)scale(0.12 -0.12)\">\n     <use xlink:href=\"#DejaVuSans-71\"/>\n     <use x=\"77.490234\" xlink:href=\"#DejaVuSans-101\"/>\n     <use x=\"139.013672\" xlink:href=\"#DejaVuSans-110\"/>\n     <use x=\"202.392578\" xlink:href=\"#DejaVuSans-101\"/>\n     <use x=\"263.916016\" xlink:href=\"#DejaVuSans-116\"/>\n     <use x=\"303.125\" xlink:href=\"#DejaVuSans-105\"/>\n     <use x=\"330.908203\" xlink:href=\"#DejaVuSans-99\"/>\n     <use x=\"385.888672\" xlink:href=\"#DejaVuSans-32\"/>\n     <use x=\"417.675781\" xlink:href=\"#DejaVuSans-65\"/>\n     <use x=\"486.083984\" xlink:href=\"#DejaVuSans-108\"/>\n     <use x=\"513.867188\" xlink:href=\"#DejaVuSans-103\"/>\n     <use x=\"577.34375\" xlink:href=\"#DejaVuSans-111\"/>\n     <use x=\"638.525391\" xlink:href=\"#DejaVuSans-114\"/>\n     <use x=\"679.638672\" xlink:href=\"#DejaVuSans-105\"/>\n     <use x=\"707.421875\" xlink:href=\"#DejaVuSans-116\"/>\n     <use x=\"746.630859\" xlink:href=\"#DejaVuSans-104\"/>\n     <use x=\"810.009766\" xlink:href=\"#DejaVuSans-109\"/>\n    </g>\n   </g>\n  </g>\n </g>\n <defs>\n  <clipPath id=\"p168267dd5a\">\n   <rect height=\"217.44\" width=\"334.8\" x=\"56.50625\" y=\"22.318125\"/>\n  </clipPath>\n </defs>\n</svg>\n",
      "image/png": "[encoded data removed]"
     },
     "metadata": {
      "needs_background": "light"
     }
    }
   ],
   "source": [
    "import numpy as np\n",
    "from geneticalgorithm import geneticalgorithm as ga\n",
    "\n",
    "algorithm_param = {\n",
    "    'max_num_iteration': 25,\\\n",
    "    'population_size':5,\\\n",
    "    'mutation_probability':0.1,\\\n",
    "    'elit_ratio': 0.01,\\\n",
    "    'crossover_probability': 0.5,\\\n",
    "    'parents_portion': 0.3,\\\n",
    "    'crossover_type':'uniform',\\\n",
    "    'max_iteration_without_improv':None\n",
    "}\n",
    "\n",
    "dimension = n_noun_params*n_nouns + n_amb_params*n_amb_verbs\n",
    "varbound=np.array([[0,1]]*dimension)\n",
    "\n",
    "model=ga(function=loss,dimension=dimension, variable_type='real',variable_boundaries=varbound, algorithm_parameters=algorithm_param, function_timeout=100)\n",
    "\n",
    "model.run()"
   ]
  },
  {
   "cell_type": "markdown",
   "metadata": {},
   "source": [
    "### Display results after GA"
   ]
  },
  {
   "cell_type": "code",
   "execution_count": 14,
   "metadata": {},
   "outputs": [
    {
     "output_type": "stream",
     "name": "stdout",
     "text": [
      "{'declaration': [0.5470307710157393, 0.9352527699612128], 'shank': [0.9460925559063206, 0.09341257973238881], 'tooth': [0.8157985295485471, 0.08191832074901118], 'lawsuit': [0.5911071485750954, 0.06450676180696047], 'charge_n': [0.7049842617000602, 0.8713073883352365], 'steel': [0.9061931697487693, 0.18918437779227226], 'nail': [0.020056127192070505, 0.22874835225443246], 'account': [0.3281898178326468, 0.5590172957317825], 'application': [0.44741549082553034, 0.7041846154785845]}\n\n\n{'file': [0.32844743880886385]}\n"
     ]
    }
   ],
   "source": [
    "best_params_nouns, best_params_amb_verbs = reshape_data(model.best_variable)\n",
    "print(best_params_nouns)\n",
    "print(\"\\n\")\n",
    "print(best_params_amb_verbs)"
   ]
  },
  {
   "cell_type": "code",
   "execution_count": 15,
   "metadata": {},
   "outputs": [
    {
     "output_type": "stream",
     "name": "stdout",
     "text": [
      "Tensor(dom=Dim(1), cod=Dim(2), array=[0.51323363+0.j    , 0.    -0.85824894j])\n"
     ]
    }
   ],
   "source": [
    "# Wave function of \"file\"\n",
    "print(amb_verb_ansatz(best_params_amb_verbs['file']).eval())"
   ]
  },
  {
   "cell_type": "code",
   "execution_count": 16,
   "metadata": {},
   "outputs": [],
   "source": [
    "def loss2(params_np, sentences=sentences, plausability=plausability):\n",
    "\n",
    "    # convert back to dict\n",
    "    params_nouns, params_amb_verbs = reshape_data(params_np)\n",
    "\n",
    "    return  {sentences[i]:(plausability[i], round(scalar,4))\n",
    "        for i, scalar in enumerate(evaluate(params_nouns, params_unamb_verbs, params_amb_verbs, sentences))}"
   ]
  },
  {
   "cell_type": "code",
   "execution_count": 17,
   "metadata": {},
   "outputs": [
    {
     "output_type": "execute_result",
     "data": {
      "text/plain": [
       "{'file account.': (1, 0.9609),\n",
       " 'register account.': (1, 0.7168),\n",
       " 'smooth account.': (0, 0.2871),\n",
       " 'file nail.': (1, 0.2988),\n",
       " 'register nail.': (0, 0.002),\n",
       " 'smooth nail.': (1, 0.9688),\n",
       " 'file charge_n.': (1, 0.8301),\n",
       " 'register charge_n.': (1, 0.6367),\n",
       " 'smooth charge_n.': (0, 0.3613),\n",
       " 'file tooth.': (1, 0.7578),\n",
       " 'register tooth.': (0, 0.3203),\n",
       " 'smooth tooth.': (1, 0.709),\n",
       " 'file application.': (1, 0.8223),\n",
       " 'register application.': (1, 0.9648),\n",
       " 'smooth application.': (0, 0.0273),\n",
       " 'file steel.': (1, 0.3672),\n",
       " 'register steel.': (0, 0.0957),\n",
       " 'smooth steel.': (1, 0.8691),\n",
       " 'file lawsuit.': (1, 0.9746),\n",
       " 'register lawsuit.': (1, 0.9277),\n",
       " 'smooth lawsuit.': (0, 0.0703),\n",
       " 'file shank.': (1, 0.3926),\n",
       " 'register shank.': (0, 0.0176),\n",
       " 'smooth shank.': (1, 0.9688),\n",
       " 'file declaration.': (1, 0.8574),\n",
       " 'register declaration.': (1, 1.0137),\n",
       " 'smooth declaration.': (0, 0.0234)}"
      ]
     },
     "metadata": {},
     "execution_count": 17
    }
   ],
   "source": [
    "# Output computed values vs. true values\n",
    "loss2(model.best_variable)"
   ]
  },
  {
   "cell_type": "markdown",
   "metadata": {},
   "source": [
    "## Finetune with noisyopt"
   ]
  },
  {
   "cell_type": "code",
   "execution_count": 18,
   "metadata": {
    "tags": []
   },
   "outputs": [
    {
     "output_type": "stream",
     "name": "stdout",
     "text": [
      "Start loss:  inf\n",
      "Epoch 1 (5 seconds since start): 0.08209934941044558\n",
      "Epoch 2 (9 seconds since start): 0.05937152438693573\n",
      "Epoch 3 (14 seconds since start): 0.059968453866464086\n",
      "Epoch 4 (19 seconds since start): 0.05593956841362845\n",
      "Epoch 5 (23 seconds since start): 0.0545398570873119\n",
      "Epoch 6 (28 seconds since start): 0.057069425229673\n",
      "Epoch 7 (33 seconds since start): 0.05131177549008967\n",
      "Epoch 8 (37 seconds since start): 0.054593121563946724\n",
      "Epoch 9 (42 seconds since start): 0.05204391479492184\n",
      "Epoch 10 (47 seconds since start): 0.04867949309172451\n",
      "Epoch 11 (52 seconds since start): 0.04879294501410587\n",
      "Epoch 12 (57 seconds since start): 0.046240206117983185\n",
      "Epoch 13 (62 seconds since start): 0.04468324449327254\n",
      "Epoch 14 (66 seconds since start): 0.04901772958260992\n",
      "Epoch 15 (71 seconds since start): 0.04867370040328411\n",
      "Epoch 16 (76 seconds since start): 0.044357017234519645\n",
      "Epoch 17 (81 seconds since start): 0.04258007473415795\n",
      "Epoch 18 (86 seconds since start): 0.04576944421838828\n",
      "Epoch 19 (90 seconds since start): 0.045561190004701935\n",
      "Epoch 20 (95 seconds since start): 0.04392200046115448\n",
      "Epoch 21 (99 seconds since start): 0.04753663804796004\n",
      "Epoch 22 (104 seconds since start): 0.04082277086046004\n",
      "Epoch 23 (109 seconds since start): 0.042726446081090816\n",
      "Epoch 24 (114 seconds since start): 0.04265764024522566\n",
      "Epoch 25 (119 seconds since start): 0.04129720617223666\n",
      "Epoch 26 (123 seconds since start): 0.0425207349989149\n",
      "Epoch 27 (128 seconds since start): 0.03880691528320309\n",
      "Epoch 28 (132 seconds since start): 0.03559056034794556\n",
      "Epoch 29 (138 seconds since start): 0.03877272429289637\n",
      "Epoch 30 (142 seconds since start): 0.03765374642831305\n",
      "Epoch 31 (147 seconds since start): 0.04007494891131363\n",
      "Epoch 32 (152 seconds since start): 0.04098058629918978\n",
      "Epoch 33 (156 seconds since start): 0.038810447410300895\n",
      "Epoch 34 (161 seconds since start): 0.0340850264937789\n",
      "Epoch 35 (166 seconds since start): 0.03580870451750574\n",
      "Epoch 36 (171 seconds since start): 0.033259780318648687\n",
      "Epoch 37 (176 seconds since start): 0.035130253544560154\n",
      "Epoch 38 (180 seconds since start): 0.03773795233832461\n",
      "Epoch 39 (185 seconds since start): 0.039634422019675895\n",
      "Epoch 40 (190 seconds since start): 0.03490264327437785\n",
      "Epoch 41 (195 seconds since start): 0.03489317717375574\n",
      "Epoch 42 (199 seconds since start): 0.036081667299623796\n",
      "Epoch 43 (204 seconds since start): 0.03821507206669556\n",
      "Epoch 44 (209 seconds since start): 0.03540816130461512\n",
      "Epoch 45 (213 seconds since start): 0.037085497820818825\n",
      "Epoch 46 (218 seconds since start): 0.034430327238859915\n",
      "Epoch 47 (223 seconds since start): 0.03413490012839984\n",
      "Epoch 48 (227 seconds since start): 0.03594914189091431\n",
      "Epoch 49 (233 seconds since start): 0.03267853348343457\n",
      "Epoch 50 (237 seconds since start): 0.03080452813042531\n",
      "Epoch 51 (242 seconds since start): 0.03405987774884255\n",
      "Epoch 52 (247 seconds since start): 0.031449777108651586\n",
      "Epoch 53 (252 seconds since start): 0.03362090499312785\n",
      "Epoch 54 (256 seconds since start): 0.03863949245876732\n",
      "Epoch 55 (261 seconds since start): 0.03326839870876731\n",
      "Epoch 56 (266 seconds since start): 0.03375427811234082\n",
      "Epoch 57 (271 seconds since start): 0.03423789695457172\n",
      "Epoch 58 (276 seconds since start): 0.0329722651728877\n",
      "Epoch 59 (281 seconds since start): 0.03272868968822334\n",
      "Epoch 60 (285 seconds since start): 0.03535602710865157\n",
      "Epoch 61 (290 seconds since start): 0.034842314543547415\n",
      "Epoch 62 (295 seconds since start): 0.03060941342954279\n",
      "Epoch 63 (300 seconds since start): 0.03643050017180262\n",
      "Epoch 64 (304 seconds since start): 0.033090379503038156\n",
      "Epoch 65 (310 seconds since start): 0.03601780644169556\n",
      "Epoch 66 (314 seconds since start): 0.03329538415979452\n",
      "Epoch 67 (319 seconds since start): 0.031967163085937465\n",
      "Epoch 68 (324 seconds since start): 0.032352447509765576\n",
      "Epoch 69 (329 seconds since start): 0.03400703712745945\n",
      "Epoch 70 (334 seconds since start): 0.031155480278862814\n",
      "Epoch 71 (338 seconds since start): 0.030174679226345445\n",
      "Epoch 72 (344 seconds since start): 0.02931764390733503\n",
      "Epoch 73 (349 seconds since start): 0.032202967890986645\n",
      "Epoch 74 (354 seconds since start): 0.03359010484483503\n",
      "Epoch 75 (358 seconds since start): 0.030963473849826353\n",
      "Epoch 76 (363 seconds since start): 0.0304746274594907\n",
      "Epoch 77 (368 seconds since start): 0.029016424108434566\n",
      "Epoch 78 (373 seconds since start): 0.03240754869249128\n",
      "Epoch 79 (378 seconds since start): 0.03179860998083041\n",
      "Epoch 80 (383 seconds since start): 0.03182149816442415\n",
      "Epoch 81 (387 seconds since start): 0.030184286612051463\n",
      "Epoch 82 (392 seconds since start): 0.02981242427119499\n",
      "Epoch 83 (397 seconds since start): 0.02990666142216431\n",
      "Epoch 84 (401 seconds since start): 0.030759882043909108\n",
      "Epoch 85 (406 seconds since start): 0.03296915690104162\n",
      "Epoch 86 (411 seconds since start): 0.033244521529586187\n",
      "Epoch 87 (416 seconds since start): 0.030360186541521957\n",
      "Epoch 88 (420 seconds since start): 0.02940312138310181\n",
      "Epoch 89 (425 seconds since start): 0.028264787462022527\n",
      "Epoch 90 (430 seconds since start): 0.029261412443938036\n",
      "Epoch 91 (435 seconds since start): 0.028789661548755743\n",
      "Epoch 92 (440 seconds since start): 0.027278052435980863\n",
      "Epoch 93 (445 seconds since start): 0.030255353009259228\n",
      "Epoch 94 (449 seconds since start): 0.03591862431278931\n",
      "Epoch 95 (454 seconds since start): 0.031042310926649264\n",
      "Epoch 96 (459 seconds since start): 0.029028574625651008\n",
      "Epoch 97 (464 seconds since start): 0.03282137270326963\n",
      "Epoch 98 (469 seconds since start): 0.03320185343424475\n",
      "Epoch 99 (474 seconds since start): 0.02875335128219036\n",
      "Epoch 100 (478 seconds since start): 0.030958246301721597\n",
      "Epoch 101 (483 seconds since start): 0.031485946090133055\n",
      "Epoch 102 (488 seconds since start): 0.031066329390914315\n",
      "Epoch 103 (492 seconds since start): 0.029939015706380172\n",
      "Epoch 104 (497 seconds since start): 0.030838295265480282\n",
      "Epoch 105 (502 seconds since start): 0.027331175627531786\n",
      "Epoch 106 (507 seconds since start): 0.03198341087058734\n",
      "Epoch 107 (512 seconds since start): 0.028505537245008646\n",
      "Epoch 108 (517 seconds since start): 0.029769191035517898\n",
      "Epoch 109 (522 seconds since start): 0.029084664803964082\n",
      "Epoch 110 (526 seconds since start): 0.029546808313440347\n",
      "Epoch 111 (531 seconds since start): 0.029499477810329817\n",
      "Epoch 112 (536 seconds since start): 0.030672709147135376\n",
      "Epoch 113 (541 seconds since start): 0.031409087004484915\n",
      "Epoch 114 (546 seconds since start): 0.027548330801504598\n",
      "Epoch 115 (551 seconds since start): 0.028936456750940358\n",
      "Epoch 116 (556 seconds since start): 0.029439431649667204\n",
      "Epoch 117 (560 seconds since start): 0.031108432345920093\n",
      "Epoch 118 (565 seconds since start): 0.02949481540256072\n",
      "Epoch 119 (570 seconds since start): 0.027934886791087927\n",
      "Epoch 120 (575 seconds since start): 0.030296184398509802\n",
      "Epoch 121 (579 seconds since start): 0.026106657805266168\n",
      "Epoch 122 (584 seconds since start): 0.029871198866102386\n",
      "Epoch 123 (589 seconds since start): 0.03114530775282114\n",
      "Epoch 124 (594 seconds since start): 0.027939690483940932\n",
      "Epoch 125 (599 seconds since start): 0.027038291648582135\n",
      "Epoch 126 (603 seconds since start): 0.03159049705222797\n",
      "Epoch 127 (608 seconds since start): 0.027154004132306096\n",
      "Epoch 128 (614 seconds since start): 0.028196688051576928\n",
      "Epoch 129 (618 seconds since start): 0.02628651371708619\n",
      "Epoch 130 (623 seconds since start): 0.02562996193214695\n",
      "Epoch 131 (629 seconds since start): 0.02614310935691547\n",
      "Epoch 132 (635 seconds since start): 0.029494674117476808\n",
      "Epoch 133 (642 seconds since start): 0.025912108244719293\n",
      "Epoch 134 (649 seconds since start): 0.02530161539713538\n",
      "Epoch 135 (655 seconds since start): 0.03165252120406535\n",
      "Epoch 136 (660 seconds since start): 0.02886171694155088\n",
      "Epoch 137 (665 seconds since start): 0.0285544218840422\n",
      "Epoch 138 (672 seconds since start): 0.029047789397063043\n",
      "Epoch 139 (676 seconds since start): 0.028391661467375536\n",
      "Epoch 140 (681 seconds since start): 0.029014869972511532\n",
      "Epoch 141 (686 seconds since start): 0.029490294279875536\n",
      "Epoch 142 (691 seconds since start): 0.027309135154441513\n",
      "Epoch 143 (696 seconds since start): 0.02750368471498839\n",
      "Epoch 144 (701 seconds since start): 0.03033390751591431\n",
      "Epoch 145 (705 seconds since start): 0.023276152434172418\n",
      "Epoch 146 (711 seconds since start): 0.026496039496527738\n",
      "Epoch 147 (716 seconds since start): 0.027121225992838505\n",
      "Epoch 148 (721 seconds since start): 0.02472616125036165\n",
      "Epoch 149 (727 seconds since start): 0.02576418276186339\n",
      "Epoch 150 (732 seconds since start): 0.027368474889684562\n",
      "Epoch 151 (736 seconds since start): 0.027815500895182258\n",
      "Epoch 152 (742 seconds since start): 0.029142732973451928\n",
      "Epoch 153 (747 seconds since start): 0.027543668393735486\n",
      "Epoch 154 (753 seconds since start): 0.027418207239221608\n",
      "Epoch 155 (759 seconds since start): 0.026517938684534108\n",
      "Epoch 156 (765 seconds since start): 0.027214474148220442\n",
      "Epoch 157 (770 seconds since start): 0.02986752545392068\n",
      "Epoch 158 (775 seconds since start): 0.029747856987847182\n",
      "Epoch 159 (780 seconds since start): 0.027199074074074032\n",
      "Epoch 160 (786 seconds since start): 0.02610764680085355\n",
      "Epoch 161 (792 seconds since start): 0.030872344970703087\n",
      "Epoch 162 (797 seconds since start): 0.028391237612123803\n",
      "Epoch 163 (802 seconds since start): 0.028130707917390006\n",
      "Epoch 164 (807 seconds since start): 0.0262302822536892\n",
      "Epoch 165 (813 seconds since start): 0.024799912064163734\n",
      "Epoch 166 (819 seconds since start): 0.029965436017071717\n",
      "Epoch 167 (824 seconds since start): 0.03128913596824359\n",
      "Epoch 168 (829 seconds since start): 0.027614169650607603\n",
      "Epoch 169 (835 seconds since start): 0.02446704440646698\n",
      "Epoch 170 (840 seconds since start): 0.027138745343243592\n",
      "Epoch 171 (845 seconds since start): 0.02982429221824359\n",
      "Epoch 172 (850 seconds since start): 0.026422712537977393\n",
      "Epoch 173 (856 seconds since start): 0.025101979573567666\n",
      "Epoch 174 (862 seconds since start): 0.024947554976851815\n",
      "Epoch 175 (866 seconds since start): 0.02662008780020251\n",
      "Epoch 176 (871 seconds since start): 0.028294174759476237\n",
      "Epoch 177 (876 seconds since start): 0.024280689380786997\n",
      "Epoch 178 (881 seconds since start): 0.026526980929904468\n",
      "Epoch 179 (886 seconds since start): 0.026958606861255747\n",
      "Epoch 180 (891 seconds since start): 0.028575190791377273\n",
      "Epoch 181 (896 seconds since start): 0.025593369095413727\n",
      "Epoch 182 (901 seconds since start): 0.02853407683195887\n",
      "Epoch 183 (906 seconds since start): 0.025808687563295678\n",
      "Epoch 184 (911 seconds since start): 0.024447264494719297\n",
      "Epoch 185 (916 seconds since start): 0.028692739981192088\n",
      "Epoch 186 (921 seconds since start): 0.02448131419994209\n",
      "Epoch 187 (926 seconds since start): 0.028852392126012694\n",
      "Epoch 188 (931 seconds since start): 0.026080802634910263\n",
      "Epoch 189 (936 seconds since start): 0.02753957112630204\n",
      "Epoch 190 (941 seconds since start): 0.026716585512514428\n",
      "Epoch 191 (946 seconds since start): 0.028605567084418363\n",
      "Epoch 192 (951 seconds since start): 0.028206719292534682\n",
      "Epoch 193 (955 seconds since start): 0.025398678249782945\n",
      "Epoch 194 (960 seconds since start): 0.026935153537326353\n",
      "Epoch 195 (965 seconds since start): 0.025371551513671837\n",
      "Epoch 196 (971 seconds since start): 0.024972986291955983\n",
      "Epoch 197 (976 seconds since start): 0.024710761176215238\n",
      "Epoch 198 (982 seconds since start): 0.027617277922453668\n",
      "Epoch 199 (987 seconds since start): 0.026595928050853552\n",
      "Epoch 200 (992 seconds since start): 0.025614985713252277\n",
      "Best loss:  0.02576474790219904\n"
     ]
    }
   ],
   "source": [
    "import noisyopt\n",
    "from time import time\n",
    "i, start = 0, time()\n",
    "\n",
    "def callback(loss):\n",
    "    global i\n",
    "    i += 1\n",
    "    print(\"Epoch {} ({:.0f} seconds since start): {}\".format(i, time() - start, loss))\n",
    "\n",
    "result = noisyopt.minimizeSPSA(\n",
    "    loss, model.best_variable, paired=False, callback=callback, niter=200, a=0.2, c=0.1)\n",
    "\n",
    "print(\"Best loss: \", result.fun)"
   ]
  },
  {
   "cell_type": "code",
   "execution_count": 19,
   "metadata": {},
   "outputs": [],
   "source": [
    "results = loss2(result.x)"
   ]
  },
  {
   "cell_type": "code",
   "execution_count": 20,
   "metadata": {},
   "outputs": [
    {
     "output_type": "stream",
     "name": "stdout",
     "text": [
      "0.02576474790219904\n"
     ]
    }
   ],
   "source": [
    "best_loss = result.fun\n",
    "print(best_loss)"
   ]
  },
  {
   "source": [
    "## Save results\n"
   ],
   "cell_type": "markdown",
   "metadata": {}
  },
  {
   "cell_type": "code",
   "execution_count": 21,
   "metadata": {},
   "outputs": [],
   "source": [
    "import datetime, os\n",
    "folder = './experiments/1_qb_model_' + datetime.datetime.now().strftime(\"%Y-%m-%d\")+ \"_best_loss_\" + str(round(best_loss,4))\n",
    "os.makedirs(folder)"
   ]
  },
  {
   "cell_type": "code",
   "execution_count": 22,
   "metadata": {},
   "outputs": [],
   "source": [
    "import json\n",
    "\n",
    "params_nouns, params_amb_verbs = reshape_data(result.x)\n",
    "\n",
    "fiel_path_params_amb_verbs = os.path.join(folder,'parameters_amb_verbs.json')\n",
    "fiel_path_params_unamb_verbs = os.path.join(folder,'parameters_unamb_verbs.json')\n",
    "fiel_path_params_nouns = os.path.join(folder,'params_nouns.json')\n",
    "\n",
    "fiel_path_results = os.path.join(folder,'results.json')\n",
    "\n",
    "with open(fiel_path_params_amb_verbs, 'w') as fp:\n",
    "    json.dump(params_amb_verbs, fp)\n",
    "\n",
    "with open(fiel_path_params_unamb_verbs, 'w') as fp:\n",
    "    json.dump(params_unamb_verbs, fp)\n",
    "\n",
    "with open(fiel_path_params_nouns, 'w') as fp:\n",
    "    json.dump(params_nouns, fp)\n",
    "\n",
    "with open(fiel_path_results, 'w') as fp:\n",
    "    json.dump(results, fp)"
   ]
  },
  {
   "cell_type": "code",
   "execution_count": 23,
   "metadata": {},
   "outputs": [],
   "source": [
    "# save the optimizer evolution steps for animation\n",
    "evolution_genetic = dict()\n",
    "for i, sol in enumerate(model.best_variable_report):\n",
    "    key = \"evo\" + str(i+1)\n",
    "    params_nouns_ev, params_amb_verbs_ev = reshape_data(sol)\n",
    "    evolution_genetic[key] = {\"nouns\": params_nouns_ev, \"amb_verbs\": params_amb_verbs_ev}\n",
    "\n",
    "\n",
    "fiel_path_evolution = os.path.join(folder,'params_evolution_genetic.json')\n",
    "with open(fiel_path_evolution, 'w') as fp:\n",
    "    json.dump(evolution_genetic, fp)"
   ]
  },
  {
   "cell_type": "code",
   "execution_count": 24,
   "metadata": {},
   "outputs": [],
   "source": [
    "# save the optimizer evolution steps for animation\n",
    "evolution_noisy = dict()\n",
    "for sol in result.evo:\n",
    "    params_nouns_ev, params_amb_verbs_ev = reshape_data(result.evo[sol])\n",
    "    evolution_noisy[sol] = {\"nouns\": params_nouns_ev, \"amb_verbs\": params_amb_verbs_ev}\n",
    "\n",
    "evolution_noisy[\"loss\"] = result.loss_arr\n",
    "\n",
    "fiel_path_evolution = os.path.join(folder,'params_evolution_noisy.json')\n",
    "with open(fiel_path_evolution, 'w') as fp:\n",
    "    json.dump(evolution_noisy, fp)"
   ]
  },
  {
   "cell_type": "code",
   "execution_count": null,
   "metadata": {},
   "outputs": [],
   "source": []
  },
  {
   "cell_type": "code",
   "execution_count": null,
   "metadata": {},
   "outputs": [],
   "source": []
  }
 ],
 "metadata": {
  "kernelspec": {
   "name": "pythonjvsc74a57bd0597cb9212bb6505db551d0fa5a39e44e38662ecd79044286d7f1c9c46fe55c66",
   "display_name": "Python 3.8.5  ('venv': venv)"
  },
  "language_info": {
   "codemirror_mode": {
    "name": "ipython",
    "version": 3
   },
   "file_extension": ".py",
   "mimetype": "text/x-python",
   "name": "python",
   "nbconvert_exporter": "python",
   "pygments_lexer": "ipython3",
   "version": "3.8.5"
  },
  "metadata": {
   "interpreter": {
    "hash": "597cb9212bb6505db551d0fa5a39e44e38662ecd79044286d7f1c9c46fe55c66"
   }
  }
 },
 "nbformat": 4,
 "nbformat_minor": 2
}